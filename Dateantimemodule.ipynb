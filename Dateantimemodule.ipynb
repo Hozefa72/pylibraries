{
 "cells": [
  {
   "cell_type": "markdown",
   "id": "0393b3bc",
   "metadata": {},
   "source": [
    "The Pyhton Programming language:Dates and time"
   ]
  },
  {
   "cell_type": "code",
   "execution_count": 1,
   "id": "b6489537",
   "metadata": {},
   "outputs": [],
   "source": [
    "import datetime as dt\n",
    "import time as tm\n",
    "import numpy as np\n",
    "import math"
   ]
  },
  {
   "cell_type": "code",
   "execution_count": 3,
   "id": "306b9e41",
   "metadata": {},
   "outputs": [
    {
     "data": {
      "text/plain": [
       "1675079827.8722017"
      ]
     },
     "execution_count": 3,
     "metadata": {},
     "output_type": "execute_result"
    }
   ],
   "source": [
    "tm.time()"
   ]
  },
  {
   "cell_type": "code",
   "execution_count": 4,
   "id": "ef0a9f82",
   "metadata": {},
   "outputs": [
    {
     "data": {
      "text/plain": [
       "datetime.datetime(2023, 1, 30, 17, 28, 40, 811442)"
      ]
     },
     "execution_count": 4,
     "metadata": {},
     "output_type": "execute_result"
    }
   ],
   "source": [
    "dtnow=dt.datetime.fromtimestamp(tm.time())\n",
    "dtnow"
   ]
  },
  {
   "cell_type": "code",
   "execution_count": 5,
   "id": "845a5d7f",
   "metadata": {},
   "outputs": [
    {
     "data": {
      "text/plain": [
       "2023"
      ]
     },
     "execution_count": 5,
     "metadata": {},
     "output_type": "execute_result"
    }
   ],
   "source": [
    "dtnow.year"
   ]
  },
  {
   "cell_type": "code",
   "execution_count": 6,
   "id": "050e48d4",
   "metadata": {},
   "outputs": [
    {
     "data": {
      "text/plain": [
       "datetime.timedelta(days=100)"
      ]
     },
     "execution_count": 6,
     "metadata": {},
     "output_type": "execute_result"
    }
   ],
   "source": [
    "delta=dt.timedelta(days=100)\n",
    "delta"
   ]
  },
  {
   "cell_type": "code",
   "execution_count": 7,
   "id": "bad7ec6f",
   "metadata": {},
   "outputs": [],
   "source": [
    "today=dt.date.today()"
   ]
  },
  {
   "cell_type": "code",
   "execution_count": 8,
   "id": "ce7fa550",
   "metadata": {},
   "outputs": [
    {
     "data": {
      "text/plain": [
       "datetime.date(2022, 10, 22)"
      ]
     },
     "execution_count": 8,
     "metadata": {},
     "output_type": "execute_result"
    }
   ],
   "source": [
    "today-delta"
   ]
  },
  {
   "cell_type": "code",
   "execution_count": 9,
   "id": "34a3c818",
   "metadata": {},
   "outputs": [
    {
     "data": {
      "text/plain": [
       "True"
      ]
     },
     "execution_count": 9,
     "metadata": {},
     "output_type": "execute_result"
    }
   ],
   "source": [
    "today>today-delta"
   ]
  },
  {
   "cell_type": "markdown",
   "id": "799be686",
   "metadata": {},
   "source": [
    "lambda and list comprehensions"
   ]
  },
  {
   "cell_type": "code",
   "execution_count": 5,
   "id": "e387e1e3",
   "metadata": {},
   "outputs": [
    {
     "data": {
      "text/plain": [
       "3"
      ]
     },
     "execution_count": 5,
     "metadata": {},
     "output_type": "execute_result"
    }
   ],
   "source": [
    "a= lambda a,b,c:a*c\n",
    "a(1,2,3)"
   ]
  },
  {
   "cell_type": "code",
   "execution_count": 6,
   "id": "f4e6a84d",
   "metadata": {},
   "outputs": [
    {
     "data": {
      "text/plain": [
       "[0,\n",
       " 2,\n",
       " 4,\n",
       " 6,\n",
       " 8,\n",
       " 10,\n",
       " 12,\n",
       " 14,\n",
       " 16,\n",
       " 18,\n",
       " 20,\n",
       " 22,\n",
       " 24,\n",
       " 26,\n",
       " 28,\n",
       " 30,\n",
       " 32,\n",
       " 34,\n",
       " 36,\n",
       " 38,\n",
       " 40,\n",
       " 42,\n",
       " 44,\n",
       " 46,\n",
       " 48,\n",
       " 50,\n",
       " 52,\n",
       " 54,\n",
       " 56,\n",
       " 58,\n",
       " 60,\n",
       " 62,\n",
       " 64,\n",
       " 66,\n",
       " 68,\n",
       " 70,\n",
       " 72,\n",
       " 74,\n",
       " 76,\n",
       " 78,\n",
       " 80,\n",
       " 82,\n",
       " 84,\n",
       " 86,\n",
       " 88,\n",
       " 90,\n",
       " 92,\n",
       " 94,\n",
       " 96,\n",
       " 98,\n",
       " 100,\n",
       " 102,\n",
       " 104,\n",
       " 106,\n",
       " 108,\n",
       " 110,\n",
       " 112,\n",
       " 114,\n",
       " 116,\n",
       " 118,\n",
       " 120,\n",
       " 122,\n",
       " 124,\n",
       " 126,\n",
       " 128,\n",
       " 130,\n",
       " 132,\n",
       " 134,\n",
       " 136,\n",
       " 138,\n",
       " 140,\n",
       " 142,\n",
       " 144,\n",
       " 146,\n",
       " 148,\n",
       " 150,\n",
       " 152,\n",
       " 154,\n",
       " 156,\n",
       " 158,\n",
       " 160,\n",
       " 162,\n",
       " 164,\n",
       " 166,\n",
       " 168,\n",
       " 170,\n",
       " 172,\n",
       " 174,\n",
       " 176,\n",
       " 178,\n",
       " 180,\n",
       " 182,\n",
       " 184,\n",
       " 186,\n",
       " 188,\n",
       " 190,\n",
       " 192,\n",
       " 194,\n",
       " 196,\n",
       " 198,\n",
       " 200,\n",
       " 202,\n",
       " 204,\n",
       " 206,\n",
       " 208,\n",
       " 210,\n",
       " 212,\n",
       " 214,\n",
       " 216,\n",
       " 218,\n",
       " 220,\n",
       " 222,\n",
       " 224,\n",
       " 226,\n",
       " 228,\n",
       " 230,\n",
       " 232,\n",
       " 234,\n",
       " 236,\n",
       " 238,\n",
       " 240,\n",
       " 242,\n",
       " 244,\n",
       " 246,\n",
       " 248,\n",
       " 250,\n",
       " 252,\n",
       " 254,\n",
       " 256,\n",
       " 258,\n",
       " 260,\n",
       " 262,\n",
       " 264,\n",
       " 266,\n",
       " 268,\n",
       " 270,\n",
       " 272,\n",
       " 274,\n",
       " 276,\n",
       " 278,\n",
       " 280,\n",
       " 282,\n",
       " 284,\n",
       " 286,\n",
       " 288,\n",
       " 290,\n",
       " 292,\n",
       " 294,\n",
       " 296,\n",
       " 298,\n",
       " 300,\n",
       " 302,\n",
       " 304,\n",
       " 306,\n",
       " 308,\n",
       " 310,\n",
       " 312,\n",
       " 314,\n",
       " 316,\n",
       " 318,\n",
       " 320,\n",
       " 322,\n",
       " 324,\n",
       " 326,\n",
       " 328,\n",
       " 330,\n",
       " 332,\n",
       " 334,\n",
       " 336,\n",
       " 338,\n",
       " 340,\n",
       " 342,\n",
       " 344,\n",
       " 346,\n",
       " 348,\n",
       " 350,\n",
       " 352,\n",
       " 354,\n",
       " 356,\n",
       " 358,\n",
       " 360,\n",
       " 362,\n",
       " 364,\n",
       " 366,\n",
       " 368,\n",
       " 370,\n",
       " 372,\n",
       " 374,\n",
       " 376,\n",
       " 378,\n",
       " 380,\n",
       " 382,\n",
       " 384,\n",
       " 386,\n",
       " 388,\n",
       " 390,\n",
       " 392,\n",
       " 394,\n",
       " 396,\n",
       " 398,\n",
       " 400,\n",
       " 402,\n",
       " 404,\n",
       " 406,\n",
       " 408,\n",
       " 410,\n",
       " 412,\n",
       " 414,\n",
       " 416,\n",
       " 418,\n",
       " 420,\n",
       " 422,\n",
       " 424,\n",
       " 426,\n",
       " 428,\n",
       " 430,\n",
       " 432,\n",
       " 434,\n",
       " 436,\n",
       " 438,\n",
       " 440,\n",
       " 442,\n",
       " 444,\n",
       " 446,\n",
       " 448,\n",
       " 450,\n",
       " 452,\n",
       " 454,\n",
       " 456,\n",
       " 458,\n",
       " 460,\n",
       " 462,\n",
       " 464,\n",
       " 466,\n",
       " 468,\n",
       " 470,\n",
       " 472,\n",
       " 474,\n",
       " 476,\n",
       " 478,\n",
       " 480,\n",
       " 482,\n",
       " 484,\n",
       " 486,\n",
       " 488,\n",
       " 490,\n",
       " 492,\n",
       " 494,\n",
       " 496,\n",
       " 498,\n",
       " 500,\n",
       " 502,\n",
       " 504,\n",
       " 506,\n",
       " 508,\n",
       " 510,\n",
       " 512,\n",
       " 514,\n",
       " 516,\n",
       " 518,\n",
       " 520,\n",
       " 522,\n",
       " 524,\n",
       " 526,\n",
       " 528,\n",
       " 530,\n",
       " 532,\n",
       " 534,\n",
       " 536,\n",
       " 538,\n",
       " 540,\n",
       " 542,\n",
       " 544,\n",
       " 546,\n",
       " 548,\n",
       " 550,\n",
       " 552,\n",
       " 554,\n",
       " 556,\n",
       " 558,\n",
       " 560,\n",
       " 562,\n",
       " 564,\n",
       " 566,\n",
       " 568,\n",
       " 570,\n",
       " 572,\n",
       " 574,\n",
       " 576,\n",
       " 578,\n",
       " 580,\n",
       " 582,\n",
       " 584,\n",
       " 586,\n",
       " 588,\n",
       " 590,\n",
       " 592,\n",
       " 594,\n",
       " 596,\n",
       " 598,\n",
       " 600,\n",
       " 602,\n",
       " 604,\n",
       " 606,\n",
       " 608,\n",
       " 610,\n",
       " 612,\n",
       " 614,\n",
       " 616,\n",
       " 618,\n",
       " 620,\n",
       " 622,\n",
       " 624,\n",
       " 626,\n",
       " 628,\n",
       " 630,\n",
       " 632,\n",
       " 634,\n",
       " 636,\n",
       " 638,\n",
       " 640,\n",
       " 642,\n",
       " 644,\n",
       " 646,\n",
       " 648,\n",
       " 650,\n",
       " 652,\n",
       " 654,\n",
       " 656,\n",
       " 658,\n",
       " 660,\n",
       " 662,\n",
       " 664,\n",
       " 666,\n",
       " 668,\n",
       " 670,\n",
       " 672,\n",
       " 674,\n",
       " 676,\n",
       " 678,\n",
       " 680,\n",
       " 682,\n",
       " 684,\n",
       " 686,\n",
       " 688,\n",
       " 690,\n",
       " 692,\n",
       " 694,\n",
       " 696,\n",
       " 698,\n",
       " 700,\n",
       " 702,\n",
       " 704,\n",
       " 706,\n",
       " 708,\n",
       " 710,\n",
       " 712,\n",
       " 714,\n",
       " 716,\n",
       " 718,\n",
       " 720,\n",
       " 722,\n",
       " 724,\n",
       " 726,\n",
       " 728,\n",
       " 730,\n",
       " 732,\n",
       " 734,\n",
       " 736,\n",
       " 738,\n",
       " 740,\n",
       " 742,\n",
       " 744,\n",
       " 746,\n",
       " 748,\n",
       " 750,\n",
       " 752,\n",
       " 754,\n",
       " 756,\n",
       " 758,\n",
       " 760,\n",
       " 762,\n",
       " 764,\n",
       " 766,\n",
       " 768,\n",
       " 770,\n",
       " 772,\n",
       " 774,\n",
       " 776,\n",
       " 778,\n",
       " 780,\n",
       " 782,\n",
       " 784,\n",
       " 786,\n",
       " 788,\n",
       " 790,\n",
       " 792,\n",
       " 794,\n",
       " 796,\n",
       " 798,\n",
       " 800,\n",
       " 802,\n",
       " 804,\n",
       " 806,\n",
       " 808,\n",
       " 810,\n",
       " 812,\n",
       " 814,\n",
       " 816,\n",
       " 818,\n",
       " 820,\n",
       " 822,\n",
       " 824,\n",
       " 826,\n",
       " 828,\n",
       " 830,\n",
       " 832,\n",
       " 834,\n",
       " 836,\n",
       " 838,\n",
       " 840,\n",
       " 842,\n",
       " 844,\n",
       " 846,\n",
       " 848,\n",
       " 850,\n",
       " 852,\n",
       " 854,\n",
       " 856,\n",
       " 858,\n",
       " 860,\n",
       " 862,\n",
       " 864,\n",
       " 866,\n",
       " 868,\n",
       " 870,\n",
       " 872,\n",
       " 874,\n",
       " 876,\n",
       " 878,\n",
       " 880,\n",
       " 882,\n",
       " 884,\n",
       " 886,\n",
       " 888,\n",
       " 890,\n",
       " 892,\n",
       " 894,\n",
       " 896,\n",
       " 898,\n",
       " 900,\n",
       " 902,\n",
       " 904,\n",
       " 906,\n",
       " 908,\n",
       " 910,\n",
       " 912,\n",
       " 914,\n",
       " 916,\n",
       " 918,\n",
       " 920,\n",
       " 922,\n",
       " 924,\n",
       " 926,\n",
       " 928,\n",
       " 930,\n",
       " 932,\n",
       " 934,\n",
       " 936,\n",
       " 938,\n",
       " 940,\n",
       " 942,\n",
       " 944,\n",
       " 946,\n",
       " 948,\n",
       " 950,\n",
       " 952,\n",
       " 954,\n",
       " 956,\n",
       " 958,\n",
       " 960,\n",
       " 962,\n",
       " 964,\n",
       " 966,\n",
       " 968,\n",
       " 970,\n",
       " 972,\n",
       " 974,\n",
       " 976,\n",
       " 978,\n",
       " 980,\n",
       " 982,\n",
       " 984,\n",
       " 986,\n",
       " 988,\n",
       " 990,\n",
       " 992,\n",
       " 994,\n",
       " 996,\n",
       " 998]"
      ]
     },
     "execution_count": 6,
     "metadata": {},
     "output_type": "execute_result"
    }
   ],
   "source": [
    "list1=[]\n",
    "for a in range(1000):\n",
    "    if a%2==0:\n",
    "        list1.append(a)\n",
    "list1"
   ]
  },
  {
   "cell_type": "code",
   "execution_count": 9,
   "id": "241af41a",
   "metadata": {},
   "outputs": [],
   "source": [
    "list2=[number for number in range(1000) if number%2==0]"
   ]
  },
  {
   "cell_type": "code",
   "execution_count": 10,
   "id": "ca2b0726",
   "metadata": {},
   "outputs": [
    {
     "data": {
      "text/plain": [
       "[0,\n",
       " 2,\n",
       " 4,\n",
       " 6,\n",
       " 8,\n",
       " 10,\n",
       " 12,\n",
       " 14,\n",
       " 16,\n",
       " 18,\n",
       " 20,\n",
       " 22,\n",
       " 24,\n",
       " 26,\n",
       " 28,\n",
       " 30,\n",
       " 32,\n",
       " 34,\n",
       " 36,\n",
       " 38,\n",
       " 40,\n",
       " 42,\n",
       " 44,\n",
       " 46,\n",
       " 48,\n",
       " 50,\n",
       " 52,\n",
       " 54,\n",
       " 56,\n",
       " 58,\n",
       " 60,\n",
       " 62,\n",
       " 64,\n",
       " 66,\n",
       " 68,\n",
       " 70,\n",
       " 72,\n",
       " 74,\n",
       " 76,\n",
       " 78,\n",
       " 80,\n",
       " 82,\n",
       " 84,\n",
       " 86,\n",
       " 88,\n",
       " 90,\n",
       " 92,\n",
       " 94,\n",
       " 96,\n",
       " 98,\n",
       " 100,\n",
       " 102,\n",
       " 104,\n",
       " 106,\n",
       " 108,\n",
       " 110,\n",
       " 112,\n",
       " 114,\n",
       " 116,\n",
       " 118,\n",
       " 120,\n",
       " 122,\n",
       " 124,\n",
       " 126,\n",
       " 128,\n",
       " 130,\n",
       " 132,\n",
       " 134,\n",
       " 136,\n",
       " 138,\n",
       " 140,\n",
       " 142,\n",
       " 144,\n",
       " 146,\n",
       " 148,\n",
       " 150,\n",
       " 152,\n",
       " 154,\n",
       " 156,\n",
       " 158,\n",
       " 160,\n",
       " 162,\n",
       " 164,\n",
       " 166,\n",
       " 168,\n",
       " 170,\n",
       " 172,\n",
       " 174,\n",
       " 176,\n",
       " 178,\n",
       " 180,\n",
       " 182,\n",
       " 184,\n",
       " 186,\n",
       " 188,\n",
       " 190,\n",
       " 192,\n",
       " 194,\n",
       " 196,\n",
       " 198,\n",
       " 200,\n",
       " 202,\n",
       " 204,\n",
       " 206,\n",
       " 208,\n",
       " 210,\n",
       " 212,\n",
       " 214,\n",
       " 216,\n",
       " 218,\n",
       " 220,\n",
       " 222,\n",
       " 224,\n",
       " 226,\n",
       " 228,\n",
       " 230,\n",
       " 232,\n",
       " 234,\n",
       " 236,\n",
       " 238,\n",
       " 240,\n",
       " 242,\n",
       " 244,\n",
       " 246,\n",
       " 248,\n",
       " 250,\n",
       " 252,\n",
       " 254,\n",
       " 256,\n",
       " 258,\n",
       " 260,\n",
       " 262,\n",
       " 264,\n",
       " 266,\n",
       " 268,\n",
       " 270,\n",
       " 272,\n",
       " 274,\n",
       " 276,\n",
       " 278,\n",
       " 280,\n",
       " 282,\n",
       " 284,\n",
       " 286,\n",
       " 288,\n",
       " 290,\n",
       " 292,\n",
       " 294,\n",
       " 296,\n",
       " 298,\n",
       " 300,\n",
       " 302,\n",
       " 304,\n",
       " 306,\n",
       " 308,\n",
       " 310,\n",
       " 312,\n",
       " 314,\n",
       " 316,\n",
       " 318,\n",
       " 320,\n",
       " 322,\n",
       " 324,\n",
       " 326,\n",
       " 328,\n",
       " 330,\n",
       " 332,\n",
       " 334,\n",
       " 336,\n",
       " 338,\n",
       " 340,\n",
       " 342,\n",
       " 344,\n",
       " 346,\n",
       " 348,\n",
       " 350,\n",
       " 352,\n",
       " 354,\n",
       " 356,\n",
       " 358,\n",
       " 360,\n",
       " 362,\n",
       " 364,\n",
       " 366,\n",
       " 368,\n",
       " 370,\n",
       " 372,\n",
       " 374,\n",
       " 376,\n",
       " 378,\n",
       " 380,\n",
       " 382,\n",
       " 384,\n",
       " 386,\n",
       " 388,\n",
       " 390,\n",
       " 392,\n",
       " 394,\n",
       " 396,\n",
       " 398,\n",
       " 400,\n",
       " 402,\n",
       " 404,\n",
       " 406,\n",
       " 408,\n",
       " 410,\n",
       " 412,\n",
       " 414,\n",
       " 416,\n",
       " 418,\n",
       " 420,\n",
       " 422,\n",
       " 424,\n",
       " 426,\n",
       " 428,\n",
       " 430,\n",
       " 432,\n",
       " 434,\n",
       " 436,\n",
       " 438,\n",
       " 440,\n",
       " 442,\n",
       " 444,\n",
       " 446,\n",
       " 448,\n",
       " 450,\n",
       " 452,\n",
       " 454,\n",
       " 456,\n",
       " 458,\n",
       " 460,\n",
       " 462,\n",
       " 464,\n",
       " 466,\n",
       " 468,\n",
       " 470,\n",
       " 472,\n",
       " 474,\n",
       " 476,\n",
       " 478,\n",
       " 480,\n",
       " 482,\n",
       " 484,\n",
       " 486,\n",
       " 488,\n",
       " 490,\n",
       " 492,\n",
       " 494,\n",
       " 496,\n",
       " 498,\n",
       " 500,\n",
       " 502,\n",
       " 504,\n",
       " 506,\n",
       " 508,\n",
       " 510,\n",
       " 512,\n",
       " 514,\n",
       " 516,\n",
       " 518,\n",
       " 520,\n",
       " 522,\n",
       " 524,\n",
       " 526,\n",
       " 528,\n",
       " 530,\n",
       " 532,\n",
       " 534,\n",
       " 536,\n",
       " 538,\n",
       " 540,\n",
       " 542,\n",
       " 544,\n",
       " 546,\n",
       " 548,\n",
       " 550,\n",
       " 552,\n",
       " 554,\n",
       " 556,\n",
       " 558,\n",
       " 560,\n",
       " 562,\n",
       " 564,\n",
       " 566,\n",
       " 568,\n",
       " 570,\n",
       " 572,\n",
       " 574,\n",
       " 576,\n",
       " 578,\n",
       " 580,\n",
       " 582,\n",
       " 584,\n",
       " 586,\n",
       " 588,\n",
       " 590,\n",
       " 592,\n",
       " 594,\n",
       " 596,\n",
       " 598,\n",
       " 600,\n",
       " 602,\n",
       " 604,\n",
       " 606,\n",
       " 608,\n",
       " 610,\n",
       " 612,\n",
       " 614,\n",
       " 616,\n",
       " 618,\n",
       " 620,\n",
       " 622,\n",
       " 624,\n",
       " 626,\n",
       " 628,\n",
       " 630,\n",
       " 632,\n",
       " 634,\n",
       " 636,\n",
       " 638,\n",
       " 640,\n",
       " 642,\n",
       " 644,\n",
       " 646,\n",
       " 648,\n",
       " 650,\n",
       " 652,\n",
       " 654,\n",
       " 656,\n",
       " 658,\n",
       " 660,\n",
       " 662,\n",
       " 664,\n",
       " 666,\n",
       " 668,\n",
       " 670,\n",
       " 672,\n",
       " 674,\n",
       " 676,\n",
       " 678,\n",
       " 680,\n",
       " 682,\n",
       " 684,\n",
       " 686,\n",
       " 688,\n",
       " 690,\n",
       " 692,\n",
       " 694,\n",
       " 696,\n",
       " 698,\n",
       " 700,\n",
       " 702,\n",
       " 704,\n",
       " 706,\n",
       " 708,\n",
       " 710,\n",
       " 712,\n",
       " 714,\n",
       " 716,\n",
       " 718,\n",
       " 720,\n",
       " 722,\n",
       " 724,\n",
       " 726,\n",
       " 728,\n",
       " 730,\n",
       " 732,\n",
       " 734,\n",
       " 736,\n",
       " 738,\n",
       " 740,\n",
       " 742,\n",
       " 744,\n",
       " 746,\n",
       " 748,\n",
       " 750,\n",
       " 752,\n",
       " 754,\n",
       " 756,\n",
       " 758,\n",
       " 760,\n",
       " 762,\n",
       " 764,\n",
       " 766,\n",
       " 768,\n",
       " 770,\n",
       " 772,\n",
       " 774,\n",
       " 776,\n",
       " 778,\n",
       " 780,\n",
       " 782,\n",
       " 784,\n",
       " 786,\n",
       " 788,\n",
       " 790,\n",
       " 792,\n",
       " 794,\n",
       " 796,\n",
       " 798,\n",
       " 800,\n",
       " 802,\n",
       " 804,\n",
       " 806,\n",
       " 808,\n",
       " 810,\n",
       " 812,\n",
       " 814,\n",
       " 816,\n",
       " 818,\n",
       " 820,\n",
       " 822,\n",
       " 824,\n",
       " 826,\n",
       " 828,\n",
       " 830,\n",
       " 832,\n",
       " 834,\n",
       " 836,\n",
       " 838,\n",
       " 840,\n",
       " 842,\n",
       " 844,\n",
       " 846,\n",
       " 848,\n",
       " 850,\n",
       " 852,\n",
       " 854,\n",
       " 856,\n",
       " 858,\n",
       " 860,\n",
       " 862,\n",
       " 864,\n",
       " 866,\n",
       " 868,\n",
       " 870,\n",
       " 872,\n",
       " 874,\n",
       " 876,\n",
       " 878,\n",
       " 880,\n",
       " 882,\n",
       " 884,\n",
       " 886,\n",
       " 888,\n",
       " 890,\n",
       " 892,\n",
       " 894,\n",
       " 896,\n",
       " 898,\n",
       " 900,\n",
       " 902,\n",
       " 904,\n",
       " 906,\n",
       " 908,\n",
       " 910,\n",
       " 912,\n",
       " 914,\n",
       " 916,\n",
       " 918,\n",
       " 920,\n",
       " 922,\n",
       " 924,\n",
       " 926,\n",
       " 928,\n",
       " 930,\n",
       " 932,\n",
       " 934,\n",
       " 936,\n",
       " 938,\n",
       " 940,\n",
       " 942,\n",
       " 944,\n",
       " 946,\n",
       " 948,\n",
       " 950,\n",
       " 952,\n",
       " 954,\n",
       " 956,\n",
       " 958,\n",
       " 960,\n",
       " 962,\n",
       " 964,\n",
       " 966,\n",
       " 968,\n",
       " 970,\n",
       " 972,\n",
       " 974,\n",
       " 976,\n",
       " 978,\n",
       " 980,\n",
       " 982,\n",
       " 984,\n",
       " 986,\n",
       " 988,\n",
       " 990,\n",
       " 992,\n",
       " 994,\n",
       " 996,\n",
       " 998]"
      ]
     },
     "execution_count": 10,
     "metadata": {},
     "output_type": "execute_result"
    }
   ],
   "source": [
    "list2"
   ]
  },
  {
   "cell_type": "code",
   "execution_count": 11,
   "id": "7a4e5ac1",
   "metadata": {},
   "outputs": [],
   "source": [
    "tup1=()"
   ]
  },
  {
   "cell_type": "code",
   "execution_count": 12,
   "id": "f1c54310",
   "metadata": {},
   "outputs": [
    {
     "data": {
      "text/plain": [
       "()"
      ]
     },
     "execution_count": 12,
     "metadata": {},
     "output_type": "execute_result"
    }
   ],
   "source": [
    "tup1"
   ]
  },
  {
   "cell_type": "code",
   "execution_count": 16,
   "id": "8c9ad430",
   "metadata": {},
   "outputs": [
    {
     "ename": "AttributeError",
     "evalue": "'tuple' object has no attribute 'append'",
     "output_type": "error",
     "traceback": [
      "\u001b[1;31m---------------------------------------------------------------------------\u001b[0m",
      "\u001b[1;31mAttributeError\u001b[0m                            Traceback (most recent call last)",
      "Cell \u001b[1;32mIn[16], line 2\u001b[0m\n\u001b[0;32m      1\u001b[0m \u001b[38;5;28;01mfor\u001b[39;00m i \u001b[38;5;129;01min\u001b[39;00m \u001b[38;5;28mrange\u001b[39m(\u001b[38;5;241m100\u001b[39m):\n\u001b[1;32m----> 2\u001b[0m     \u001b[43mtup1\u001b[49m\u001b[38;5;241;43m.\u001b[39;49m\u001b[43mappend\u001b[49m(i)\n\u001b[0;32m      3\u001b[0m \u001b[38;5;66;03m#will give an error because tuple is immutable\u001b[39;00m\n",
      "\u001b[1;31mAttributeError\u001b[0m: 'tuple' object has no attribute 'append'"
     ]
    }
   ],
   "source": [
    "for i in range(100):\n",
    "    tup1.append(i)\n",
    "#will give an error because tuple is immutable"
   ]
  },
  {
   "cell_type": "code",
   "execution_count": 2,
   "id": "2b3021c4",
   "metadata": {},
   "outputs": [
    {
     "data": {
      "text/plain": [
       "array([1, 2, 3])"
      ]
     },
     "execution_count": 2,
     "metadata": {},
     "output_type": "execute_result"
    }
   ],
   "source": [
    "p=np.array([1,2,3])\n",
    "p"
   ]
  },
  {
   "cell_type": "code",
   "execution_count": 3,
   "id": "443a3ed2",
   "metadata": {},
   "outputs": [
    {
     "data": {
      "text/plain": [
       "1"
      ]
     },
     "execution_count": 3,
     "metadata": {},
     "output_type": "execute_result"
    }
   ],
   "source": [
    "p.ndim"
   ]
  },
  {
   "cell_type": "code",
   "execution_count": 22,
   "id": "40acf799",
   "metadata": {},
   "outputs": [],
   "source": [
    "p1=np.array([[1,2,3],[4,5,6]],np.int64)"
   ]
  },
  {
   "cell_type": "code",
   "execution_count": 23,
   "id": "12c95af9",
   "metadata": {},
   "outputs": [
    {
     "data": {
      "text/plain": [
       "array([[1, 2, 3],\n",
       "       [4, 5, 6]], dtype=int64)"
      ]
     },
     "execution_count": 23,
     "metadata": {},
     "output_type": "execute_result"
    }
   ],
   "source": [
    "p1"
   ]
  },
  {
   "cell_type": "code",
   "execution_count": 24,
   "id": "66ec93b0",
   "metadata": {},
   "outputs": [
    {
     "data": {
      "text/plain": [
       "(2, 3)"
      ]
     },
     "execution_count": 24,
     "metadata": {},
     "output_type": "execute_result"
    }
   ],
   "source": [
    "p1.shape"
   ]
  },
  {
   "cell_type": "code",
   "execution_count": 25,
   "id": "547a5b50",
   "metadata": {},
   "outputs": [
    {
     "data": {
      "text/plain": [
       "2"
      ]
     },
     "execution_count": 25,
     "metadata": {},
     "output_type": "execute_result"
    }
   ],
   "source": [
    "p1.ndim"
   ]
  },
  {
   "cell_type": "code",
   "execution_count": 26,
   "id": "18a6a661",
   "metadata": {},
   "outputs": [
    {
     "data": {
      "text/plain": [
       "dtype('int64')"
      ]
     },
     "execution_count": 26,
     "metadata": {},
     "output_type": "execute_result"
    }
   ],
   "source": [
    "p1.dtype"
   ]
  },
  {
   "cell_type": "code",
   "execution_count": 5,
   "id": "83f78366",
   "metadata": {},
   "outputs": [],
   "source": [
    "a=np.zeros((2,4))\n",
    "a\n",
    "b=np.ones((2,4))\n"
   ]
  },
  {
   "cell_type": "code",
   "execution_count": 6,
   "id": "2737e453",
   "metadata": {},
   "outputs": [
    {
     "data": {
      "text/plain": [
       "array([[1., 1., 1., 1.],\n",
       "       [1., 1., 1., 1.]])"
      ]
     },
     "execution_count": 6,
     "metadata": {},
     "output_type": "execute_result"
    }
   ],
   "source": [
    "b"
   ]
  },
  {
   "cell_type": "code",
   "execution_count": 7,
   "id": "69c2e1c4",
   "metadata": {},
   "outputs": [
    {
     "data": {
      "text/plain": [
       "array([[0., 0., 0., 0.],\n",
       "       [0., 0., 0., 0.]])"
      ]
     },
     "execution_count": 7,
     "metadata": {},
     "output_type": "execute_result"
    }
   ],
   "source": [
    "a"
   ]
  },
  {
   "cell_type": "code",
   "execution_count": 8,
   "id": "73534fb8",
   "metadata": {},
   "outputs": [],
   "source": [
    "c=np.empty((2,5))"
   ]
  },
  {
   "cell_type": "code",
   "execution_count": 9,
   "id": "e0b9abc1",
   "metadata": {},
   "outputs": [
    {
     "data": {
      "text/plain": [
       "array([[6.23042070e-307, 4.67296746e-307, 1.69121096e-306,\n",
       "        1.29061074e-306, 1.89146896e-307],\n",
       "       [7.56571288e-307, 3.11525958e-307, 1.24610723e-306,\n",
       "        1.29061142e-306, 2.44524090e-154]])"
      ]
     },
     "execution_count": 9,
     "metadata": {},
     "output_type": "execute_result"
    }
   ],
   "source": [
    "c"
   ]
  },
  {
   "cell_type": "code",
   "execution_count": 11,
   "id": "71aaa926",
   "metadata": {},
   "outputs": [],
   "source": [
    "d=np.arange(1,100)"
   ]
  },
  {
   "cell_type": "code",
   "execution_count": 12,
   "id": "20293118",
   "metadata": {},
   "outputs": [
    {
     "data": {
      "text/plain": [
       "array([ 1,  2,  3,  4,  5,  6,  7,  8,  9, 10, 11, 12, 13, 14, 15, 16, 17,\n",
       "       18, 19, 20, 21, 22, 23, 24, 25, 26, 27, 28, 29, 30, 31, 32, 33, 34,\n",
       "       35, 36, 37, 38, 39, 40, 41, 42, 43, 44, 45, 46, 47, 48, 49, 50, 51,\n",
       "       52, 53, 54, 55, 56, 57, 58, 59, 60, 61, 62, 63, 64, 65, 66, 67, 68,\n",
       "       69, 70, 71, 72, 73, 74, 75, 76, 77, 78, 79, 80, 81, 82, 83, 84, 85,\n",
       "       86, 87, 88, 89, 90, 91, 92, 93, 94, 95, 96, 97, 98, 99])"
      ]
     },
     "execution_count": 12,
     "metadata": {},
     "output_type": "execute_result"
    }
   ],
   "source": [
    "d"
   ]
  },
  {
   "cell_type": "code",
   "execution_count": 15,
   "id": "d0b62152",
   "metadata": {},
   "outputs": [],
   "source": [
    "even=np.arange(2,100,2)"
   ]
  },
  {
   "cell_type": "code",
   "execution_count": 16,
   "id": "f44fabef",
   "metadata": {},
   "outputs": [
    {
     "data": {
      "text/plain": [
       "array([ 2,  4,  6,  8, 10, 12, 14, 16, 18, 20, 22, 24, 26, 28, 30, 32, 34,\n",
       "       36, 38, 40, 42, 44, 46, 48, 50, 52, 54, 56, 58, 60, 62, 64, 66, 68,\n",
       "       70, 72, 74, 76, 78, 80, 82, 84, 86, 88, 90, 92, 94, 96, 98])"
      ]
     },
     "execution_count": 16,
     "metadata": {},
     "output_type": "execute_result"
    }
   ],
   "source": [
    "even"
   ]
  },
  {
   "cell_type": "code",
   "execution_count": 17,
   "id": "7a6dcd80",
   "metadata": {},
   "outputs": [],
   "source": [
    "h=np.linspace(0,2,15)"
   ]
  },
  {
   "cell_type": "code",
   "execution_count": 18,
   "id": "c14dd5f8",
   "metadata": {},
   "outputs": [
    {
     "data": {
      "text/plain": [
       "array([0.        , 0.14285714, 0.28571429, 0.42857143, 0.57142857,\n",
       "       0.71428571, 0.85714286, 1.        , 1.14285714, 1.28571429,\n",
       "       1.42857143, 1.57142857, 1.71428571, 1.85714286, 2.        ])"
      ]
     },
     "execution_count": 18,
     "metadata": {},
     "output_type": "execute_result"
    }
   ],
   "source": [
    "h"
   ]
  },
  {
   "cell_type": "code",
   "execution_count": 22,
   "id": "e9538897",
   "metadata": {},
   "outputs": [
    {
     "data": {
      "text/plain": [
       "array([ 33,  45,  66, -44,   0,  -2, -30])"
      ]
     },
     "execution_count": 22,
     "metadata": {},
     "output_type": "execute_result"
    }
   ],
   "source": [
    "f=np.array([33,45,66,-44,0,-2,-30])\n",
    "f"
   ]
  },
  {
   "cell_type": "code",
   "execution_count": 23,
   "id": "9aa705b1",
   "metadata": {},
   "outputs": [
    {
     "data": {
      "text/plain": [
       "array([  0.55555556,   7.22222222,  18.88888889, -42.22222222,\n",
       "       -17.77777778, -18.88888889, -34.44444444])"
      ]
     },
     "execution_count": 23,
     "metadata": {},
     "output_type": "execute_result"
    }
   ],
   "source": [
    "c=(f-32)*(5/9)\n",
    "c"
   ]
  },
  {
   "cell_type": "code",
   "execution_count": 24,
   "id": "1cc0714d",
   "metadata": {},
   "outputs": [
    {
     "data": {
      "text/plain": [
       "array([ True,  True,  True, False, False, False, False])"
      ]
     },
     "execution_count": 24,
     "metadata": {},
     "output_type": "execute_result"
    }
   ],
   "source": [
    "c>-10"
   ]
  },
  {
   "cell_type": "code",
   "execution_count": 25,
   "id": "39612582",
   "metadata": {},
   "outputs": [],
   "source": [
    "even=np.arange(100)"
   ]
  },
  {
   "cell_type": "code",
   "execution_count": 26,
   "id": "46b0f943",
   "metadata": {},
   "outputs": [
    {
     "data": {
      "text/plain": [
       "array([[ 0,  1,  2,  3,  4,  5,  6,  7,  8,  9, 10, 11, 12, 13, 14, 15,\n",
       "        16, 17, 18, 19, 20, 21, 22, 23, 24, 25, 26, 27, 28, 29, 30, 31,\n",
       "        32, 33, 34, 35, 36, 37, 38, 39, 40, 41, 42, 43, 44, 45, 46, 47,\n",
       "        48, 49],\n",
       "       [50, 51, 52, 53, 54, 55, 56, 57, 58, 59, 60, 61, 62, 63, 64, 65,\n",
       "        66, 67, 68, 69, 70, 71, 72, 73, 74, 75, 76, 77, 78, 79, 80, 81,\n",
       "        82, 83, 84, 85, 86, 87, 88, 89, 90, 91, 92, 93, 94, 95, 96, 97,\n",
       "        98, 99]])"
      ]
     },
     "execution_count": 26,
     "metadata": {},
     "output_type": "execute_result"
    }
   ],
   "source": [
    "even.reshape(2,50)"
   ]
  },
  {
   "cell_type": "code",
   "execution_count": 27,
   "id": "b669557c",
   "metadata": {},
   "outputs": [
    {
     "data": {
      "text/plain": [
       "array([ True, False,  True, False,  True, False,  True, False,  True,\n",
       "       False,  True, False,  True, False,  True, False,  True, False,\n",
       "        True, False,  True, False,  True, False,  True, False,  True,\n",
       "       False,  True, False,  True, False,  True, False,  True, False,\n",
       "        True, False,  True, False,  True, False,  True, False,  True,\n",
       "       False,  True, False,  True, False,  True, False,  True, False,\n",
       "        True, False,  True, False,  True, False,  True, False,  True,\n",
       "       False,  True, False,  True, False,  True, False,  True, False,\n",
       "        True, False,  True, False,  True, False,  True, False,  True,\n",
       "       False,  True, False,  True, False,  True, False,  True, False,\n",
       "        True, False,  True, False,  True, False,  True, False,  True,\n",
       "       False])"
      ]
     },
     "execution_count": 27,
     "metadata": {},
     "output_type": "execute_result"
    }
   ],
   "source": [
    "even%2==0"
   ]
  },
  {
   "cell_type": "code",
   "execution_count": 37,
   "id": "9802f6b5",
   "metadata": {},
   "outputs": [],
   "source": [
    "for i in even.flat:\n",
    "    if(i%2==0):\n",
    "        even1=np.array([i])"
   ]
  },
  {
   "cell_type": "code",
   "execution_count": 38,
   "id": "6307887c",
   "metadata": {},
   "outputs": [
    {
     "data": {
      "text/plain": [
       "array([98])"
      ]
     },
     "execution_count": 38,
     "metadata": {},
     "output_type": "execute_result"
    }
   ],
   "source": [
    "even1"
   ]
  },
  {
   "cell_type": "code",
   "execution_count": 64,
   "id": "ec26a965",
   "metadata": {},
   "outputs": [],
   "source": [
    "matrix1=np.array([[7,8,9],[0,1,2],[1,2,3]])\n",
    "matrix2=np.array([[5.4,4.6,6.7],[1.1,0.3,3.5],[0.6,0.78,6.9]])\n",
    "matrix3=matrix1@matrix2"
   ]
  },
  {
   "cell_type": "code",
   "execution_count": 65,
   "id": "fcbdb5a1",
   "metadata": {},
   "outputs": [
    {
     "data": {
      "text/plain": [
       "(3, 3)"
      ]
     },
     "execution_count": 65,
     "metadata": {},
     "output_type": "execute_result"
    }
   ],
   "source": [
    "matrix3.shape"
   ]
  },
  {
   "cell_type": "code",
   "execution_count": 66,
   "id": "1905bb6b",
   "metadata": {},
   "outputs": [
    {
     "data": {
      "text/plain": [
       "array([[ 52.  ,  41.62, 137.  ],\n",
       "       [  2.3 ,   1.86,  17.3 ],\n",
       "       [  9.4 ,   7.54,  34.4 ]])"
      ]
     },
     "execution_count": 66,
     "metadata": {},
     "output_type": "execute_result"
    }
   ],
   "source": [
    "matrix3"
   ]
  },
  {
   "cell_type": "code",
   "execution_count": 67,
   "id": "0df4b83d",
   "metadata": {},
   "outputs": [
    {
     "data": {
      "text/plain": [
       "dtype('float64')"
      ]
     },
     "execution_count": 67,
     "metadata": {},
     "output_type": "execute_result"
    }
   ],
   "source": [
    "matrix2.dtype"
   ]
  },
  {
   "cell_type": "code",
   "execution_count": 68,
   "id": "95aed5f9",
   "metadata": {},
   "outputs": [
    {
     "data": {
      "text/plain": [
       "dtype('float64')"
      ]
     },
     "execution_count": 68,
     "metadata": {},
     "output_type": "execute_result"
    }
   ],
   "source": [
    "matrix3.dtype"
   ]
  },
  {
   "cell_type": "code",
   "execution_count": 69,
   "id": "c81f60fc",
   "metadata": {},
   "outputs": [
    {
     "data": {
      "text/plain": [
       "dtype('int32')"
      ]
     },
     "execution_count": 69,
     "metadata": {},
     "output_type": "execute_result"
    }
   ],
   "source": [
    "matrix1.dtype"
   ]
  },
  {
   "cell_type": "code",
   "execution_count": 70,
   "id": "a5c7c899",
   "metadata": {},
   "outputs": [
    {
     "data": {
      "text/plain": [
       "9"
      ]
     },
     "execution_count": 70,
     "metadata": {},
     "output_type": "execute_result"
    }
   ],
   "source": [
    "matrix3.size"
   ]
  },
  {
   "cell_type": "code",
   "execution_count": 71,
   "id": "4e5a16e2",
   "metadata": {},
   "outputs": [
    {
     "data": {
      "text/plain": [
       "72"
      ]
     },
     "execution_count": 71,
     "metadata": {},
     "output_type": "execute_result"
    }
   ],
   "source": [
    "matrix3.nbytes"
   ]
  },
  {
   "cell_type": "code",
   "execution_count": 73,
   "id": "05a97076",
   "metadata": {},
   "outputs": [
    {
     "data": {
      "text/plain": [
       "72"
      ]
     },
     "execution_count": 73,
     "metadata": {},
     "output_type": "execute_result"
    }
   ],
   "source": [
    "matrix3.size*matrix3.itemsize"
   ]
  },
  {
   "cell_type": "code",
   "execution_count": 21,
   "id": "ce536ebf",
   "metadata": {},
   "outputs": [
    {
     "ename": "NameError",
     "evalue": "name 'np' is not defined",
     "output_type": "error",
     "traceback": [
      "\u001b[1;31m---------------------------------------------------------------------------\u001b[0m",
      "\u001b[1;31mNameError\u001b[0m                                 Traceback (most recent call last)",
      "Cell \u001b[1;32mIn[21], line 1\u001b[0m\n\u001b[1;32m----> 1\u001b[0m array1\u001b[38;5;241m=\u001b[39m\u001b[43mnp\u001b[49m\u001b[38;5;241m.\u001b[39marange(\u001b[38;5;241m1\u001b[39m,\u001b[38;5;241m16\u001b[39m)\n\u001b[0;32m      2\u001b[0m array1\u001b[38;5;241m=\u001b[39marray1\u001b[38;5;241m.\u001b[39mreshape(\u001b[38;5;241m3\u001b[39m,\u001b[38;5;241m5\u001b[39m)\n",
      "\u001b[1;31mNameError\u001b[0m: name 'np' is not defined"
     ]
    }
   ],
   "source": [
    "array1=np.arange(1,16)\n",
    "array1=array1.reshape(3,5)"
   ]
  },
  {
   "cell_type": "code",
   "execution_count": 77,
   "id": "fa82d05f",
   "metadata": {},
   "outputs": [
    {
     "data": {
      "text/plain": [
       "array([[ 1,  2,  3,  4,  5],\n",
       "       [ 6,  7,  8,  9, 10],\n",
       "       [11, 12, 13, 14, 15]])"
      ]
     },
     "execution_count": 77,
     "metadata": {},
     "output_type": "execute_result"
    }
   ],
   "source": [
    "array1"
   ]
  },
  {
   "cell_type": "code",
   "execution_count": 78,
   "id": "3e1d604b",
   "metadata": {},
   "outputs": [
    {
     "ename": "ModuleNotFoundError",
     "evalue": "No module named 'PIL'",
     "output_type": "error",
     "traceback": [
      "\u001b[1;31m---------------------------------------------------------------------------\u001b[0m",
      "\u001b[1;31mModuleNotFoundError\u001b[0m                       Traceback (most recent call last)",
      "Cell \u001b[1;32mIn[78], line 1\u001b[0m\n\u001b[1;32m----> 1\u001b[0m \u001b[38;5;28;01mfrom\u001b[39;00m \u001b[38;5;21;01mPIL\u001b[39;00m \u001b[38;5;28;01mimport\u001b[39;00m image\n\u001b[0;32m      2\u001b[0m \u001b[38;5;28;01mfrom\u001b[39;00m \u001b[38;5;21;01mIPython\u001b[39;00m\u001b[38;5;21;01m.\u001b[39;00m\u001b[38;5;21;01mdisplay\u001b[39;00m \u001b[38;5;28;01mimport\u001b[39;00m display\n\u001b[0;32m      3\u001b[0m im\u001b[38;5;241m=\u001b[39mimage\u001b[38;5;241m.\u001b[39mopen(\u001b[38;5;124m'\u001b[39m\u001b[38;5;124mchris.tiff\u001b[39m\u001b[38;5;124m'\u001b[39m)\n",
      "\u001b[1;31mModuleNotFoundError\u001b[0m: No module named 'PIL'"
     ]
    }
   ],
   "source": [
    "from PIL import image\n",
    "from IPython.display import display\n",
    "im=image.open('chris.tiff')\n",
    "diplay(im)"
   ]
  },
  {
   "cell_type": "code",
   "execution_count": 5,
   "id": "2e4b3504",
   "metadata": {},
   "outputs": [],
   "source": [
    "import PIL"
   ]
  },
  {
   "cell_type": "code",
   "execution_count": 20,
   "id": "08febfa3",
   "metadata": {},
   "outputs": [
    {
     "ename": "ValueError",
     "evalue": "bad mode 'rb'",
     "output_type": "error",
     "traceback": [
      "\u001b[1;31m---------------------------------------------------------------------------\u001b[0m",
      "\u001b[1;31mValueError\u001b[0m                                Traceback (most recent call last)",
      "Cell \u001b[1;32mIn[20], line 3\u001b[0m\n\u001b[0;32m      1\u001b[0m \u001b[38;5;28;01mfrom\u001b[39;00m \u001b[38;5;21;01mPIL\u001b[39;00m \u001b[38;5;28;01mimport\u001b[39;00m Image\n\u001b[0;32m      2\u001b[0m \u001b[38;5;28;01mfrom\u001b[39;00m \u001b[38;5;21;01mIPython\u001b[39;00m\u001b[38;5;21;01m.\u001b[39;00m\u001b[38;5;21;01mdisplay\u001b[39;00m \u001b[38;5;28;01mimport\u001b[39;00m display\n\u001b[1;32m----> 3\u001b[0m im\u001b[38;5;241m=\u001b[39m \u001b[43mImage\u001b[49m\u001b[38;5;241;43m.\u001b[39;49m\u001b[43mopen\u001b[49m\u001b[43m(\u001b[49m\u001b[38;5;124;43m'\u001b[39;49m\u001b[38;5;124;43mIMG_0070.JPG\u001b[39;49m\u001b[38;5;124;43m'\u001b[39;49m\u001b[43m,\u001b[49m\u001b[38;5;124;43m\"\u001b[39;49m\u001b[38;5;124;43mrb\u001b[39;49m\u001b[38;5;124;43m\"\u001b[39;49m\u001b[43m)\u001b[49m\n\u001b[0;32m      4\u001b[0m diplay(im)\n",
      "File \u001b[1;32m~\\AppData\\Local\\Programs\\Python\\Python311\\Lib\\site-packages\\PIL\\Image.py:3205\u001b[0m, in \u001b[0;36mopen\u001b[1;34m(fp, mode, formats)\u001b[0m\n\u001b[0;32m   3203\u001b[0m \u001b[38;5;28;01mif\u001b[39;00m mode \u001b[38;5;241m!=\u001b[39m \u001b[38;5;124m\"\u001b[39m\u001b[38;5;124mr\u001b[39m\u001b[38;5;124m\"\u001b[39m:\n\u001b[0;32m   3204\u001b[0m     msg \u001b[38;5;241m=\u001b[39m \u001b[38;5;124mf\u001b[39m\u001b[38;5;124m\"\u001b[39m\u001b[38;5;124mbad mode \u001b[39m\u001b[38;5;132;01m{\u001b[39;00m\u001b[38;5;28mrepr\u001b[39m(mode)\u001b[38;5;132;01m}\u001b[39;00m\u001b[38;5;124m\"\u001b[39m\n\u001b[1;32m-> 3205\u001b[0m     \u001b[38;5;28;01mraise\u001b[39;00m \u001b[38;5;167;01mValueError\u001b[39;00m(msg)\n\u001b[0;32m   3206\u001b[0m \u001b[38;5;28;01melif\u001b[39;00m \u001b[38;5;28misinstance\u001b[39m(fp, io\u001b[38;5;241m.\u001b[39mStringIO):\n\u001b[0;32m   3207\u001b[0m     msg \u001b[38;5;241m=\u001b[39m (\n\u001b[0;32m   3208\u001b[0m         \u001b[38;5;124m\"\u001b[39m\u001b[38;5;124mStringIO cannot be used to open an image. \u001b[39m\u001b[38;5;124m\"\u001b[39m\n\u001b[0;32m   3209\u001b[0m         \u001b[38;5;124m\"\u001b[39m\u001b[38;5;124mBinary data must be used instead.\u001b[39m\u001b[38;5;124m\"\u001b[39m\n\u001b[0;32m   3210\u001b[0m     )\n",
      "\u001b[1;31mValueError\u001b[0m: bad mode 'rb'"
     ]
    }
   ],
   "source": [
    "from PIL import Image\n",
    "from IPython.display import display\n",
    "im= Image.open('IMG_0070.JPG',\"rb\")\n",
    "diplay(im)"
   ]
  },
  {
   "cell_type": "markdown",
   "id": "13aa55f6",
   "metadata": {},
   "source": [
    "Boolean indexing"
   ]
  },
  {
   "cell_type": "code",
   "execution_count": 3,
   "id": "e033d786",
   "metadata": {},
   "outputs": [
    {
     "name": "stdout",
     "output_type": "stream",
     "text": [
      "[[False False False]\n",
      " [False False  True]]\n"
     ]
    }
   ],
   "source": [
    "a=np.array([[1,2,3],[4,5,6]])\n",
    "print(a>5)"
   ]
  },
  {
   "cell_type": "code",
   "execution_count": 4,
   "id": "ec678941",
   "metadata": {},
   "outputs": [
    {
     "name": "stdout",
     "output_type": "stream",
     "text": [
      "[6]\n"
     ]
    }
   ],
   "source": [
    "print(a[a>5])"
   ]
  },
  {
   "cell_type": "markdown",
   "id": "9ccbf050",
   "metadata": {},
   "source": [
    "slicing\n"
   ]
  },
  {
   "cell_type": "code",
   "execution_count": 12,
   "id": "0c1fca24",
   "metadata": {},
   "outputs": [
    {
     "data": {
      "text/plain": [
       "array([[2, 3],\n",
       "       [5, 6]])"
      ]
     },
     "execution_count": 12,
     "metadata": {},
     "output_type": "execute_result"
    }
   ],
   "source": [
    "array=np.array([[1,2,3],[4,5,6],[7,8,9]])\n",
    "array[0:2,1:3]"
   ]
  },
  {
   "cell_type": "code",
   "execution_count": 13,
   "id": "b1bbb618",
   "metadata": {},
   "outputs": [
    {
     "name": "stdout",
     "output_type": "stream",
     "text": [
      "2\n",
      "50\n",
      "2\n"
     ]
    }
   ],
   "source": [
    "\n",
    "subarray=(array[0:2,1:3])\n",
    "print(subarray[0,0])\n",
    "subarray[0,0]=50\n",
    "print(subarray[0,0])\n",
    "print(a[0,1])"
   ]
  },
  {
   "cell_type": "code",
   "execution_count": 14,
   "id": "6818f6ab",
   "metadata": {},
   "outputs": [
    {
     "data": {
      "text/plain": [
       "array([[  1.,  nan,  nan, ...,  45.,   1.,  nan],\n",
       "       [  2.,  nan,  nan, ...,  60.,   1.,  nan],\n",
       "       [  3.,  nan,  nan, ...,  80.,   1.,  nan],\n",
       "       ...,\n",
       "       [720.,  nan,  nan, ...,  70.,   6.,  nan],\n",
       "       [720.,  nan,  nan, ...,  80.,   6.,  nan],\n",
       "       [721.,  nan,  nan, ...,  70.,   6.,  nan]])"
      ]
     },
     "execution_count": 14,
     "metadata": {},
     "output_type": "execute_result"
    }
   ],
   "source": [
    "pokemon=np.genfromtxt('pokemon_data.csv',delimiter=\",\",skip_header=1)\n",
    "pokemon"
   ]
  },
  {
   "cell_type": "code",
   "execution_count": 15,
   "id": "b6fb7fe0",
   "metadata": {},
   "outputs": [
    {
     "data": {
      "text/plain": [
       "(800, 12)"
      ]
     },
     "execution_count": 15,
     "metadata": {},
     "output_type": "execute_result"
    }
   ],
   "source": [
    "pokemon.shape"
   ]
  },
  {
   "cell_type": "code",
   "execution_count": 16,
   "id": "e2bb50ac",
   "metadata": {},
   "outputs": [
    {
     "name": "stdout",
     "output_type": "stream",
     "text": [
      "[  1.   2.   3.   3.   4.   5.   6.   6.   6.   7.   8.   9.   9.  10.\n",
      "  11.  12.  13.  14.  15.  15.  16.  17.  18.  18.  19.  20.  21.  22.\n",
      "  23.  24.  25.  26.  27.  28.  29.  30.  31.  32.  33.  34.  35.  36.\n",
      "  37.  38.  39.  40.  41.  42.  43.  44.  45.  46.  47.  48.  49.  50.\n",
      "  51.  52.  53.  54.  55.  56.  57.  58.  59.  60.  61.  62.  63.  64.\n",
      "  65.  65.  66.  67.  68.  69.  70.  71.  72.  73.  74.  75.  76.  77.\n",
      "  78.  79.  80.  80.  81.  82.  83.  84.  85.  86.  87.  88.  89.  90.\n",
      "  91.  92.  93.  94.  94.  95.  96.  97.  98.  99. 100. 101. 102. 103.\n",
      " 104. 105. 106. 107. 108. 109. 110. 111. 112. 113. 114. 115. 115. 116.\n",
      " 117. 118. 119. 120. 121. 122. 123. 124. 125. 126. 127. 127. 128. 129.\n",
      " 130. 130. 131. 132. 133. 134. 135. 136. 137. 138. 139. 140. 141. 142.\n",
      " 142. 143. 144. 145. 146. 147. 148. 149. 150. 150. 150. 151. 152. 153.\n",
      " 154. 155. 156. 157. 158. 159. 160. 161. 162. 163. 164. 165. 166. 167.\n",
      " 168. 169. 170. 171. 172. 173. 174. 175. 176. 177. 178. 179. 180. 181.\n",
      " 181. 182. 183. 184. 185. 186. 187. 188. 189. 190. 191. 192. 193. 194.\n",
      " 195. 196. 197. 198. 199. 200. 201. 202. 203. 204. 205. 206. 207. 208.\n",
      " 208. 209. 210. 211. 212. 212. 213. 214. 214. 215. 216. 217. 218. 219.\n",
      " 220. 221. 222. 223. 224. 225. 226. 227. 228. 229. 229. 230. 231. 232.\n",
      " 233. 234. 235. 236. 237. 238. 239. 240. 241. 242. 243. 244. 245. 246.\n",
      " 247. 248. 248. 249. 250. 251. 252. 253. 254. 254. 255. 256. 257. 257.\n",
      " 258. 259. 260. 260. 261. 262. 263. 264. 265. 266. 267. 268. 269. 270.\n",
      " 271. 272. 273. 274. 275. 276. 277. 278. 279. 280. 281. 282. 282. 283.\n",
      " 284. 285. 286. 287. 288. 289. 290. 291. 292. 293. 294. 295. 296. 297.\n",
      " 298. 299. 300. 301. 302. 302. 303. 303. 304. 305. 306. 306. 307. 308.\n",
      " 308. 309. 310. 310. 311. 312. 313. 314. 315. 316. 317. 318. 319. 319.\n",
      " 320. 321. 322. 323. 323. 324. 325. 326. 327. 328. 329. 330. 331. 332.\n",
      " 333. 334. 334. 335. 336. 337. 338. 339. 340. 341. 342. 343. 344. 345.\n",
      " 346. 347. 348. 349. 350. 351. 352. 353. 354. 354. 355. 356. 357. 358.\n",
      " 359. 359. 360. 361. 362. 362. 363. 364. 365. 366. 367. 368. 369. 370.\n",
      " 371. 372. 373. 373. 374. 375. 376. 376. 377. 378. 379. 380. 380. 381.\n",
      " 381. 382. 382. 383. 383. 384. 384. 385. 386. 386. 386. 386. 387. 388.\n",
      " 389. 390. 391. 392. 393. 394. 395. 396. 397. 398. 399. 400. 401. 402.\n",
      " 403. 404. 405. 406. 407. 408. 409. 410. 411. 412. 413. 413. 413. 414.\n",
      " 415. 416. 417. 418. 419. 420. 421. 422. 423. 424. 425. 426. 427. 428.\n",
      " 428. 429. 430. 431. 432. 433. 434. 435. 436. 437. 438. 439. 440. 441.\n",
      " 442. 443. 444. 445. 445. 446. 447. 448. 448. 449. 450. 451. 452. 453.\n",
      " 454. 455. 456. 457. 458. 459. 460. 460. 461. 462. 463. 464. 465. 466.\n",
      " 467. 468. 469. 470. 471. 472. 473. 474. 475. 475. 476. 477. 478. 479.\n",
      " 479. 479. 479. 479. 479. 480. 481. 482. 483. 484. 485. 486. 487. 487.\n",
      " 488. 489. 490. 491. 492. 492. 493. 494. 495. 496. 497. 498. 499. 500.\n",
      " 501. 502. 503. 504. 505. 506. 507. 508. 509. 510. 511. 512. 513. 514.\n",
      " 515. 516. 517. 518. 519. 520. 521. 522. 523. 524. 525. 526. 527. 528.\n",
      " 529. 530. 531. 531. 532. 533. 534. 535. 536. 537. 538. 539. 540. 541.\n",
      " 542. 543. 544. 545. 546. 547. 548. 549. 550. 551. 552. 553. 554. 555.\n",
      " 555. 556. 557. 558. 559. 560. 561. 562. 563. 564. 565. 566. 567. 568.\n",
      " 569. 570. 571. 572. 573. 574. 575. 576. 577. 578. 579. 580. 581. 582.\n",
      " 583. 584. 585. 586. 587. 588. 589. 590. 591. 592. 593. 594. 595. 596.\n",
      " 597. 598. 599. 600. 601. 602. 603. 604. 605. 606. 607. 608. 609. 610.\n",
      " 611. 612. 613. 614. 615. 616. 617. 618. 619. 620. 621. 622. 623. 624.\n",
      " 625. 626. 627. 628. 629. 630. 631. 632. 633. 634. 635. 636. 637. 638.\n",
      " 639. 640. 641. 641. 642. 642. 643. 644. 645. 645. 646. 646. 646. 647.\n",
      " 647. 648. 648. 649. 650. 651. 652. 653. 654. 655. 656. 657. 658. 659.\n",
      " 660. 661. 662. 663. 664. 665. 666. 667. 668. 669. 670. 671. 672. 673.\n",
      " 674. 675. 676. 677. 678. 678. 679. 680. 681. 681. 682. 683. 684. 685.\n",
      " 686. 687. 688. 689. 690. 691. 692. 693. 694. 695. 696. 697. 698. 699.\n",
      " 700. 701. 702. 703. 704. 705. 706. 707. 708. 709. 710. 710. 710. 710.\n",
      " 711. 711. 711. 711. 712. 713. 714. 715. 716. 717. 718. 719. 719. 720.\n",
      " 720. 721.]\n",
      "[[  1.]\n",
      " [  2.]\n",
      " [  3.]\n",
      " [  3.]\n",
      " [  4.]\n",
      " [  5.]\n",
      " [  6.]\n",
      " [  6.]\n",
      " [  6.]\n",
      " [  7.]\n",
      " [  8.]\n",
      " [  9.]\n",
      " [  9.]\n",
      " [ 10.]\n",
      " [ 11.]\n",
      " [ 12.]\n",
      " [ 13.]\n",
      " [ 14.]\n",
      " [ 15.]\n",
      " [ 15.]\n",
      " [ 16.]\n",
      " [ 17.]\n",
      " [ 18.]\n",
      " [ 18.]\n",
      " [ 19.]\n",
      " [ 20.]\n",
      " [ 21.]\n",
      " [ 22.]\n",
      " [ 23.]\n",
      " [ 24.]\n",
      " [ 25.]\n",
      " [ 26.]\n",
      " [ 27.]\n",
      " [ 28.]\n",
      " [ 29.]\n",
      " [ 30.]\n",
      " [ 31.]\n",
      " [ 32.]\n",
      " [ 33.]\n",
      " [ 34.]\n",
      " [ 35.]\n",
      " [ 36.]\n",
      " [ 37.]\n",
      " [ 38.]\n",
      " [ 39.]\n",
      " [ 40.]\n",
      " [ 41.]\n",
      " [ 42.]\n",
      " [ 43.]\n",
      " [ 44.]\n",
      " [ 45.]\n",
      " [ 46.]\n",
      " [ 47.]\n",
      " [ 48.]\n",
      " [ 49.]\n",
      " [ 50.]\n",
      " [ 51.]\n",
      " [ 52.]\n",
      " [ 53.]\n",
      " [ 54.]\n",
      " [ 55.]\n",
      " [ 56.]\n",
      " [ 57.]\n",
      " [ 58.]\n",
      " [ 59.]\n",
      " [ 60.]\n",
      " [ 61.]\n",
      " [ 62.]\n",
      " [ 63.]\n",
      " [ 64.]\n",
      " [ 65.]\n",
      " [ 65.]\n",
      " [ 66.]\n",
      " [ 67.]\n",
      " [ 68.]\n",
      " [ 69.]\n",
      " [ 70.]\n",
      " [ 71.]\n",
      " [ 72.]\n",
      " [ 73.]\n",
      " [ 74.]\n",
      " [ 75.]\n",
      " [ 76.]\n",
      " [ 77.]\n",
      " [ 78.]\n",
      " [ 79.]\n",
      " [ 80.]\n",
      " [ 80.]\n",
      " [ 81.]\n",
      " [ 82.]\n",
      " [ 83.]\n",
      " [ 84.]\n",
      " [ 85.]\n",
      " [ 86.]\n",
      " [ 87.]\n",
      " [ 88.]\n",
      " [ 89.]\n",
      " [ 90.]\n",
      " [ 91.]\n",
      " [ 92.]\n",
      " [ 93.]\n",
      " [ 94.]\n",
      " [ 94.]\n",
      " [ 95.]\n",
      " [ 96.]\n",
      " [ 97.]\n",
      " [ 98.]\n",
      " [ 99.]\n",
      " [100.]\n",
      " [101.]\n",
      " [102.]\n",
      " [103.]\n",
      " [104.]\n",
      " [105.]\n",
      " [106.]\n",
      " [107.]\n",
      " [108.]\n",
      " [109.]\n",
      " [110.]\n",
      " [111.]\n",
      " [112.]\n",
      " [113.]\n",
      " [114.]\n",
      " [115.]\n",
      " [115.]\n",
      " [116.]\n",
      " [117.]\n",
      " [118.]\n",
      " [119.]\n",
      " [120.]\n",
      " [121.]\n",
      " [122.]\n",
      " [123.]\n",
      " [124.]\n",
      " [125.]\n",
      " [126.]\n",
      " [127.]\n",
      " [127.]\n",
      " [128.]\n",
      " [129.]\n",
      " [130.]\n",
      " [130.]\n",
      " [131.]\n",
      " [132.]\n",
      " [133.]\n",
      " [134.]\n",
      " [135.]\n",
      " [136.]\n",
      " [137.]\n",
      " [138.]\n",
      " [139.]\n",
      " [140.]\n",
      " [141.]\n",
      " [142.]\n",
      " [142.]\n",
      " [143.]\n",
      " [144.]\n",
      " [145.]\n",
      " [146.]\n",
      " [147.]\n",
      " [148.]\n",
      " [149.]\n",
      " [150.]\n",
      " [150.]\n",
      " [150.]\n",
      " [151.]\n",
      " [152.]\n",
      " [153.]\n",
      " [154.]\n",
      " [155.]\n",
      " [156.]\n",
      " [157.]\n",
      " [158.]\n",
      " [159.]\n",
      " [160.]\n",
      " [161.]\n",
      " [162.]\n",
      " [163.]\n",
      " [164.]\n",
      " [165.]\n",
      " [166.]\n",
      " [167.]\n",
      " [168.]\n",
      " [169.]\n",
      " [170.]\n",
      " [171.]\n",
      " [172.]\n",
      " [173.]\n",
      " [174.]\n",
      " [175.]\n",
      " [176.]\n",
      " [177.]\n",
      " [178.]\n",
      " [179.]\n",
      " [180.]\n",
      " [181.]\n",
      " [181.]\n",
      " [182.]\n",
      " [183.]\n",
      " [184.]\n",
      " [185.]\n",
      " [186.]\n",
      " [187.]\n",
      " [188.]\n",
      " [189.]\n",
      " [190.]\n",
      " [191.]\n",
      " [192.]\n",
      " [193.]\n",
      " [194.]\n",
      " [195.]\n",
      " [196.]\n",
      " [197.]\n",
      " [198.]\n",
      " [199.]\n",
      " [200.]\n",
      " [201.]\n",
      " [202.]\n",
      " [203.]\n",
      " [204.]\n",
      " [205.]\n",
      " [206.]\n",
      " [207.]\n",
      " [208.]\n",
      " [208.]\n",
      " [209.]\n",
      " [210.]\n",
      " [211.]\n",
      " [212.]\n",
      " [212.]\n",
      " [213.]\n",
      " [214.]\n",
      " [214.]\n",
      " [215.]\n",
      " [216.]\n",
      " [217.]\n",
      " [218.]\n",
      " [219.]\n",
      " [220.]\n",
      " [221.]\n",
      " [222.]\n",
      " [223.]\n",
      " [224.]\n",
      " [225.]\n",
      " [226.]\n",
      " [227.]\n",
      " [228.]\n",
      " [229.]\n",
      " [229.]\n",
      " [230.]\n",
      " [231.]\n",
      " [232.]\n",
      " [233.]\n",
      " [234.]\n",
      " [235.]\n",
      " [236.]\n",
      " [237.]\n",
      " [238.]\n",
      " [239.]\n",
      " [240.]\n",
      " [241.]\n",
      " [242.]\n",
      " [243.]\n",
      " [244.]\n",
      " [245.]\n",
      " [246.]\n",
      " [247.]\n",
      " [248.]\n",
      " [248.]\n",
      " [249.]\n",
      " [250.]\n",
      " [251.]\n",
      " [252.]\n",
      " [253.]\n",
      " [254.]\n",
      " [254.]\n",
      " [255.]\n",
      " [256.]\n",
      " [257.]\n",
      " [257.]\n",
      " [258.]\n",
      " [259.]\n",
      " [260.]\n",
      " [260.]\n",
      " [261.]\n",
      " [262.]\n",
      " [263.]\n",
      " [264.]\n",
      " [265.]\n",
      " [266.]\n",
      " [267.]\n",
      " [268.]\n",
      " [269.]\n",
      " [270.]\n",
      " [271.]\n",
      " [272.]\n",
      " [273.]\n",
      " [274.]\n",
      " [275.]\n",
      " [276.]\n",
      " [277.]\n",
      " [278.]\n",
      " [279.]\n",
      " [280.]\n",
      " [281.]\n",
      " [282.]\n",
      " [282.]\n",
      " [283.]\n",
      " [284.]\n",
      " [285.]\n",
      " [286.]\n",
      " [287.]\n",
      " [288.]\n",
      " [289.]\n",
      " [290.]\n",
      " [291.]\n",
      " [292.]\n",
      " [293.]\n",
      " [294.]\n",
      " [295.]\n",
      " [296.]\n",
      " [297.]\n",
      " [298.]\n",
      " [299.]\n",
      " [300.]\n",
      " [301.]\n",
      " [302.]\n",
      " [302.]\n",
      " [303.]\n",
      " [303.]\n",
      " [304.]\n",
      " [305.]\n",
      " [306.]\n",
      " [306.]\n",
      " [307.]\n",
      " [308.]\n",
      " [308.]\n",
      " [309.]\n",
      " [310.]\n",
      " [310.]\n",
      " [311.]\n",
      " [312.]\n",
      " [313.]\n",
      " [314.]\n",
      " [315.]\n",
      " [316.]\n",
      " [317.]\n",
      " [318.]\n",
      " [319.]\n",
      " [319.]\n",
      " [320.]\n",
      " [321.]\n",
      " [322.]\n",
      " [323.]\n",
      " [323.]\n",
      " [324.]\n",
      " [325.]\n",
      " [326.]\n",
      " [327.]\n",
      " [328.]\n",
      " [329.]\n",
      " [330.]\n",
      " [331.]\n",
      " [332.]\n",
      " [333.]\n",
      " [334.]\n",
      " [334.]\n",
      " [335.]\n",
      " [336.]\n",
      " [337.]\n",
      " [338.]\n",
      " [339.]\n",
      " [340.]\n",
      " [341.]\n",
      " [342.]\n",
      " [343.]\n",
      " [344.]\n",
      " [345.]\n",
      " [346.]\n",
      " [347.]\n",
      " [348.]\n",
      " [349.]\n",
      " [350.]\n",
      " [351.]\n",
      " [352.]\n",
      " [353.]\n",
      " [354.]\n",
      " [354.]\n",
      " [355.]\n",
      " [356.]\n",
      " [357.]\n",
      " [358.]\n",
      " [359.]\n",
      " [359.]\n",
      " [360.]\n",
      " [361.]\n",
      " [362.]\n",
      " [362.]\n",
      " [363.]\n",
      " [364.]\n",
      " [365.]\n",
      " [366.]\n",
      " [367.]\n",
      " [368.]\n",
      " [369.]\n",
      " [370.]\n",
      " [371.]\n",
      " [372.]\n",
      " [373.]\n",
      " [373.]\n",
      " [374.]\n",
      " [375.]\n",
      " [376.]\n",
      " [376.]\n",
      " [377.]\n",
      " [378.]\n",
      " [379.]\n",
      " [380.]\n",
      " [380.]\n",
      " [381.]\n",
      " [381.]\n",
      " [382.]\n",
      " [382.]\n",
      " [383.]\n",
      " [383.]\n",
      " [384.]\n",
      " [384.]\n",
      " [385.]\n",
      " [386.]\n",
      " [386.]\n",
      " [386.]\n",
      " [386.]\n",
      " [387.]\n",
      " [388.]\n",
      " [389.]\n",
      " [390.]\n",
      " [391.]\n",
      " [392.]\n",
      " [393.]\n",
      " [394.]\n",
      " [395.]\n",
      " [396.]\n",
      " [397.]\n",
      " [398.]\n",
      " [399.]\n",
      " [400.]\n",
      " [401.]\n",
      " [402.]\n",
      " [403.]\n",
      " [404.]\n",
      " [405.]\n",
      " [406.]\n",
      " [407.]\n",
      " [408.]\n",
      " [409.]\n",
      " [410.]\n",
      " [411.]\n",
      " [412.]\n",
      " [413.]\n",
      " [413.]\n",
      " [413.]\n",
      " [414.]\n",
      " [415.]\n",
      " [416.]\n",
      " [417.]\n",
      " [418.]\n",
      " [419.]\n",
      " [420.]\n",
      " [421.]\n",
      " [422.]\n",
      " [423.]\n",
      " [424.]\n",
      " [425.]\n",
      " [426.]\n",
      " [427.]\n",
      " [428.]\n",
      " [428.]\n",
      " [429.]\n",
      " [430.]\n",
      " [431.]\n",
      " [432.]\n",
      " [433.]\n",
      " [434.]\n",
      " [435.]\n",
      " [436.]\n",
      " [437.]\n",
      " [438.]\n",
      " [439.]\n",
      " [440.]\n",
      " [441.]\n",
      " [442.]\n",
      " [443.]\n",
      " [444.]\n",
      " [445.]\n",
      " [445.]\n",
      " [446.]\n",
      " [447.]\n",
      " [448.]\n",
      " [448.]\n",
      " [449.]\n",
      " [450.]\n",
      " [451.]\n",
      " [452.]\n",
      " [453.]\n",
      " [454.]\n",
      " [455.]\n",
      " [456.]\n",
      " [457.]\n",
      " [458.]\n",
      " [459.]\n",
      " [460.]\n",
      " [460.]\n",
      " [461.]\n",
      " [462.]\n",
      " [463.]\n",
      " [464.]\n",
      " [465.]\n",
      " [466.]\n",
      " [467.]\n",
      " [468.]\n",
      " [469.]\n",
      " [470.]\n",
      " [471.]\n",
      " [472.]\n",
      " [473.]\n",
      " [474.]\n",
      " [475.]\n",
      " [475.]\n",
      " [476.]\n",
      " [477.]\n",
      " [478.]\n",
      " [479.]\n",
      " [479.]\n",
      " [479.]\n",
      " [479.]\n",
      " [479.]\n",
      " [479.]\n",
      " [480.]\n",
      " [481.]\n",
      " [482.]\n",
      " [483.]\n",
      " [484.]\n",
      " [485.]\n",
      " [486.]\n",
      " [487.]\n",
      " [487.]\n",
      " [488.]\n",
      " [489.]\n",
      " [490.]\n",
      " [491.]\n",
      " [492.]\n",
      " [492.]\n",
      " [493.]\n",
      " [494.]\n",
      " [495.]\n",
      " [496.]\n",
      " [497.]\n",
      " [498.]\n",
      " [499.]\n",
      " [500.]\n",
      " [501.]\n",
      " [502.]\n",
      " [503.]\n",
      " [504.]\n",
      " [505.]\n",
      " [506.]\n",
      " [507.]\n",
      " [508.]\n",
      " [509.]\n",
      " [510.]\n",
      " [511.]\n",
      " [512.]\n",
      " [513.]\n",
      " [514.]\n",
      " [515.]\n",
      " [516.]\n",
      " [517.]\n",
      " [518.]\n",
      " [519.]\n",
      " [520.]\n",
      " [521.]\n",
      " [522.]\n",
      " [523.]\n",
      " [524.]\n",
      " [525.]\n",
      " [526.]\n",
      " [527.]\n",
      " [528.]\n",
      " [529.]\n",
      " [530.]\n",
      " [531.]\n",
      " [531.]\n",
      " [532.]\n",
      " [533.]\n",
      " [534.]\n",
      " [535.]\n",
      " [536.]\n",
      " [537.]\n",
      " [538.]\n",
      " [539.]\n",
      " [540.]\n",
      " [541.]\n",
      " [542.]\n",
      " [543.]\n",
      " [544.]\n",
      " [545.]\n",
      " [546.]\n",
      " [547.]\n",
      " [548.]\n",
      " [549.]\n",
      " [550.]\n",
      " [551.]\n",
      " [552.]\n",
      " [553.]\n",
      " [554.]\n",
      " [555.]\n",
      " [555.]\n",
      " [556.]\n",
      " [557.]\n",
      " [558.]\n",
      " [559.]\n",
      " [560.]\n",
      " [561.]\n",
      " [562.]\n",
      " [563.]\n",
      " [564.]\n",
      " [565.]\n",
      " [566.]\n",
      " [567.]\n",
      " [568.]\n",
      " [569.]\n",
      " [570.]\n",
      " [571.]\n",
      " [572.]\n",
      " [573.]\n",
      " [574.]\n",
      " [575.]\n",
      " [576.]\n",
      " [577.]\n",
      " [578.]\n",
      " [579.]\n",
      " [580.]\n",
      " [581.]\n",
      " [582.]\n",
      " [583.]\n",
      " [584.]\n",
      " [585.]\n",
      " [586.]\n",
      " [587.]\n",
      " [588.]\n",
      " [589.]\n",
      " [590.]\n",
      " [591.]\n",
      " [592.]\n",
      " [593.]\n",
      " [594.]\n",
      " [595.]\n",
      " [596.]\n",
      " [597.]\n",
      " [598.]\n",
      " [599.]\n",
      " [600.]\n",
      " [601.]\n",
      " [602.]\n",
      " [603.]\n",
      " [604.]\n",
      " [605.]\n",
      " [606.]\n",
      " [607.]\n",
      " [608.]\n",
      " [609.]\n",
      " [610.]\n",
      " [611.]\n",
      " [612.]\n",
      " [613.]\n",
      " [614.]\n",
      " [615.]\n",
      " [616.]\n",
      " [617.]\n",
      " [618.]\n",
      " [619.]\n",
      " [620.]\n",
      " [621.]\n",
      " [622.]\n",
      " [623.]\n",
      " [624.]\n",
      " [625.]\n",
      " [626.]\n",
      " [627.]\n",
      " [628.]\n",
      " [629.]\n",
      " [630.]\n",
      " [631.]\n",
      " [632.]\n",
      " [633.]\n",
      " [634.]\n",
      " [635.]\n",
      " [636.]\n",
      " [637.]\n",
      " [638.]\n",
      " [639.]\n",
      " [640.]\n",
      " [641.]\n",
      " [641.]\n",
      " [642.]\n",
      " [642.]\n",
      " [643.]\n",
      " [644.]\n",
      " [645.]\n",
      " [645.]\n",
      " [646.]\n",
      " [646.]\n",
      " [646.]\n",
      " [647.]\n",
      " [647.]\n",
      " [648.]\n",
      " [648.]\n",
      " [649.]\n",
      " [650.]\n",
      " [651.]\n",
      " [652.]\n",
      " [653.]\n",
      " [654.]\n",
      " [655.]\n",
      " [656.]\n",
      " [657.]\n",
      " [658.]\n",
      " [659.]\n",
      " [660.]\n",
      " [661.]\n",
      " [662.]\n",
      " [663.]\n",
      " [664.]\n",
      " [665.]\n",
      " [666.]\n",
      " [667.]\n",
      " [668.]\n",
      " [669.]\n",
      " [670.]\n",
      " [671.]\n",
      " [672.]\n",
      " [673.]\n",
      " [674.]\n",
      " [675.]\n",
      " [676.]\n",
      " [677.]\n",
      " [678.]\n",
      " [678.]\n",
      " [679.]\n",
      " [680.]\n",
      " [681.]\n",
      " [681.]\n",
      " [682.]\n",
      " [683.]\n",
      " [684.]\n",
      " [685.]\n",
      " [686.]\n",
      " [687.]\n",
      " [688.]\n",
      " [689.]\n",
      " [690.]\n",
      " [691.]\n",
      " [692.]\n",
      " [693.]\n",
      " [694.]\n",
      " [695.]\n",
      " [696.]\n",
      " [697.]\n",
      " [698.]\n",
      " [699.]\n",
      " [700.]\n",
      " [701.]\n",
      " [702.]\n",
      " [703.]\n",
      " [704.]\n",
      " [705.]\n",
      " [706.]\n",
      " [707.]\n",
      " [708.]\n",
      " [709.]\n",
      " [710.]\n",
      " [710.]\n",
      " [710.]\n",
      " [710.]\n",
      " [711.]\n",
      " [711.]\n",
      " [711.]\n",
      " [711.]\n",
      " [712.]\n",
      " [713.]\n",
      " [714.]\n",
      " [715.]\n",
      " [716.]\n",
      " [717.]\n",
      " [718.]\n",
      " [719.]\n",
      " [719.]\n",
      " [720.]\n",
      " [720.]\n",
      " [721.]]\n"
     ]
    }
   ],
   "source": [
    "print(pokemon[:,0])\n",
    "print(pokemon[:,0:1])"
   ]
  },
  {
   "cell_type": "code",
   "execution_count": 20,
   "id": "c7e84666",
   "metadata": {},
   "outputs": [
    {
     "data": {
      "text/plain": [
       "array([[  1.,  nan,  45.],\n",
       "       [  2.,  nan,  60.],\n",
       "       [  3.,  nan,  80.],\n",
       "       ...,\n",
       "       [720.,  nan,  80.],\n",
       "       [720.,  nan,  80.],\n",
       "       [721.,  nan,  80.]])"
      ]
     },
     "execution_count": 20,
     "metadata": {},
     "output_type": "execute_result"
    }
   ],
   "source": [
    "pokemon[:,[0,2,4]]"
   ]
  },
  {
   "cell_type": "code",
   "execution_count": 21,
   "id": "26fe9796",
   "metadata": {},
   "outputs": [
    {
     "data": {
      "text/plain": [
       "array([[  1.,  nan,  nan],\n",
       "       [  2.,  nan,  nan],\n",
       "       [  3.,  nan,  nan],\n",
       "       ...,\n",
       "       [720.,  nan,  nan],\n",
       "       [720.,  nan,  nan],\n",
       "       [721.,  nan,  nan]])"
      ]
     },
     "execution_count": 21,
     "metadata": {},
     "output_type": "execute_result"
    }
   ],
   "source": [
    "pokemon[:,0:3]"
   ]
  },
  {
   "cell_type": "code",
   "execution_count": 23,
   "id": "192a2e65",
   "metadata": {},
   "outputs": [
    {
     "data": {
      "text/plain": [
       "68.2775"
      ]
     },
     "execution_count": 23,
     "metadata": {},
     "output_type": "execute_result"
    }
   ],
   "source": [
    "pokemon[:,-3].mean()"
   ]
  },
  {
   "cell_type": "code",
   "execution_count": 2,
   "id": "c923ef41",
   "metadata": {},
   "outputs": [
    {
     "name": "stderr",
     "output_type": "stream",
     "text": [
      "C:\\Users\\Admin\\AppData\\Local\\Temp\\ipykernel_10296\\3380999073.py:1: VisibleDeprecationWarning: Reading unicode strings without specifying the encoding argument is deprecated. Set the encoding, use None for the system default.\n",
      "  pokemon2=np.genfromtxt('pokemon_data.csv',dtype=None,delimiter=\",\",skip_header=1,names=('#','Name','Type 1','Type 2','HP','Attack','Defense','Sp. Atk','Sp. Def','Speed','Generation','Legendary'))\n"
     ]
    }
   ],
   "source": [
    "pokemon2=np.genfromtxt('pokemon_data.csv',dtype=None,delimiter=\",\",skip_header=1,names=('#','Name','Type 1','Type 2','HP','Attack','Defense','Sp. Atk','Sp. Def','Speed','Generation','Legendary'))"
   ]
  },
  {
   "cell_type": "code",
   "execution_count": 3,
   "id": "b7076e56",
   "metadata": {},
   "outputs": [
    {
     "data": {
      "text/plain": [
       "array([(  1, b'Bulbasaur', b'Grass', b'Poison',  45,  49,  49,  65,  65,  45, 1, False),\n",
       "       (  2, b'Ivysaur', b'Grass', b'Poison',  60,  62,  63,  80,  80,  60, 1, False),\n",
       "       (  3, b'Venusaur', b'Grass', b'Poison',  80,  82,  83, 100, 100,  80, 1, False),\n",
       "       (  3, b'VenusaurMega Venusaur', b'Grass', b'Poison',  80, 100, 123, 122, 120,  80, 1, False),\n",
       "       (  4, b'Charmander', b'Fire', b'',  39,  52,  43,  60,  50,  65, 1, False),\n",
       "       (  5, b'Charmeleon', b'Fire', b'',  58,  64,  58,  80,  65,  80, 1, False),\n",
       "       (  6, b'Charizard', b'Fire', b'Flying',  78,  84,  78, 109,  85, 100, 1, False),\n",
       "       (  6, b'CharizardMega Charizard X', b'Fire', b'Dragon',  78, 130, 111, 130,  85, 100, 1, False),\n",
       "       (  6, b'CharizardMega Charizard Y', b'Fire', b'Flying',  78, 104,  78, 159, 115, 100, 1, False),\n",
       "       (  7, b'Squirtle', b'Water', b'',  44,  48,  65,  50,  64,  43, 1, False),\n",
       "       (  8, b'Wartortle', b'Water', b'',  59,  63,  80,  65,  80,  58, 1, False),\n",
       "       (  9, b'Blastoise', b'Water', b'',  79,  83, 100,  85, 105,  78, 1, False),\n",
       "       (  9, b'BlastoiseMega Blastoise', b'Water', b'',  79, 103, 120, 135, 115,  78, 1, False),\n",
       "       ( 10, b'Caterpie', b'Bug', b'',  45,  30,  35,  20,  20,  45, 1, False),\n",
       "       ( 11, b'Metapod', b'Bug', b'',  50,  20,  55,  25,  25,  30, 1, False),\n",
       "       ( 12, b'Butterfree', b'Bug', b'Flying',  60,  45,  50,  90,  80,  70, 1, False),\n",
       "       ( 13, b'Weedle', b'Bug', b'Poison',  40,  35,  30,  20,  20,  50, 1, False),\n",
       "       ( 14, b'Kakuna', b'Bug', b'Poison',  45,  25,  50,  25,  25,  35, 1, False),\n",
       "       ( 15, b'Beedrill', b'Bug', b'Poison',  65,  90,  40,  45,  80,  75, 1, False),\n",
       "       ( 15, b'BeedrillMega Beedrill', b'Bug', b'Poison',  65, 150,  40,  15,  80, 145, 1, False),\n",
       "       ( 16, b'Pidgey', b'Normal', b'Flying',  40,  45,  40,  35,  35,  56, 1, False),\n",
       "       ( 17, b'Pidgeotto', b'Normal', b'Flying',  63,  60,  55,  50,  50,  71, 1, False),\n",
       "       ( 18, b'Pidgeot', b'Normal', b'Flying',  83,  80,  75,  70,  70, 101, 1, False),\n",
       "       ( 18, b'PidgeotMega Pidgeot', b'Normal', b'Flying',  83,  80,  80, 135,  80, 121, 1, False),\n",
       "       ( 19, b'Rattata', b'Normal', b'',  30,  56,  35,  25,  35,  72, 1, False),\n",
       "       ( 20, b'Raticate', b'Normal', b'',  55,  81,  60,  50,  70,  97, 1, False),\n",
       "       ( 21, b'Spearow', b'Normal', b'Flying',  40,  60,  30,  31,  31,  70, 1, False),\n",
       "       ( 22, b'Fearow', b'Normal', b'Flying',  65,  90,  65,  61,  61, 100, 1, False),\n",
       "       ( 23, b'Ekans', b'Poison', b'',  35,  60,  44,  40,  54,  55, 1, False),\n",
       "       ( 24, b'Arbok', b'Poison', b'',  60,  85,  69,  65,  79,  80, 1, False),\n",
       "       ( 25, b'Pikachu', b'Electric', b'',  35,  55,  40,  50,  50,  90, 1, False),\n",
       "       ( 26, b'Raichu', b'Electric', b'',  60,  90,  55,  90,  80, 110, 1, False),\n",
       "       ( 27, b'Sandshrew', b'Ground', b'',  50,  75,  85,  20,  30,  40, 1, False),\n",
       "       ( 28, b'Sandslash', b'Ground', b'',  75, 100, 110,  45,  55,  65, 1, False),\n",
       "       ( 29, b'Nidoran (Female)', b'Poison', b'',  55,  47,  52,  40,  40,  41, 1, False),\n",
       "       ( 30, b'Nidorina', b'Poison', b'',  70,  62,  67,  55,  55,  56, 1, False),\n",
       "       ( 31, b'Nidoqueen', b'Poison', b'Ground',  90,  92,  87,  75,  85,  76, 1, False),\n",
       "       ( 32, b'Nidoran (Male)', b'Poison', b'',  46,  57,  40,  40,  40,  50, 1, False),\n",
       "       ( 33, b'Nidorino', b'Poison', b'',  61,  72,  57,  55,  55,  65, 1, False),\n",
       "       ( 34, b'Nidoking', b'Poison', b'Ground',  81, 102,  77,  85,  75,  85, 1, False),\n",
       "       ( 35, b'Clefairy', b'Fairy', b'',  70,  45,  48,  60,  65,  35, 1, False),\n",
       "       ( 36, b'Clefable', b'Fairy', b'',  95,  70,  73,  95,  90,  60, 1, False),\n",
       "       ( 37, b'Vulpix', b'Fire', b'',  38,  41,  40,  50,  65,  65, 1, False),\n",
       "       ( 38, b'Ninetales', b'Fire', b'',  73,  76,  75,  81, 100, 100, 1, False),\n",
       "       ( 39, b'Jigglypuff', b'Normal', b'Fairy', 115,  45,  20,  45,  25,  20, 1, False),\n",
       "       ( 40, b'Wigglytuff', b'Normal', b'Fairy', 140,  70,  45,  85,  50,  45, 1, False),\n",
       "       ( 41, b'Zubat', b'Poison', b'Flying',  40,  45,  35,  30,  40,  55, 1, False),\n",
       "       ( 42, b'Golbat', b'Poison', b'Flying',  75,  80,  70,  65,  75,  90, 1, False),\n",
       "       ( 43, b'Oddish', b'Grass', b'Poison',  45,  50,  55,  75,  65,  30, 1, False),\n",
       "       ( 44, b'Gloom', b'Grass', b'Poison',  60,  65,  70,  85,  75,  40, 1, False),\n",
       "       ( 45, b'Vileplume', b'Grass', b'Poison',  75,  80,  85, 110,  90,  50, 1, False),\n",
       "       ( 46, b'Paras', b'Bug', b'Grass',  35,  70,  55,  45,  55,  25, 1, False),\n",
       "       ( 47, b'Parasect', b'Bug', b'Grass',  60,  95,  80,  60,  80,  30, 1, False),\n",
       "       ( 48, b'Venonat', b'Bug', b'Poison',  60,  55,  50,  40,  55,  45, 1, False),\n",
       "       ( 49, b'Venomoth', b'Bug', b'Poison',  70,  65,  60,  90,  75,  90, 1, False),\n",
       "       ( 50, b'Diglett', b'Ground', b'',  10,  55,  25,  35,  45,  95, 1, False),\n",
       "       ( 51, b'Dugtrio', b'Ground', b'',  35,  80,  50,  50,  70, 120, 1, False),\n",
       "       ( 52, b'Meowth', b'Normal', b'',  40,  45,  35,  40,  40,  90, 1, False),\n",
       "       ( 53, b'Persian', b'Normal', b'',  65,  70,  60,  65,  65, 115, 1, False),\n",
       "       ( 54, b'Psyduck', b'Water', b'',  50,  52,  48,  65,  50,  55, 1, False),\n",
       "       ( 55, b'Golduck', b'Water', b'',  80,  82,  78,  95,  80,  85, 1, False),\n",
       "       ( 56, b'Mankey', b'Fighting', b'',  40,  80,  35,  35,  45,  70, 1, False),\n",
       "       ( 57, b'Primeape', b'Fighting', b'',  65, 105,  60,  60,  70,  95, 1, False),\n",
       "       ( 58, b'Growlithe', b'Fire', b'',  55,  70,  45,  70,  50,  60, 1, False),\n",
       "       ( 59, b'Arcanine', b'Fire', b'',  90, 110,  80, 100,  80,  95, 1, False),\n",
       "       ( 60, b'Poliwag', b'Water', b'',  40,  50,  40,  40,  40,  90, 1, False),\n",
       "       ( 61, b'Poliwhirl', b'Water', b'',  65,  65,  65,  50,  50,  90, 1, False),\n",
       "       ( 62, b'Poliwrath', b'Water', b'Fighting',  90,  95,  95,  70,  90,  70, 1, False),\n",
       "       ( 63, b'Abra', b'Psychic', b'',  25,  20,  15, 105,  55,  90, 1, False),\n",
       "       ( 64, b'Kadabra', b'Psychic', b'',  40,  35,  30, 120,  70, 105, 1, False),\n",
       "       ( 65, b'Alakazam', b'Psychic', b'',  55,  50,  45, 135,  95, 120, 1, False),\n",
       "       ( 65, b'AlakazamMega Alakazam', b'Psychic', b'',  55,  50,  65, 175,  95, 150, 1, False),\n",
       "       ( 66, b'Machop', b'Fighting', b'',  70,  80,  50,  35,  35,  35, 1, False),\n",
       "       ( 67, b'Machoke', b'Fighting', b'',  80, 100,  70,  50,  60,  45, 1, False),\n",
       "       ( 68, b'Machamp', b'Fighting', b'',  90, 130,  80,  65,  85,  55, 1, False),\n",
       "       ( 69, b'Bellsprout', b'Grass', b'Poison',  50,  75,  35,  70,  30,  40, 1, False),\n",
       "       ( 70, b'Weepinbell', b'Grass', b'Poison',  65,  90,  50,  85,  45,  55, 1, False),\n",
       "       ( 71, b'Victreebel', b'Grass', b'Poison',  80, 105,  65, 100,  70,  70, 1, False),\n",
       "       ( 72, b'Tentacool', b'Water', b'Poison',  40,  40,  35,  50, 100,  70, 1, False),\n",
       "       ( 73, b'Tentacruel', b'Water', b'Poison',  80,  70,  65,  80, 120, 100, 1, False),\n",
       "       ( 74, b'Geodude', b'Rock', b'Ground',  40,  80, 100,  30,  30,  20, 1, False),\n",
       "       ( 75, b'Graveler', b'Rock', b'Ground',  55,  95, 115,  45,  45,  35, 1, False),\n",
       "       ( 76, b'Golem', b'Rock', b'Ground',  80, 120, 130,  55,  65,  45, 1, False),\n",
       "       ( 77, b'Ponyta', b'Fire', b'',  50,  85,  55,  65,  65,  90, 1, False),\n",
       "       ( 78, b'Rapidash', b'Fire', b'',  65, 100,  70,  80,  80, 105, 1, False),\n",
       "       ( 79, b'Slowpoke', b'Water', b'Psychic',  90,  65,  65,  40,  40,  15, 1, False),\n",
       "       ( 80, b'Slowbro', b'Water', b'Psychic',  95,  75, 110, 100,  80,  30, 1, False),\n",
       "       ( 80, b'SlowbroMega Slowbro', b'Water', b'Psychic',  95,  75, 180, 130,  80,  30, 1, False),\n",
       "       ( 81, b'Magnemite', b'Electric', b'Steel',  25,  35,  70,  95,  55,  45, 1, False),\n",
       "       ( 82, b'Magneton', b'Electric', b'Steel',  50,  60,  95, 120,  70,  70, 1, False),\n",
       "       ( 83, b\"Farfetch'd\", b'Normal', b'Flying',  52,  65,  55,  58,  62,  60, 1, False),\n",
       "       ( 84, b'Doduo', b'Normal', b'Flying',  35,  85,  45,  35,  35,  75, 1, False),\n",
       "       ( 85, b'Dodrio', b'Normal', b'Flying',  60, 110,  70,  60,  60, 100, 1, False),\n",
       "       ( 86, b'Seel', b'Water', b'',  65,  45,  55,  45,  70,  45, 1, False),\n",
       "       ( 87, b'Dewgong', b'Water', b'Ice',  90,  70,  80,  70,  95,  70, 1, False),\n",
       "       ( 88, b'Grimer', b'Poison', b'',  80,  80,  50,  40,  50,  25, 1, False),\n",
       "       ( 89, b'Muk', b'Poison', b'', 105, 105,  75,  65, 100,  50, 1, False),\n",
       "       ( 90, b'Shellder', b'Water', b'',  30,  65, 100,  45,  25,  40, 1, False),\n",
       "       ( 91, b'Cloyster', b'Water', b'Ice',  50,  95, 180,  85,  45,  70, 1, False),\n",
       "       ( 92, b'Gastly', b'Ghost', b'Poison',  30,  35,  30, 100,  35,  80, 1, False),\n",
       "       ( 93, b'Haunter', b'Ghost', b'Poison',  45,  50,  45, 115,  55,  95, 1, False),\n",
       "       ( 94, b'Gengar', b'Ghost', b'Poison',  60,  65,  60, 130,  75, 110, 1, False),\n",
       "       ( 94, b'GengarMega Gengar', b'Ghost', b'Poison',  60,  65,  80, 170,  95, 130, 1, False),\n",
       "       ( 95, b'Onix', b'Rock', b'Ground',  35,  45, 160,  30,  45,  70, 1, False),\n",
       "       ( 96, b'Drowzee', b'Psychic', b'',  60,  48,  45,  43,  90,  42, 1, False),\n",
       "       ( 97, b'Hypno', b'Psychic', b'',  85,  73,  70,  73, 115,  67, 1, False),\n",
       "       ( 98, b'Krabby', b'Water', b'',  30, 105,  90,  25,  25,  50, 1, False),\n",
       "       ( 99, b'Kingler', b'Water', b'',  55, 130, 115,  50,  50,  75, 1, False),\n",
       "       (100, b'Voltorb', b'Electric', b'',  40,  30,  50,  55,  55, 100, 1, False),\n",
       "       (101, b'Electrode', b'Electric', b'',  60,  50,  70,  80,  80, 140, 1, False),\n",
       "       (102, b'Exeggcute', b'Grass', b'Psychic',  60,  40,  80,  60,  45,  40, 1, False),\n",
       "       (103, b'Exeggutor', b'Grass', b'Psychic',  95,  95,  85, 125,  65,  55, 1, False),\n",
       "       (104, b'Cubone', b'Ground', b'',  50,  50,  95,  40,  50,  35, 1, False),\n",
       "       (105, b'Marowak', b'Ground', b'',  60,  80, 110,  50,  80,  45, 1, False),\n",
       "       (106, b'Hitmonlee', b'Fighting', b'',  50, 120,  53,  35, 110,  87, 1, False),\n",
       "       (107, b'Hitmonchan', b'Fighting', b'',  50, 105,  79,  35, 110,  76, 1, False),\n",
       "       (108, b'Lickitung', b'Normal', b'',  90,  55,  75,  60,  75,  30, 1, False),\n",
       "       (109, b'Koffing', b'Poison', b'',  40,  65,  95,  60,  45,  35, 1, False),\n",
       "       (110, b'Weezing', b'Poison', b'',  65,  90, 120,  85,  70,  60, 1, False),\n",
       "       (111, b'Rhyhorn', b'Ground', b'Rock',  80,  85,  95,  30,  30,  25, 1, False),\n",
       "       (112, b'Rhydon', b'Ground', b'Rock', 105, 130, 120,  45,  45,  40, 1, False),\n",
       "       (113, b'Chansey', b'Normal', b'', 250,   5,   5,  35, 105,  50, 1, False),\n",
       "       (114, b'Tangela', b'Grass', b'',  65,  55, 115, 100,  40,  60, 1, False),\n",
       "       (115, b'Kangaskhan', b'Normal', b'', 105,  95,  80,  40,  80,  90, 1, False),\n",
       "       (115, b'KangaskhanMega Kangaskhan', b'Normal', b'', 105, 125, 100,  60, 100, 100, 1, False),\n",
       "       (116, b'Horsea', b'Water', b'',  30,  40,  70,  70,  25,  60, 1, False),\n",
       "       (117, b'Seadra', b'Water', b'',  55,  65,  95,  95,  45,  85, 1, False),\n",
       "       (118, b'Goldeen', b'Water', b'',  45,  67,  60,  35,  50,  63, 1, False),\n",
       "       (119, b'Seaking', b'Water', b'',  80,  92,  65,  65,  80,  68, 1, False),\n",
       "       (120, b'Staryu', b'Water', b'',  30,  45,  55,  70,  55,  85, 1, False),\n",
       "       (121, b'Starmie', b'Water', b'Psychic',  60,  75,  85, 100,  85, 115, 1, False),\n",
       "       (122, b'Mr. Mime', b'Psychic', b'Fairy',  40,  45,  65, 100, 120,  90, 1, False),\n",
       "       (123, b'Scyther', b'Bug', b'Flying',  70, 110,  80,  55,  80, 105, 1, False),\n",
       "       (124, b'Jynx', b'Ice', b'Psychic',  65,  50,  35, 115,  95,  95, 1, False),\n",
       "       (125, b'Electabuzz', b'Electric', b'',  65,  83,  57,  95,  85, 105, 1, False),\n",
       "       (126, b'Magmar', b'Fire', b'',  65,  95,  57, 100,  85,  93, 1, False),\n",
       "       (127, b'Pinsir', b'Bug', b'',  65, 125, 100,  55,  70,  85, 1, False),\n",
       "       (127, b'PinsirMega Pinsir', b'Bug', b'Flying',  65, 155, 120,  65,  90, 105, 1, False),\n",
       "       (128, b'Tauros', b'Normal', b'',  75, 100,  95,  40,  70, 110, 1, False),\n",
       "       (129, b'Magikarp', b'Water', b'',  20,  10,  55,  15,  20,  80, 1, False),\n",
       "       (130, b'Gyarados', b'Water', b'Flying',  95, 125,  79,  60, 100,  81, 1, False),\n",
       "       (130, b'GyaradosMega Gyarados', b'Water', b'Dark',  95, 155, 109,  70, 130,  81, 1, False),\n",
       "       (131, b'Lapras', b'Water', b'Ice', 130,  85,  80,  85,  95,  60, 1, False),\n",
       "       (132, b'Ditto', b'Normal', b'',  48,  48,  48,  48,  48,  48, 1, False),\n",
       "       (133, b'Eevee', b'Normal', b'',  55,  55,  50,  45,  65,  55, 1, False),\n",
       "       (134, b'Vaporeon', b'Water', b'', 130,  65,  60, 110,  95,  65, 1, False),\n",
       "       (135, b'Jolteon', b'Electric', b'',  65,  65,  60, 110,  95, 130, 1, False),\n",
       "       (136, b'Flareon', b'Fire', b'',  65, 130,  60,  95, 110,  65, 1, False),\n",
       "       (137, b'Porygon', b'Normal', b'',  65,  60,  70,  85,  75,  40, 1, False),\n",
       "       (138, b'Omanyte', b'Rock', b'Water',  35,  40, 100,  90,  55,  35, 1, False),\n",
       "       (139, b'Omastar', b'Rock', b'Water',  70,  60, 125, 115,  70,  55, 1, False),\n",
       "       (140, b'Kabuto', b'Rock', b'Water',  30,  80,  90,  55,  45,  55, 1, False),\n",
       "       (141, b'Kabutops', b'Rock', b'Water',  60, 115, 105,  65,  70,  80, 1, False),\n",
       "       (142, b'Aerodactyl', b'Rock', b'Flying',  80, 105,  65,  60,  75, 130, 1, False),\n",
       "       (142, b'AerodactylMega Aerodactyl', b'Rock', b'Flying',  80, 135,  85,  70,  95, 150, 1, False),\n",
       "       (143, b'Snorlax', b'Normal', b'', 160, 110,  65,  65, 110,  30, 1, False),\n",
       "       (144, b'Articuno', b'Ice', b'Flying',  90,  85, 100,  95, 125,  85, 1,  True),\n",
       "       (145, b'Zapdos', b'Electric', b'Flying',  90,  90,  85, 125,  90, 100, 1,  True),\n",
       "       (146, b'Moltres', b'Fire', b'Flying',  90, 100,  90, 125,  85,  90, 1,  True),\n",
       "       (147, b'Dratini', b'Dragon', b'',  41,  64,  45,  50,  50,  50, 1, False),\n",
       "       (148, b'Dragonair', b'Dragon', b'',  61,  84,  65,  70,  70,  70, 1, False),\n",
       "       (149, b'Dragonite', b'Dragon', b'Flying',  91, 134,  95, 100, 100,  80, 1, False),\n",
       "       (150, b'Mewtwo', b'Psychic', b'', 106, 110,  90, 154,  90, 130, 1,  True),\n",
       "       (150, b'MewtwoMega Mewtwo X', b'Psychic', b'Fighting', 106, 190, 100, 154, 100, 130, 1,  True),\n",
       "       (150, b'MewtwoMega Mewtwo Y', b'Psychic', b'', 106, 150,  70, 194, 120, 140, 1,  True),\n",
       "       (151, b'Mew', b'Psychic', b'', 100, 100, 100, 100, 100, 100, 1, False),\n",
       "       (152, b'Chikorita', b'Grass', b'',  45,  49,  65,  49,  65,  45, 2, False),\n",
       "       (153, b'Bayleef', b'Grass', b'',  60,  62,  80,  63,  80,  60, 2, False),\n",
       "       (154, b'Meganium', b'Grass', b'',  80,  82, 100,  83, 100,  80, 2, False),\n",
       "       (155, b'Cyndaquil', b'Fire', b'',  39,  52,  43,  60,  50,  65, 2, False),\n",
       "       (156, b'Quilava', b'Fire', b'',  58,  64,  58,  80,  65,  80, 2, False),\n",
       "       (157, b'Typhlosion', b'Fire', b'',  78,  84,  78, 109,  85, 100, 2, False),\n",
       "       (158, b'Totodile', b'Water', b'',  50,  65,  64,  44,  48,  43, 2, False),\n",
       "       (159, b'Croconaw', b'Water', b'',  65,  80,  80,  59,  63,  58, 2, False),\n",
       "       (160, b'Feraligatr', b'Water', b'',  85, 105, 100,  79,  83,  78, 2, False),\n",
       "       (161, b'Sentret', b'Normal', b'',  35,  46,  34,  35,  45,  20, 2, False),\n",
       "       (162, b'Furret', b'Normal', b'',  85,  76,  64,  45,  55,  90, 2, False),\n",
       "       (163, b'Hoothoot', b'Normal', b'Flying',  60,  30,  30,  36,  56,  50, 2, False),\n",
       "       (164, b'Noctowl', b'Normal', b'Flying', 100,  50,  50,  76,  96,  70, 2, False),\n",
       "       (165, b'Ledyba', b'Bug', b'Flying',  40,  20,  30,  40,  80,  55, 2, False),\n",
       "       (166, b'Ledian', b'Bug', b'Flying',  55,  35,  50,  55, 110,  85, 2, False),\n",
       "       (167, b'Spinarak', b'Bug', b'Poison',  40,  60,  40,  40,  40,  30, 2, False),\n",
       "       (168, b'Ariados', b'Bug', b'Poison',  70,  90,  70,  60,  60,  40, 2, False),\n",
       "       (169, b'Crobat', b'Poison', b'Flying',  85,  90,  80,  70,  80, 130, 2, False),\n",
       "       (170, b'Chinchou', b'Water', b'Electric',  75,  38,  38,  56,  56,  67, 2, False),\n",
       "       (171, b'Lanturn', b'Water', b'Electric', 125,  58,  58,  76,  76,  67, 2, False),\n",
       "       (172, b'Pichu', b'Electric', b'',  20,  40,  15,  35,  35,  60, 2, False),\n",
       "       (173, b'Cleffa', b'Fairy', b'',  50,  25,  28,  45,  55,  15, 2, False),\n",
       "       (174, b'Igglybuff', b'Normal', b'Fairy',  90,  30,  15,  40,  20,  15, 2, False),\n",
       "       (175, b'Togepi', b'Fairy', b'',  35,  20,  65,  40,  65,  20, 2, False),\n",
       "       (176, b'Togetic', b'Fairy', b'Flying',  55,  40,  85,  80, 105,  40, 2, False),\n",
       "       (177, b'Natu', b'Psychic', b'Flying',  40,  50,  45,  70,  45,  70, 2, False),\n",
       "       (178, b'Xatu', b'Psychic', b'Flying',  65,  75,  70,  95,  70,  95, 2, False),\n",
       "       (179, b'Mareep', b'Electric', b'',  55,  40,  40,  65,  45,  35, 2, False),\n",
       "       (180, b'Flaaffy', b'Electric', b'',  70,  55,  55,  80,  60,  45, 2, False),\n",
       "       (181, b'Ampharos', b'Electric', b'',  90,  75,  85, 115,  90,  55, 2, False),\n",
       "       (181, b'AmpharosMega Ampharos', b'Electric', b'Dragon',  90,  95, 105, 165, 110,  45, 2, False),\n",
       "       (182, b'Bellossom', b'Grass', b'',  75,  80,  95,  90, 100,  50, 2, False),\n",
       "       (183, b'Marill', b'Water', b'Fairy',  70,  20,  50,  20,  50,  40, 2, False),\n",
       "       (184, b'Azumarill', b'Water', b'Fairy', 100,  50,  80,  60,  80,  50, 2, False),\n",
       "       (185, b'Sudowoodo', b'Rock', b'',  70, 100, 115,  30,  65,  30, 2, False),\n",
       "       (186, b'Politoed', b'Water', b'',  90,  75,  75,  90, 100,  70, 2, False),\n",
       "       (187, b'Hoppip', b'Grass', b'Flying',  35,  35,  40,  35,  55,  50, 2, False),\n",
       "       (188, b'Skiploom', b'Grass', b'Flying',  55,  45,  50,  45,  65,  80, 2, False),\n",
       "       (189, b'Jumpluff', b'Grass', b'Flying',  75,  55,  70,  55,  95, 110, 2, False),\n",
       "       (190, b'Aipom', b'Normal', b'',  55,  70,  55,  40,  55,  85, 2, False),\n",
       "       (191, b'Sunkern', b'Grass', b'',  30,  30,  30,  30,  30,  30, 2, False),\n",
       "       (192, b'Sunflora', b'Grass', b'',  75,  75,  55, 105,  85,  30, 2, False),\n",
       "       (193, b'Yanma', b'Bug', b'Flying',  65,  65,  45,  75,  45,  95, 2, False),\n",
       "       (194, b'Wooper', b'Water', b'Ground',  55,  45,  45,  25,  25,  15, 2, False),\n",
       "       (195, b'Quagsire', b'Water', b'Ground',  95,  85,  85,  65,  65,  35, 2, False),\n",
       "       (196, b'Espeon', b'Psychic', b'',  65,  65,  60, 130,  95, 110, 2, False),\n",
       "       (197, b'Umbreon', b'Dark', b'',  95,  65, 110,  60, 130,  65, 2, False),\n",
       "       (198, b'Murkrow', b'Dark', b'Flying',  60,  85,  42,  85,  42,  91, 2, False),\n",
       "       (199, b'Slowking', b'Water', b'Psychic',  95,  75,  80, 100, 110,  30, 2, False),\n",
       "       (200, b'Misdreavus', b'Ghost', b'',  60,  60,  60,  85,  85,  85, 2, False),\n",
       "       (201, b'Unown', b'Psychic', b'',  48,  72,  48,  72,  48,  48, 2, False),\n",
       "       (202, b'Wobbuffet', b'Psychic', b'', 190,  33,  58,  33,  58,  33, 2, False),\n",
       "       (203, b'Girafarig', b'Normal', b'Psychic',  70,  80,  65,  90,  65,  85, 2, False),\n",
       "       (204, b'Pineco', b'Bug', b'',  50,  65,  90,  35,  35,  15, 2, False),\n",
       "       (205, b'Forretress', b'Bug', b'Steel',  75,  90, 140,  60,  60,  40, 2, False),\n",
       "       (206, b'Dunsparce', b'Normal', b'', 100,  70,  70,  65,  65,  45, 2, False),\n",
       "       (207, b'Gligar', b'Ground', b'Flying',  65,  75, 105,  35,  65,  85, 2, False),\n",
       "       (208, b'Steelix', b'Steel', b'Ground',  75,  85, 200,  55,  65,  30, 2, False),\n",
       "       (208, b'SteelixMega Steelix', b'Steel', b'Ground',  75, 125, 230,  55,  95,  30, 2, False),\n",
       "       (209, b'Snubbull', b'Fairy', b'',  60,  80,  50,  40,  40,  30, 2, False),\n",
       "       (210, b'Granbull', b'Fairy', b'',  90, 120,  75,  60,  60,  45, 2, False),\n",
       "       (211, b'Qwilfish', b'Water', b'Poison',  65,  95,  75,  55,  55,  85, 2, False),\n",
       "       (212, b'Scizor', b'Bug', b'Steel',  70, 130, 100,  55,  80,  65, 2, False),\n",
       "       (212, b'ScizorMega Scizor', b'Bug', b'Steel',  70, 150, 140,  65, 100,  75, 2, False),\n",
       "       (213, b'Shuckle', b'Bug', b'Rock',  20,  10, 230,  10, 230,   5, 2, False),\n",
       "       (214, b'Heracross', b'Bug', b'Fighting',  80, 125,  75,  40,  95,  85, 2, False),\n",
       "       (214, b'HeracrossMega Heracross', b'Bug', b'Fighting',  80, 185, 115,  40, 105,  75, 2, False),\n",
       "       (215, b'Sneasel', b'Dark', b'Ice',  55,  95,  55,  35,  75, 115, 2, False),\n",
       "       (216, b'Teddiursa', b'Normal', b'',  60,  80,  50,  50,  50,  40, 2, False),\n",
       "       (217, b'Ursaring', b'Normal', b'',  90, 130,  75,  75,  75,  55, 2, False),\n",
       "       (218, b'Slugma', b'Fire', b'',  40,  40,  40,  70,  40,  20, 2, False),\n",
       "       (219, b'Magcargo', b'Fire', b'Rock',  50,  50, 120,  80,  80,  30, 2, False),\n",
       "       (220, b'Swinub', b'Ice', b'Ground',  50,  50,  40,  30,  30,  50, 2, False),\n",
       "       (221, b'Piloswine', b'Ice', b'Ground', 100, 100,  80,  60,  60,  50, 2, False),\n",
       "       (222, b'Corsola', b'Water', b'Rock',  55,  55,  85,  65,  85,  35, 2, False),\n",
       "       (223, b'Remoraid', b'Water', b'',  35,  65,  35,  65,  35,  65, 2, False),\n",
       "       (224, b'Octillery', b'Water', b'',  75, 105,  75, 105,  75,  45, 2, False),\n",
       "       (225, b'Delibird', b'Ice', b'Flying',  45,  55,  45,  65,  45,  75, 2, False),\n",
       "       (226, b'Mantine', b'Water', b'Flying',  65,  40,  70,  80, 140,  70, 2, False),\n",
       "       (227, b'Skarmory', b'Steel', b'Flying',  65,  80, 140,  40,  70,  70, 2, False),\n",
       "       (228, b'Houndour', b'Dark', b'Fire',  45,  60,  30,  80,  50,  65, 2, False),\n",
       "       (229, b'Houndoom', b'Dark', b'Fire',  75,  90,  50, 110,  80,  95, 2, False),\n",
       "       (229, b'HoundoomMega Houndoom', b'Dark', b'Fire',  75,  90,  90, 140,  90, 115, 2, False),\n",
       "       (230, b'Kingdra', b'Water', b'Dragon',  75,  95,  95,  95,  95,  85, 2, False),\n",
       "       (231, b'Phanpy', b'Ground', b'',  90,  60,  60,  40,  40,  40, 2, False),\n",
       "       (232, b'Donphan', b'Ground', b'',  90, 120, 120,  60,  60,  50, 2, False),\n",
       "       (233, b'Porygon2', b'Normal', b'',  85,  80,  90, 105,  95,  60, 2, False),\n",
       "       (234, b'Stantler', b'Normal', b'',  73,  95,  62,  85,  65,  85, 2, False),\n",
       "       (235, b'Smeargle', b'Normal', b'',  55,  20,  35,  20,  45,  75, 2, False),\n",
       "       (236, b'Tyrogue', b'Fighting', b'',  35,  35,  35,  35,  35,  35, 2, False),\n",
       "       (237, b'Hitmontop', b'Fighting', b'',  50,  95,  95,  35, 110,  70, 2, False),\n",
       "       (238, b'Smoochum', b'Ice', b'Psychic',  45,  30,  15,  85,  65,  65, 2, False),\n",
       "       (239, b'Elekid', b'Electric', b'',  45,  63,  37,  65,  55,  95, 2, False),\n",
       "       (240, b'Magby', b'Fire', b'',  45,  75,  37,  70,  55,  83, 2, False),\n",
       "       (241, b'Miltank', b'Normal', b'',  95,  80, 105,  40,  70, 100, 2, False),\n",
       "       (242, b'Blissey', b'Normal', b'', 255,  10,  10,  75, 135,  55, 2, False),\n",
       "       (243, b'Raikou', b'Electric', b'',  90,  85,  75, 115, 100, 115, 2,  True),\n",
       "       (244, b'Entei', b'Fire', b'', 115, 115,  85,  90,  75, 100, 2,  True),\n",
       "       (245, b'Suicune', b'Water', b'', 100,  75, 115,  90, 115,  85, 2,  True),\n",
       "       (246, b'Larvitar', b'Rock', b'Ground',  50,  64,  50,  45,  50,  41, 2, False),\n",
       "       (247, b'Pupitar', b'Rock', b'Ground',  70,  84,  70,  65,  70,  51, 2, False),\n",
       "       (248, b'Tyranitar', b'Rock', b'Dark', 100, 134, 110,  95, 100,  61, 2, False),\n",
       "       (248, b'TyranitarMega Tyranitar', b'Rock', b'Dark', 100, 164, 150,  95, 120,  71, 2, False),\n",
       "       (249, b'Lugia', b'Psychic', b'Flying', 106,  90, 130,  90, 154, 110, 2,  True),\n",
       "       (250, b'Ho-oh', b'Fire', b'Flying', 106, 130,  90, 110, 154,  90, 2,  True),\n",
       "       (251, b'Celebi', b'Psychic', b'Grass', 100, 100, 100, 100, 100, 100, 2, False),\n",
       "       (252, b'Treecko', b'Grass', b'',  40,  45,  35,  65,  55,  70, 3, False),\n",
       "       (253, b'Grovyle', b'Grass', b'',  50,  65,  45,  85,  65,  95, 3, False),\n",
       "       (254, b'Sceptile', b'Grass', b'',  70,  85,  65, 105,  85, 120, 3, False),\n",
       "       (254, b'SceptileMega Sceptile', b'Grass', b'Dragon',  70, 110,  75, 145,  85, 145, 3, False),\n",
       "       (255, b'Torchic', b'Fire', b'',  45,  60,  40,  70,  50,  45, 3, False),\n",
       "       (256, b'Combusken', b'Fire', b'Fighting',  60,  85,  60,  85,  60,  55, 3, False),\n",
       "       (257, b'Blaziken', b'Fire', b'Fighting',  80, 120,  70, 110,  70,  80, 3, False),\n",
       "       (257, b'BlazikenMega Blaziken', b'Fire', b'Fighting',  80, 160,  80, 130,  80, 100, 3, False),\n",
       "       (258, b'Mudkip', b'Water', b'',  50,  70,  50,  50,  50,  40, 3, False),\n",
       "       (259, b'Marshtomp', b'Water', b'Ground',  70,  85,  70,  60,  70,  50, 3, False),\n",
       "       (260, b'Swampert', b'Water', b'Ground', 100, 110,  90,  85,  90,  60, 3, False),\n",
       "       (260, b'SwampertMega Swampert', b'Water', b'Ground', 100, 150, 110,  95, 110,  70, 3, False),\n",
       "       (261, b'Poochyena', b'Dark', b'',  35,  55,  35,  30,  30,  35, 3, False),\n",
       "       (262, b'Mightyena', b'Dark', b'',  70,  90,  70,  60,  60,  70, 3, False),\n",
       "       (263, b'Zigzagoon', b'Normal', b'',  38,  30,  41,  30,  41,  60, 3, False),\n",
       "       (264, b'Linoone', b'Normal', b'',  78,  70,  61,  50,  61, 100, 3, False),\n",
       "       (265, b'Wurmple', b'Bug', b'',  45,  45,  35,  20,  30,  20, 3, False),\n",
       "       (266, b'Silcoon', b'Bug', b'',  50,  35,  55,  25,  25,  15, 3, False),\n",
       "       (267, b'Beautifly', b'Bug', b'Flying',  60,  70,  50, 100,  50,  65, 3, False),\n",
       "       (268, b'Cascoon', b'Bug', b'',  50,  35,  55,  25,  25,  15, 3, False),\n",
       "       (269, b'Dustox', b'Bug', b'Poison',  60,  50,  70,  50,  90,  65, 3, False),\n",
       "       (270, b'Lotad', b'Water', b'Grass',  40,  30,  30,  40,  50,  30, 3, False),\n",
       "       (271, b'Lombre', b'Water', b'Grass',  60,  50,  50,  60,  70,  50, 3, False),\n",
       "       (272, b'Ludicolo', b'Water', b'Grass',  80,  70,  70,  90, 100,  70, 3, False),\n",
       "       (273, b'Seedot', b'Grass', b'',  40,  40,  50,  30,  30,  30, 3, False),\n",
       "       (274, b'Nuzleaf', b'Grass', b'Dark',  70,  70,  40,  60,  40,  60, 3, False),\n",
       "       (275, b'Shiftry', b'Grass', b'Dark',  90, 100,  60,  90,  60,  80, 3, False),\n",
       "       (276, b'Taillow', b'Normal', b'Flying',  40,  55,  30,  30,  30,  85, 3, False),\n",
       "       (277, b'Swellow', b'Normal', b'Flying',  60,  85,  60,  50,  50, 125, 3, False),\n",
       "       (278, b'Wingull', b'Water', b'Flying',  40,  30,  30,  55,  30,  85, 3, False),\n",
       "       (279, b'Pelipper', b'Water', b'Flying',  60,  50, 100,  85,  70,  65, 3, False),\n",
       "       (280, b'Ralts', b'Psychic', b'Fairy',  28,  25,  25,  45,  35,  40, 3, False),\n",
       "       (281, b'Kirlia', b'Psychic', b'Fairy',  38,  35,  35,  65,  55,  50, 3, False),\n",
       "       (282, b'Gardevoir', b'Psychic', b'Fairy',  68,  65,  65, 125, 115,  80, 3, False),\n",
       "       (282, b'GardevoirMega Gardevoir', b'Psychic', b'Fairy',  68,  85,  65, 165, 135, 100, 3, False),\n",
       "       (283, b'Surskit', b'Bug', b'Water',  40,  30,  32,  50,  52,  65, 3, False),\n",
       "       (284, b'Masquerain', b'Bug', b'Flying',  70,  60,  62,  80,  82,  60, 3, False),\n",
       "       (285, b'Shroomish', b'Grass', b'',  60,  40,  60,  40,  60,  35, 3, False),\n",
       "       (286, b'Breloom', b'Grass', b'Fighting',  60, 130,  80,  60,  60,  70, 3, False),\n",
       "       (287, b'Slakoth', b'Normal', b'',  60,  60,  60,  35,  35,  30, 3, False),\n",
       "       (288, b'Vigoroth', b'Normal', b'',  80,  80,  80,  55,  55,  90, 3, False),\n",
       "       (289, b'Slaking', b'Normal', b'', 150, 160, 100,  95,  65, 100, 3, False),\n",
       "       (290, b'Nincada', b'Bug', b'Ground',  31,  45,  90,  30,  30,  40, 3, False),\n",
       "       (291, b'Ninjask', b'Bug', b'Flying',  61,  90,  45,  50,  50, 160, 3, False),\n",
       "       (292, b'Shedinja', b'Bug', b'Ghost',   1,  90,  45,  30,  30,  40, 3, False),\n",
       "       (293, b'Whismur', b'Normal', b'',  64,  51,  23,  51,  23,  28, 3, False),\n",
       "       (294, b'Loudred', b'Normal', b'',  84,  71,  43,  71,  43,  48, 3, False),\n",
       "       (295, b'Exploud', b'Normal', b'', 104,  91,  63,  91,  73,  68, 3, False),\n",
       "       (296, b'Makuhita', b'Fighting', b'',  72,  60,  30,  20,  30,  25, 3, False),\n",
       "       (297, b'Hariyama', b'Fighting', b'', 144, 120,  60,  40,  60,  50, 3, False),\n",
       "       (298, b'Azurill', b'Normal', b'Fairy',  50,  20,  40,  20,  40,  20, 3, False),\n",
       "       (299, b'Nosepass', b'Rock', b'',  30,  45, 135,  45,  90,  30, 3, False),\n",
       "       (300, b'Skitty', b'Normal', b'',  50,  45,  45,  35,  35,  50, 3, False),\n",
       "       (301, b'Delcatty', b'Normal', b'',  70,  65,  65,  55,  55,  70, 3, False),\n",
       "       (302, b'Sableye', b'Dark', b'Ghost',  50,  75,  75,  65,  65,  50, 3, False),\n",
       "       (302, b'SableyeMega Sableye', b'Dark', b'Ghost',  50,  85, 125,  85, 115,  20, 3, False),\n",
       "       (303, b'Mawile', b'Steel', b'Fairy',  50,  85,  85,  55,  55,  50, 3, False),\n",
       "       (303, b'MawileMega Mawile', b'Steel', b'Fairy',  50, 105, 125,  55,  95,  50, 3, False),\n",
       "       (304, b'Aron', b'Steel', b'Rock',  50,  70, 100,  40,  40,  30, 3, False),\n",
       "       (305, b'Lairon', b'Steel', b'Rock',  60,  90, 140,  50,  50,  40, 3, False),\n",
       "       (306, b'Aggron', b'Steel', b'Rock',  70, 110, 180,  60,  60,  50, 3, False),\n",
       "       (306, b'AggronMega Aggron', b'Steel', b'',  70, 140, 230,  60,  80,  50, 3, False),\n",
       "       (307, b'Meditite', b'Fighting', b'Psychic',  30,  40,  55,  40,  55,  60, 3, False),\n",
       "       (308, b'Medicham', b'Fighting', b'Psychic',  60,  60,  75,  60,  75,  80, 3, False),\n",
       "       (308, b'MedichamMega Medicham', b'Fighting', b'Psychic',  60, 100,  85,  80,  85, 100, 3, False),\n",
       "       (309, b'Electrike', b'Electric', b'',  40,  45,  40,  65,  40,  65, 3, False),\n",
       "       (310, b'Manectric', b'Electric', b'',  70,  75,  60, 105,  60, 105, 3, False),\n",
       "       (310, b'ManectricMega Manectric', b'Electric', b'',  70,  75,  80, 135,  80, 135, 3, False),\n",
       "       (311, b'Plusle', b'Electric', b'',  60,  50,  40,  85,  75,  95, 3, False),\n",
       "       (312, b'Minun', b'Electric', b'',  60,  40,  50,  75,  85,  95, 3, False),\n",
       "       (313, b'Volbeat', b'Bug', b'',  65,  73,  55,  47,  75,  85, 3, False),\n",
       "       (314, b'Illumise', b'Bug', b'',  65,  47,  55,  73,  75,  85, 3, False),\n",
       "       (315, b'Roselia', b'Grass', b'Poison',  50,  60,  45, 100,  80,  65, 3, False),\n",
       "       (316, b'Gulpin', b'Poison', b'',  70,  43,  53,  43,  53,  40, 3, False),\n",
       "       (317, b'Swalot', b'Poison', b'', 100,  73,  83,  73,  83,  55, 3, False),\n",
       "       (318, b'Carvanha', b'Water', b'Dark',  45,  90,  20,  65,  20,  65, 3, False),\n",
       "       (319, b'Sharpedo', b'Water', b'Dark',  70, 120,  40,  95,  40,  95, 3, False),\n",
       "       (319, b'SharpedoMega Sharpedo', b'Water', b'Dark',  70, 140,  70, 110,  65, 105, 3, False),\n",
       "       (320, b'Wailmer', b'Water', b'', 130,  70,  35,  70,  35,  60, 3, False),\n",
       "       (321, b'Wailord', b'Water', b'', 170,  90,  45,  90,  45,  60, 3, False),\n",
       "       (322, b'Numel', b'Fire', b'Ground',  60,  60,  40,  65,  45,  35, 3, False),\n",
       "       (323, b'Camerupt', b'Fire', b'Ground',  70, 100,  70, 105,  75,  40, 3, False),\n",
       "       (323, b'CameruptMega Camerupt', b'Fire', b'Ground',  70, 120, 100, 145, 105,  20, 3, False),\n",
       "       (324, b'Torkoal', b'Fire', b'',  70,  85, 140,  85,  70,  20, 3, False),\n",
       "       (325, b'Spoink', b'Psychic', b'',  60,  25,  35,  70,  80,  60, 3, False),\n",
       "       (326, b'Grumpig', b'Psychic', b'',  80,  45,  65,  90, 110,  80, 3, False),\n",
       "       (327, b'Spinda', b'Normal', b'',  60,  60,  60,  60,  60,  60, 3, False),\n",
       "       (328, b'Trapinch', b'Ground', b'',  45, 100,  45,  45,  45,  10, 3, False),\n",
       "       (329, b'Vibrava', b'Ground', b'Dragon',  50,  70,  50,  50,  50,  70, 3, False),\n",
       "       (330, b'Flygon', b'Ground', b'Dragon',  80, 100,  80,  80,  80, 100, 3, False),\n",
       "       (331, b'Cacnea', b'Grass', b'',  50,  85,  40,  85,  40,  35, 3, False),\n",
       "       (332, b'Cacturne', b'Grass', b'Dark',  70, 115,  60, 115,  60,  55, 3, False),\n",
       "       (333, b'Swablu', b'Normal', b'Flying',  45,  40,  60,  40,  75,  50, 3, False),\n",
       "       (334, b'Altaria', b'Dragon', b'Flying',  75,  70,  90,  70, 105,  80, 3, False),\n",
       "       (334, b'AltariaMega Altaria', b'Dragon', b'Fairy',  75, 110, 110, 110, 105,  80, 3, False),\n",
       "       (335, b'Zangoose', b'Normal', b'',  73, 115,  60,  60,  60,  90, 3, False),\n",
       "       (336, b'Seviper', b'Poison', b'',  73, 100,  60, 100,  60,  65, 3, False),\n",
       "       (337, b'Lunatone', b'Rock', b'Psychic',  70,  55,  65,  95,  85,  70, 3, False),\n",
       "       (338, b'Solrock', b'Rock', b'Psychic',  70,  95,  85,  55,  65,  70, 3, False),\n",
       "       (339, b'Barboach', b'Water', b'Ground',  50,  48,  43,  46,  41,  60, 3, False),\n",
       "       (340, b'Whiscash', b'Water', b'Ground', 110,  78,  73,  76,  71,  60, 3, False),\n",
       "       (341, b'Corphish', b'Water', b'',  43,  80,  65,  50,  35,  35, 3, False),\n",
       "       (342, b'Crawdaunt', b'Water', b'Dark',  63, 120,  85,  90,  55,  55, 3, False),\n",
       "       (343, b'Baltoy', b'Ground', b'Psychic',  40,  40,  55,  40,  70,  55, 3, False),\n",
       "       (344, b'Claydol', b'Ground', b'Psychic',  60,  70, 105,  70, 120,  75, 3, False),\n",
       "       (345, b'Lileep', b'Rock', b'Grass',  66,  41,  77,  61,  87,  23, 3, False),\n",
       "       (346, b'Cradily', b'Rock', b'Grass',  86,  81,  97,  81, 107,  43, 3, False),\n",
       "       (347, b'Anorith', b'Rock', b'Bug',  45,  95,  50,  40,  50,  75, 3, False),\n",
       "       (348, b'Armaldo', b'Rock', b'Bug',  75, 125, 100,  70,  80,  45, 3, False),\n",
       "       (349, b'Feebas', b'Water', b'',  20,  15,  20,  10,  55,  80, 3, False),\n",
       "       (350, b'Milotic', b'Water', b'',  95,  60,  79, 100, 125,  81, 3, False),\n",
       "       (351, b'Castform', b'Normal', b'',  70,  70,  70,  70,  70,  70, 3, False),\n",
       "       (352, b'Kecleon', b'Normal', b'',  60,  90,  70,  60, 120,  40, 3, False),\n",
       "       (353, b'Shuppet', b'Ghost', b'',  44,  75,  35,  63,  33,  45, 3, False),\n",
       "       (354, b'Banette', b'Ghost', b'',  64, 115,  65,  83,  63,  65, 3, False),\n",
       "       (354, b'BanetteMega Banette', b'Ghost', b'',  64, 165,  75,  93,  83,  75, 3, False),\n",
       "       (355, b'Duskull', b'Ghost', b'',  20,  40,  90,  30,  90,  25, 3, False),\n",
       "       (356, b'Dusclops', b'Ghost', b'',  40,  70, 130,  60, 130,  25, 3, False),\n",
       "       (357, b'Tropius', b'Grass', b'Flying',  99,  68,  83,  72,  87,  51, 3, False),\n",
       "       (358, b'Chimecho', b'Psychic', b'',  65,  50,  70,  95,  80,  65, 3, False),\n",
       "       (359, b'Absol', b'Dark', b'',  65, 130,  60,  75,  60,  75, 3, False),\n",
       "       (359, b'AbsolMega Absol', b'Dark', b'',  65, 150,  60, 115,  60, 115, 3, False),\n",
       "       (360, b'Wynaut', b'Psychic', b'',  95,  23,  48,  23,  48,  23, 3, False),\n",
       "       (361, b'Snorunt', b'Ice', b'',  50,  50,  50,  50,  50,  50, 3, False),\n",
       "       (362, b'Glalie', b'Ice', b'',  80,  80,  80,  80,  80,  80, 3, False),\n",
       "       (362, b'GlalieMega Glalie', b'Ice', b'',  80, 120,  80, 120,  80, 100, 3, False),\n",
       "       (363, b'Spheal', b'Ice', b'Water',  70,  40,  50,  55,  50,  25, 3, False),\n",
       "       (364, b'Sealeo', b'Ice', b'Water',  90,  60,  70,  75,  70,  45, 3, False),\n",
       "       (365, b'Walrein', b'Ice', b'Water', 110,  80,  90,  95,  90,  65, 3, False),\n",
       "       (366, b'Clamperl', b'Water', b'',  35,  64,  85,  74,  55,  32, 3, False),\n",
       "       (367, b'Huntail', b'Water', b'',  55, 104, 105,  94,  75,  52, 3, False),\n",
       "       (368, b'Gorebyss', b'Water', b'',  55,  84, 105, 114,  75,  52, 3, False),\n",
       "       (369, b'Relicanth', b'Water', b'Rock', 100,  90, 130,  45,  65,  55, 3, False),\n",
       "       (370, b'Luvdisc', b'Water', b'',  43,  30,  55,  40,  65,  97, 3, False),\n",
       "       (371, b'Bagon', b'Dragon', b'',  45,  75,  60,  40,  30,  50, 3, False),\n",
       "       (372, b'Shelgon', b'Dragon', b'',  65,  95, 100,  60,  50,  50, 3, False),\n",
       "       (373, b'Salamence', b'Dragon', b'Flying',  95, 135,  80, 110,  80, 100, 3, False),\n",
       "       (373, b'SalamenceMega Salamence', b'Dragon', b'Flying',  95, 145, 130, 120,  90, 120, 3, False),\n",
       "       (374, b'Beldum', b'Steel', b'Psychic',  40,  55,  80,  35,  60,  30, 3, False),\n",
       "       (375, b'Metang', b'Steel', b'Psychic',  60,  75, 100,  55,  80,  50, 3, False),\n",
       "       (376, b'Metagross', b'Steel', b'Psychic',  80, 135, 130,  95,  90,  70, 3, False),\n",
       "       (376, b'MetagrossMega Metagross', b'Steel', b'Psychic',  80, 145, 150, 105, 110, 110, 3, False),\n",
       "       (377, b'Regirock', b'Rock', b'',  80, 100, 200,  50, 100,  50, 3,  True),\n",
       "       (378, b'Regice', b'Ice', b'',  80,  50, 100, 100, 200,  50, 3,  True),\n",
       "       (379, b'Registeel', b'Steel', b'',  80,  75, 150,  75, 150,  50, 3,  True),\n",
       "       (380, b'Latias', b'Dragon', b'Psychic',  80,  80,  90, 110, 130, 110, 3,  True),\n",
       "       (380, b'LatiasMega Latias', b'Dragon', b'Psychic',  80, 100, 120, 140, 150, 110, 3,  True),\n",
       "       (381, b'Latios', b'Dragon', b'Psychic',  80,  90,  80, 130, 110, 110, 3,  True),\n",
       "       (381, b'LatiosMega Latios', b'Dragon', b'Psychic',  80, 130, 100, 160, 120, 110, 3,  True),\n",
       "       (382, b'Kyogre', b'Water', b'', 100, 100,  90, 150, 140,  90, 3,  True),\n",
       "       (382, b'KyogrePrimal Kyogre', b'Water', b'', 100, 150,  90, 180, 160,  90, 3,  True),\n",
       "       (383, b'Groudon', b'Ground', b'', 100, 150, 140, 100,  90,  90, 3,  True),\n",
       "       (383, b'GroudonPrimal Groudon', b'Ground', b'Fire', 100, 180, 160, 150,  90,  90, 3,  True),\n",
       "       (384, b'Rayquaza', b'Dragon', b'Flying', 105, 150,  90, 150,  90,  95, 3,  True),\n",
       "       (384, b'RayquazaMega Rayquaza', b'Dragon', b'Flying', 105, 180, 100, 180, 100, 115, 3,  True),\n",
       "       (385, b'Jirachi', b'Steel', b'Psychic', 100, 100, 100, 100, 100, 100, 3,  True),\n",
       "       (386, b'DeoxysNormal Forme', b'Psychic', b'',  50, 150,  50, 150,  50, 150, 3,  True),\n",
       "       (386, b'DeoxysAttack Forme', b'Psychic', b'',  50, 180,  20, 180,  20, 150, 3,  True),\n",
       "       (386, b'DeoxysDefense Forme', b'Psychic', b'',  50,  70, 160,  70, 160,  90, 3,  True),\n",
       "       (386, b'DeoxysSpeed Forme', b'Psychic', b'',  50,  95,  90,  95,  90, 180, 3,  True),\n",
       "       (387, b'Turtwig', b'Grass', b'',  55,  68,  64,  45,  55,  31, 4, False),\n",
       "       (388, b'Grotle', b'Grass', b'',  75,  89,  85,  55,  65,  36, 4, False),\n",
       "       (389, b'Torterra', b'Grass', b'Ground',  95, 109, 105,  75,  85,  56, 4, False),\n",
       "       (390, b'Chimchar', b'Fire', b'',  44,  58,  44,  58,  44,  61, 4, False),\n",
       "       (391, b'Monferno', b'Fire', b'Fighting',  64,  78,  52,  78,  52,  81, 4, False),\n",
       "       (392, b'Infernape', b'Fire', b'Fighting',  76, 104,  71, 104,  71, 108, 4, False),\n",
       "       (393, b'Piplup', b'Water', b'',  53,  51,  53,  61,  56,  40, 4, False),\n",
       "       (394, b'Prinplup', b'Water', b'',  64,  66,  68,  81,  76,  50, 4, False),\n",
       "       (395, b'Empoleon', b'Water', b'Steel',  84,  86,  88, 111, 101,  60, 4, False),\n",
       "       (396, b'Starly', b'Normal', b'Flying',  40,  55,  30,  30,  30,  60, 4, False),\n",
       "       (397, b'Staravia', b'Normal', b'Flying',  55,  75,  50,  40,  40,  80, 4, False),\n",
       "       (398, b'Staraptor', b'Normal', b'Flying',  85, 120,  70,  50,  60, 100, 4, False),\n",
       "       (399, b'Bidoof', b'Normal', b'',  59,  45,  40,  35,  40,  31, 4, False),\n",
       "       (400, b'Bibarel', b'Normal', b'Water',  79,  85,  60,  55,  60,  71, 4, False),\n",
       "       (401, b'Kricketot', b'Bug', b'',  37,  25,  41,  25,  41,  25, 4, False),\n",
       "       (402, b'Kricketune', b'Bug', b'',  77,  85,  51,  55,  51,  65, 4, False),\n",
       "       (403, b'Shinx', b'Electric', b'',  45,  65,  34,  40,  34,  45, 4, False),\n",
       "       (404, b'Luxio', b'Electric', b'',  60,  85,  49,  60,  49,  60, 4, False),\n",
       "       (405, b'Luxray', b'Electric', b'',  80, 120,  79,  95,  79,  70, 4, False),\n",
       "       (406, b'Budew', b'Grass', b'Poison',  40,  30,  35,  50,  70,  55, 4, False),\n",
       "       (407, b'Roserade', b'Grass', b'Poison',  60,  70,  65, 125, 105,  90, 4, False),\n",
       "       (408, b'Cranidos', b'Rock', b'',  67, 125,  40,  30,  30,  58, 4, False),\n",
       "       (409, b'Rampardos', b'Rock', b'',  97, 165,  60,  65,  50,  58, 4, False),\n",
       "       (410, b'Shieldon', b'Rock', b'Steel',  30,  42, 118,  42,  88,  30, 4, False),\n",
       "       (411, b'Bastiodon', b'Rock', b'Steel',  60,  52, 168,  47, 138,  30, 4, False),\n",
       "       (412, b'Burmy', b'Bug', b'',  40,  29,  45,  29,  45,  36, 4, False),\n",
       "       (413, b'WormadamPlant Cloak', b'Bug', b'Grass',  60,  59,  85,  79, 105,  36, 4, False),\n",
       "       (413, b'WormadamSandy Cloak', b'Bug', b'Ground',  60,  79, 105,  59,  85,  36, 4, False),\n",
       "       (413, b'WormadamTrash Cloak', b'Bug', b'Steel',  60,  69,  95,  69,  95,  36, 4, False),\n",
       "       (414, b'Mothim', b'Bug', b'Flying',  70,  94,  50,  94,  50,  66, 4, False),\n",
       "       (415, b'Combee', b'Bug', b'Flying',  30,  30,  42,  30,  42,  70, 4, False),\n",
       "       (416, b'Vespiquen', b'Bug', b'Flying',  70,  80, 102,  80, 102,  40, 4, False),\n",
       "       (417, b'Pachirisu', b'Electric', b'',  60,  45,  70,  45,  90,  95, 4, False),\n",
       "       (418, b'Buizel', b'Water', b'',  55,  65,  35,  60,  30,  85, 4, False),\n",
       "       (419, b'Floatzel', b'Water', b'',  85, 105,  55,  85,  50, 115, 4, False),\n",
       "       (420, b'Cherubi', b'Grass', b'',  45,  35,  45,  62,  53,  35, 4, False),\n",
       "       (421, b'Cherrim', b'Grass', b'',  70,  60,  70,  87,  78,  85, 4, False),\n",
       "       (422, b'Shellos', b'Water', b'',  76,  48,  48,  57,  62,  34, 4, False),\n",
       "       (423, b'Gastrodon', b'Water', b'Ground', 111,  83,  68,  92,  82,  39, 4, False),\n",
       "       (424, b'Ambipom', b'Normal', b'',  75, 100,  66,  60,  66, 115, 4, False),\n",
       "       (425, b'Drifloon', b'Ghost', b'Flying',  90,  50,  34,  60,  44,  70, 4, False),\n",
       "       (426, b'Drifblim', b'Ghost', b'Flying', 150,  80,  44,  90,  54,  80, 4, False),\n",
       "       (427, b'Buneary', b'Normal', b'',  55,  66,  44,  44,  56,  85, 4, False),\n",
       "       (428, b'Lopunny', b'Normal', b'',  65,  76,  84,  54,  96, 105, 4, False),\n",
       "       (428, b'LopunnyMega Lopunny', b'Normal', b'Fighting',  65, 136,  94,  54,  96, 135, 4, False),\n",
       "       (429, b'Mismagius', b'Ghost', b'',  60,  60,  60, 105, 105, 105, 4, False),\n",
       "       (430, b'Honchkrow', b'Dark', b'Flying', 100, 125,  52, 105,  52,  71, 4, False),\n",
       "       (431, b'Glameow', b'Normal', b'',  49,  55,  42,  42,  37,  85, 4, False),\n",
       "       (432, b'Purugly', b'Normal', b'',  71,  82,  64,  64,  59, 112, 4, False),\n",
       "       (433, b'Chingling', b'Psychic', b'',  45,  30,  50,  65,  50,  45, 4, False),\n",
       "       (434, b'Stunky', b'Poison', b'Dark',  63,  63,  47,  41,  41,  74, 4, False),\n",
       "       (435, b'Skuntank', b'Poison', b'Dark', 103,  93,  67,  71,  61,  84, 4, False),\n",
       "       (436, b'Bronzor', b'Steel', b'Psychic',  57,  24,  86,  24,  86,  23, 4, False),\n",
       "       (437, b'Bronzong', b'Steel', b'Psychic',  67,  89, 116,  79, 116,  33, 4, False),\n",
       "       (438, b'Bonsly', b'Rock', b'',  50,  80,  95,  10,  45,  10, 4, False),\n",
       "       (439, b'Mime Jr.', b'Psychic', b'Fairy',  20,  25,  45,  70,  90,  60, 4, False),\n",
       "       (440, b'Happiny', b'Normal', b'', 100,   5,   5,  15,  65,  30, 4, False),\n",
       "       (441, b'Chatot', b'Normal', b'Flying',  76,  65,  45,  92,  42,  91, 4, False),\n",
       "       (442, b'Spiritomb', b'Ghost', b'Dark',  50,  92, 108,  92, 108,  35, 4, False),\n",
       "       (443, b'Gible', b'Dragon', b'Ground',  58,  70,  45,  40,  45,  42, 4, False),\n",
       "       (444, b'Gabite', b'Dragon', b'Ground',  68,  90,  65,  50,  55,  82, 4, False),\n",
       "       (445, b'Garchomp', b'Dragon', b'Ground', 108, 130,  95,  80,  85, 102, 4, False),\n",
       "       (445, b'GarchompMega Garchomp', b'Dragon', b'Ground', 108, 170, 115, 120,  95,  92, 4, False),\n",
       "       (446, b'Munchlax', b'Normal', b'', 135,  85,  40,  40,  85,   5, 4, False),\n",
       "       (447, b'Riolu', b'Fighting', b'',  40,  70,  40,  35,  40,  60, 4, False),\n",
       "       (448, b'Lucario', b'Fighting', b'Steel',  70, 110,  70, 115,  70,  90, 4, False),\n",
       "       (448, b'LucarioMega Lucario', b'Fighting', b'Steel',  70, 145,  88, 140,  70, 112, 4, False),\n",
       "       (449, b'Hippopotas', b'Ground', b'',  68,  72,  78,  38,  42,  32, 4, False),\n",
       "       (450, b'Hippowdon', b'Ground', b'', 108, 112, 118,  68,  72,  47, 4, False),\n",
       "       (451, b'Skorupi', b'Poison', b'Bug',  40,  50,  90,  30,  55,  65, 4, False),\n",
       "       (452, b'Drapion', b'Poison', b'Dark',  70,  90, 110,  60,  75,  95, 4, False),\n",
       "       (453, b'Croagunk', b'Poison', b'Fighting',  48,  61,  40,  61,  40,  50, 4, False),\n",
       "       (454, b'Toxicroak', b'Poison', b'Fighting',  83, 106,  65,  86,  65,  85, 4, False),\n",
       "       (455, b'Carnivine', b'Grass', b'',  74, 100,  72,  90,  72,  46, 4, False),\n",
       "       (456, b'Finneon', b'Water', b'',  49,  49,  56,  49,  61,  66, 4, False),\n",
       "       (457, b'Lumineon', b'Water', b'',  69,  69,  76,  69,  86,  91, 4, False),\n",
       "       (458, b'Mantyke', b'Water', b'Flying',  45,  20,  50,  60, 120,  50, 4, False),\n",
       "       (459, b'Snover', b'Grass', b'Ice',  60,  62,  50,  62,  60,  40, 4, False),\n",
       "       (460, b'Abomasnow', b'Grass', b'Ice',  90,  92,  75,  92,  85,  60, 4, False),\n",
       "       (460, b'AbomasnowMega Abomasnow', b'Grass', b'Ice',  90, 132, 105, 132, 105,  30, 4, False),\n",
       "       (461, b'Weavile', b'Dark', b'Ice',  70, 120,  65,  45,  85, 125, 4, False),\n",
       "       (462, b'Magnezone', b'Electric', b'Steel',  70,  70, 115, 130,  90,  60, 4, False),\n",
       "       (463, b'Lickilicky', b'Normal', b'', 110,  85,  95,  80,  95,  50, 4, False),\n",
       "       (464, b'Rhyperior', b'Ground', b'Rock', 115, 140, 130,  55,  55,  40, 4, False),\n",
       "       (465, b'Tangrowth', b'Grass', b'', 100, 100, 125, 110,  50,  50, 4, False),\n",
       "       (466, b'Electivire', b'Electric', b'',  75, 123,  67,  95,  85,  95, 4, False),\n",
       "       (467, b'Magmortar', b'Fire', b'',  75,  95,  67, 125,  95,  83, 4, False),\n",
       "       (468, b'Togekiss', b'Fairy', b'Flying',  85,  50,  95, 120, 115,  80, 4, False),\n",
       "       (469, b'Yanmega', b'Bug', b'Flying',  86,  76,  86, 116,  56,  95, 4, False),\n",
       "       (470, b'Leafeon', b'Grass', b'',  65, 110, 130,  60,  65,  95, 4, False),\n",
       "       (471, b'Glaceon', b'Ice', b'',  65,  60, 110, 130,  95,  65, 4, False),\n",
       "       (472, b'Gliscor', b'Ground', b'Flying',  75,  95, 125,  45,  75,  95, 4, False),\n",
       "       (473, b'Mamoswine', b'Ice', b'Ground', 110, 130,  80,  70,  60,  80, 4, False),\n",
       "       (474, b'Porygon-Z', b'Normal', b'',  85,  80,  70, 135,  75,  90, 4, False),\n",
       "       (475, b'Gallade', b'Psychic', b'Fighting',  68, 125,  65,  65, 115,  80, 4, False),\n",
       "       (475, b'GalladeMega Gallade', b'Psychic', b'Fighting',  68, 165,  95,  65, 115, 110, 4, False),\n",
       "       (476, b'Probopass', b'Rock', b'Steel',  60,  55, 145,  75, 150,  40, 4, False),\n",
       "       (477, b'Dusknoir', b'Ghost', b'',  45, 100, 135,  65, 135,  45, 4, False),\n",
       "       (478, b'Froslass', b'Ice', b'Ghost',  70,  80,  70,  80,  70, 110, 4, False),\n",
       "       (479, b'Rotom', b'Electric', b'Ghost',  50,  50,  77,  95,  77,  91, 4, False),\n",
       "       (479, b'RotomHeat Rotom', b'Electric', b'Fire',  50,  65, 107, 105, 107,  86, 4, False),\n",
       "       (479, b'RotomWash Rotom', b'Electric', b'Water',  50,  65, 107, 105, 107,  86, 4, False),\n",
       "       (479, b'RotomFrost Rotom', b'Electric', b'Ice',  50,  65, 107, 105, 107,  86, 4, False),\n",
       "       (479, b'RotomFan Rotom', b'Electric', b'Flying',  50,  65, 107, 105, 107,  86, 4, False),\n",
       "       (479, b'RotomMow Rotom', b'Electric', b'Grass',  50,  65, 107, 105, 107,  86, 4, False),\n",
       "       (480, b'Uxie', b'Psychic', b'',  75,  75, 130,  75, 130,  95, 4,  True),\n",
       "       (481, b'Mesprit', b'Psychic', b'',  80, 105, 105, 105, 105,  80, 4,  True),\n",
       "       (482, b'Azelf', b'Psychic', b'',  75, 125,  70, 125,  70, 115, 4,  True),\n",
       "       (483, b'Dialga', b'Steel', b'Dragon', 100, 120, 120, 150, 100,  90, 4,  True),\n",
       "       (484, b'Palkia', b'Water', b'Dragon',  90, 120, 100, 150, 120, 100, 4,  True),\n",
       "       (485, b'Heatran', b'Fire', b'Steel',  91,  90, 106, 130, 106,  77, 4,  True),\n",
       "       (486, b'Regigigas', b'Normal', b'', 110, 160, 110,  80, 110, 100, 4,  True),\n",
       "       (487, b'GiratinaAltered Forme', b'Ghost', b'Dragon', 150, 100, 120, 100, 120,  90, 4,  True),\n",
       "       (487, b'GiratinaOrigin Forme', b'Ghost', b'Dragon', 150, 120, 100, 120, 100,  90, 4,  True),\n",
       "       (488, b'Cresselia', b'Psychic', b'', 120,  70, 120,  75, 130,  85, 4, False),\n",
       "       (489, b'Phione', b'Water', b'',  80,  80,  80,  80,  80,  80, 4, False),\n",
       "       (490, b'Manaphy', b'Water', b'', 100, 100, 100, 100, 100, 100, 4, False),\n",
       "       (491, b'Darkrai', b'Dark', b'',  70,  90,  90, 135,  90, 125, 4,  True),\n",
       "       (492, b'ShayminLand Forme', b'Grass', b'', 100, 100, 100, 100, 100, 100, 4,  True),\n",
       "       (492, b'ShayminSky Forme', b'Grass', b'Flying', 100, 103,  75, 120,  75, 127, 4,  True),\n",
       "       (493, b'Arceus', b'Normal', b'', 120, 120, 120, 120, 120, 120, 4,  True),\n",
       "       (494, b'Victini', b'Psychic', b'Fire', 100, 100, 100, 100, 100, 100, 5,  True),\n",
       "       (495, b'Snivy', b'Grass', b'',  45,  45,  55,  45,  55,  63, 5, False),\n",
       "       (496, b'Servine', b'Grass', b'',  60,  60,  75,  60,  75,  83, 5, False),\n",
       "       (497, b'Serperior', b'Grass', b'',  75,  75,  95,  75,  95, 113, 5, False),\n",
       "       (498, b'Tepig', b'Fire', b'',  65,  63,  45,  45,  45,  45, 5, False),\n",
       "       (499, b'Pignite', b'Fire', b'Fighting',  90,  93,  55,  70,  55,  55, 5, False),\n",
       "       (500, b'Emboar', b'Fire', b'Fighting', 110, 123,  65, 100,  65,  65, 5, False),\n",
       "       (501, b'Oshawott', b'Water', b'',  55,  55,  45,  63,  45,  45, 5, False),\n",
       "       (502, b'Dewott', b'Water', b'',  75,  75,  60,  83,  60,  60, 5, False),\n",
       "       (503, b'Samurott', b'Water', b'',  95, 100,  85, 108,  70,  70, 5, False),\n",
       "       (504, b'Patrat', b'Normal', b'',  45,  55,  39,  35,  39,  42, 5, False),\n",
       "       (505, b'Watchog', b'Normal', b'',  60,  85,  69,  60,  69,  77, 5, False),\n",
       "       (506, b'Lillipup', b'Normal', b'',  45,  60,  45,  25,  45,  55, 5, False),\n",
       "       (507, b'Herdier', b'Normal', b'',  65,  80,  65,  35,  65,  60, 5, False),\n",
       "       (508, b'Stoutland', b'Normal', b'',  85, 110,  90,  45,  90,  80, 5, False),\n",
       "       (509, b'Purrloin', b'Dark', b'',  41,  50,  37,  50,  37,  66, 5, False),\n",
       "       (510, b'Liepard', b'Dark', b'',  64,  88,  50,  88,  50, 106, 5, False),\n",
       "       (511, b'Pansage', b'Grass', b'',  50,  53,  48,  53,  48,  64, 5, False),\n",
       "       (512, b'Simisage', b'Grass', b'',  75,  98,  63,  98,  63, 101, 5, False),\n",
       "       (513, b'Pansear', b'Fire', b'',  50,  53,  48,  53,  48,  64, 5, False),\n",
       "       (514, b'Simisear', b'Fire', b'',  75,  98,  63,  98,  63, 101, 5, False),\n",
       "       (515, b'Panpour', b'Water', b'',  50,  53,  48,  53,  48,  64, 5, False),\n",
       "       (516, b'Simipour', b'Water', b'',  75,  98,  63,  98,  63, 101, 5, False),\n",
       "       (517, b'Munna', b'Psychic', b'',  76,  25,  45,  67,  55,  24, 5, False),\n",
       "       (518, b'Musharna', b'Psychic', b'', 116,  55,  85, 107,  95,  29, 5, False),\n",
       "       (519, b'Pidove', b'Normal', b'Flying',  50,  55,  50,  36,  30,  43, 5, False),\n",
       "       (520, b'Tranquill', b'Normal', b'Flying',  62,  77,  62,  50,  42,  65, 5, False),\n",
       "       (521, b'Unfezant', b'Normal', b'Flying',  80, 115,  80,  65,  55,  93, 5, False),\n",
       "       (522, b'Blitzle', b'Electric', b'',  45,  60,  32,  50,  32,  76, 5, False),\n",
       "       (523, b'Zebstrika', b'Electric', b'',  75, 100,  63,  80,  63, 116, 5, False),\n",
       "       (524, b'Roggenrola', b'Rock', b'',  55,  75,  85,  25,  25,  15, 5, False),\n",
       "       (525, b'Boldore', b'Rock', b'',  70, 105, 105,  50,  40,  20, 5, False),\n",
       "       (526, b'Gigalith', b'Rock', b'',  85, 135, 130,  60,  80,  25, 5, False),\n",
       "       (527, b'Woobat', b'Psychic', b'Flying',  55,  45,  43,  55,  43,  72, 5, False),\n",
       "       (528, b'Swoobat', b'Psychic', b'Flying',  67,  57,  55,  77,  55, 114, 5, False),\n",
       "       (529, b'Drilbur', b'Ground', b'',  60,  85,  40,  30,  45,  68, 5, False),\n",
       "       (530, b'Excadrill', b'Ground', b'Steel', 110, 135,  60,  50,  65,  88, 5, False),\n",
       "       (531, b'Audino', b'Normal', b'', 103,  60,  86,  60,  86,  50, 5, False),\n",
       "       (531, b'AudinoMega Audino', b'Normal', b'Fairy', 103,  60, 126,  80, 126,  50, 5, False),\n",
       "       (532, b'Timburr', b'Fighting', b'',  75,  80,  55,  25,  35,  35, 5, False),\n",
       "       (533, b'Gurdurr', b'Fighting', b'',  85, 105,  85,  40,  50,  40, 5, False),\n",
       "       (534, b'Conkeldurr', b'Fighting', b'', 105, 140,  95,  55,  65,  45, 5, False),\n",
       "       (535, b'Tympole', b'Water', b'',  50,  50,  40,  50,  40,  64, 5, False),\n",
       "       (536, b'Palpitoad', b'Water', b'Ground',  75,  65,  55,  65,  55,  69, 5, False),\n",
       "       (537, b'Seismitoad', b'Water', b'Ground', 105,  95,  75,  85,  75,  74, 5, False),\n",
       "       (538, b'Throh', b'Fighting', b'', 120, 100,  85,  30,  85,  45, 5, False),\n",
       "       (539, b'Sawk', b'Fighting', b'',  75, 125,  75,  30,  75,  85, 5, False),\n",
       "       (540, b'Sewaddle', b'Bug', b'Grass',  45,  53,  70,  40,  60,  42, 5, False),\n",
       "       (541, b'Swadloon', b'Bug', b'Grass',  55,  63,  90,  50,  80,  42, 5, False),\n",
       "       (542, b'Leavanny', b'Bug', b'Grass',  75, 103,  80,  70,  80,  92, 5, False),\n",
       "       (543, b'Venipede', b'Bug', b'Poison',  30,  45,  59,  30,  39,  57, 5, False),\n",
       "       (544, b'Whirlipede', b'Bug', b'Poison',  40,  55,  99,  40,  79,  47, 5, False),\n",
       "       (545, b'Scolipede', b'Bug', b'Poison',  60, 100,  89,  55,  69, 112, 5, False),\n",
       "       (546, b'Cottonee', b'Grass', b'Fairy',  40,  27,  60,  37,  50,  66, 5, False),\n",
       "       (547, b'Whimsicott', b'Grass', b'Fairy',  60,  67,  85,  77,  75, 116, 5, False),\n",
       "       (548, b'Petilil', b'Grass', b'',  45,  35,  50,  70,  50,  30, 5, False),\n",
       "       (549, b'Lilligant', b'Grass', b'',  70,  60,  75, 110,  75,  90, 5, False),\n",
       "       (550, b'Basculin', b'Water', b'',  70,  92,  65,  80,  55,  98, 5, False),\n",
       "       (551, b'Sandile', b'Ground', b'Dark',  50,  72,  35,  35,  35,  65, 5, False),\n",
       "       (552, b'Krokorok', b'Ground', b'Dark',  60,  82,  45,  45,  45,  74, 5, False),\n",
       "       (553, b'Krookodile', b'Ground', b'Dark',  95, 117,  80,  65,  70,  92, 5, False),\n",
       "       (554, b'Darumaka', b'Fire', b'',  70,  90,  45,  15,  45,  50, 5, False),\n",
       "       (555, b'DarmanitanStandard Mode', b'Fire', b'', 105, 140,  55,  30,  55,  95, 5, False),\n",
       "       (555, b'DarmanitanZen Mode', b'Fire', b'Psychic', 105,  30, 105, 140, 105,  55, 5, False),\n",
       "       (556, b'Maractus', b'Grass', b'',  75,  86,  67, 106,  67,  60, 5, False),\n",
       "       (557, b'Dwebble', b'Bug', b'Rock',  50,  65,  85,  35,  35,  55, 5, False),\n",
       "       (558, b'Crustle', b'Bug', b'Rock',  70,  95, 125,  65,  75,  45, 5, False),\n",
       "       (559, b'Scraggy', b'Dark', b'Fighting',  50,  75,  70,  35,  70,  48, 5, False),\n",
       "       (560, b'Scrafty', b'Dark', b'Fighting',  65,  90, 115,  45, 115,  58, 5, False),\n",
       "       (561, b'Sigilyph', b'Psychic', b'Flying',  72,  58,  80, 103,  80,  97, 5, False),\n",
       "       (562, b'Yamask', b'Ghost', b'',  38,  30,  85,  55,  65,  30, 5, False),\n",
       "       (563, b'Cofagrigus', b'Ghost', b'',  58,  50, 145,  95, 105,  30, 5, False),\n",
       "       (564, b'Tirtouga', b'Water', b'Rock',  54,  78, 103,  53,  45,  22, 5, False),\n",
       "       (565, b'Carracosta', b'Water', b'Rock',  74, 108, 133,  83,  65,  32, 5, False),\n",
       "       (566, b'Archen', b'Rock', b'Flying',  55, 112,  45,  74,  45,  70, 5, False),\n",
       "       (567, b'Archeops', b'Rock', b'Flying',  75, 140,  65, 112,  65, 110, 5, False),\n",
       "       (568, b'Trubbish', b'Poison', b'',  50,  50,  62,  40,  62,  65, 5, False),\n",
       "       (569, b'Garbodor', b'Poison', b'',  80,  95,  82,  60,  82,  75, 5, False),\n",
       "       (570, b'Zorua', b'Dark', b'',  40,  65,  40,  80,  40,  65, 5, False),\n",
       "       (571, b'Zoroark', b'Dark', b'',  60, 105,  60, 120,  60, 105, 5, False),\n",
       "       (572, b'Minccino', b'Normal', b'',  55,  50,  40,  40,  40,  75, 5, False),\n",
       "       (573, b'Cinccino', b'Normal', b'',  75,  95,  60,  65,  60, 115, 5, False),\n",
       "       (574, b'Gothita', b'Psychic', b'',  45,  30,  50,  55,  65,  45, 5, False),\n",
       "       (575, b'Gothorita', b'Psychic', b'',  60,  45,  70,  75,  85,  55, 5, False),\n",
       "       (576, b'Gothitelle', b'Psychic', b'',  70,  55,  95,  95, 110,  65, 5, False),\n",
       "       (577, b'Solosis', b'Psychic', b'',  45,  30,  40, 105,  50,  20, 5, False),\n",
       "       (578, b'Duosion', b'Psychic', b'',  65,  40,  50, 125,  60,  30, 5, False),\n",
       "       (579, b'Reuniclus', b'Psychic', b'', 110,  65,  75, 125,  85,  30, 5, False),\n",
       "       (580, b'Ducklett', b'Water', b'Flying',  62,  44,  50,  44,  50,  55, 5, False),\n",
       "       (581, b'Swanna', b'Water', b'Flying',  75,  87,  63,  87,  63,  98, 5, False),\n",
       "       (582, b'Vanillite', b'Ice', b'',  36,  50,  50,  65,  60,  44, 5, False),\n",
       "       (583, b'Vanillish', b'Ice', b'',  51,  65,  65,  80,  75,  59, 5, False),\n",
       "       (584, b'Vanilluxe', b'Ice', b'',  71,  95,  85, 110,  95,  79, 5, False),\n",
       "       (585, b'Deerling', b'Normal', b'Grass',  60,  60,  50,  40,  50,  75, 5, False),\n",
       "       (586, b'Sawsbuck', b'Normal', b'Grass',  80, 100,  70,  60,  70,  95, 5, False),\n",
       "       (587, b'Emolga', b'Electric', b'Flying',  55,  75,  60,  75,  60, 103, 5, False),\n",
       "       (588, b'Karrablast', b'Bug', b'',  50,  75,  45,  40,  45,  60, 5, False),\n",
       "       (589, b'Escavalier', b'Bug', b'Steel',  70, 135, 105,  60, 105,  20, 5, False),\n",
       "       (590, b'Foongus', b'Grass', b'Poison',  69,  55,  45,  55,  55,  15, 5, False),\n",
       "       (591, b'Amoonguss', b'Grass', b'Poison', 114,  85,  70,  85,  80,  30, 5, False),\n",
       "       (592, b'Frillish', b'Water', b'Ghost',  55,  40,  50,  65,  85,  40, 5, False),\n",
       "       (593, b'Jellicent', b'Water', b'Ghost', 100,  60,  70,  85, 105,  60, 5, False),\n",
       "       (594, b'Alomomola', b'Water', b'', 165,  75,  80,  40,  45,  65, 5, False),\n",
       "       (595, b'Joltik', b'Bug', b'Electric',  50,  47,  50,  57,  50,  65, 5, False),\n",
       "       (596, b'Galvantula', b'Bug', b'Electric',  70,  77,  60,  97,  60, 108, 5, False),\n",
       "       (597, b'Ferroseed', b'Grass', b'Steel',  44,  50,  91,  24,  86,  10, 5, False),\n",
       "       (598, b'Ferrothorn', b'Grass', b'Steel',  74,  94, 131,  54, 116,  20, 5, False),\n",
       "       (599, b'Klink', b'Steel', b'',  40,  55,  70,  45,  60,  30, 5, False),\n",
       "       (600, b'Klang', b'Steel', b'',  60,  80,  95,  70,  85,  50, 5, False),\n",
       "       (601, b'Klinklang', b'Steel', b'',  60, 100, 115,  70,  85,  90, 5, False),\n",
       "       (602, b'Tynamo', b'Electric', b'',  35,  55,  40,  45,  40,  60, 5, False),\n",
       "       (603, b'Eelektrik', b'Electric', b'',  65,  85,  70,  75,  70,  40, 5, False),\n",
       "       (604, b'Eelektross', b'Electric', b'',  85, 115,  80, 105,  80,  50, 5, False),\n",
       "       (605, b'Elgyem', b'Psychic', b'',  55,  55,  55,  85,  55,  30, 5, False),\n",
       "       (606, b'Beheeyem', b'Psychic', b'',  75,  75,  75, 125,  95,  40, 5, False),\n",
       "       (607, b'Litwick', b'Ghost', b'Fire',  50,  30,  55,  65,  55,  20, 5, False),\n",
       "       (608, b'Lampent', b'Ghost', b'Fire',  60,  40,  60,  95,  60,  55, 5, False),\n",
       "       (609, b'Chandelure', b'Ghost', b'Fire',  60,  55,  90, 145,  90,  80, 5, False),\n",
       "       (610, b'Axew', b'Dragon', b'',  46,  87,  60,  30,  40,  57, 5, False),\n",
       "       (611, b'Fraxure', b'Dragon', b'',  66, 117,  70,  40,  50,  67, 5, False),\n",
       "       (612, b'Haxorus', b'Dragon', b'',  76, 147,  90,  60,  70,  97, 5, False),\n",
       "       (613, b'Cubchoo', b'Ice', b'',  55,  70,  40,  60,  40,  40, 5, False),\n",
       "       (614, b'Beartic', b'Ice', b'',  95, 110,  80,  70,  80,  50, 5, False),\n",
       "       (615, b'Cryogonal', b'Ice', b'',  70,  50,  30,  95, 135, 105, 5, False),\n",
       "       (616, b'Shelmet', b'Bug', b'',  50,  40,  85,  40,  65,  25, 5, False),\n",
       "       (617, b'Accelgor', b'Bug', b'',  80,  70,  40, 100,  60, 145, 5, False),\n",
       "       (618, b'Stunfisk', b'Ground', b'Electric', 109,  66,  84,  81,  99,  32, 5, False),\n",
       "       (619, b'Mienfoo', b'Fighting', b'',  45,  85,  50,  55,  50,  65, 5, False),\n",
       "       (620, b'Mienshao', b'Fighting', b'',  65, 125,  60,  95,  60, 105, 5, False),\n",
       "       (621, b'Druddigon', b'Dragon', b'',  77, 120,  90,  60,  90,  48, 5, False),\n",
       "       (622, b'Golett', b'Ground', b'Ghost',  59,  74,  50,  35,  50,  35, 5, False),\n",
       "       (623, b'Golurk', b'Ground', b'Ghost',  89, 124,  80,  55,  80,  55, 5, False),\n",
       "       (624, b'Pawniard', b'Dark', b'Steel',  45,  85,  70,  40,  40,  60, 5, False),\n",
       "       (625, b'Bisharp', b'Dark', b'Steel',  65, 125, 100,  60,  70,  70, 5, False),\n",
       "       (626, b'Bouffalant', b'Normal', b'',  95, 110,  95,  40,  95,  55, 5, False),\n",
       "       (627, b'Rufflet', b'Normal', b'Flying',  70,  83,  50,  37,  50,  60, 5, False),\n",
       "       (628, b'Braviary', b'Normal', b'Flying', 100, 123,  75,  57,  75,  80, 5, False),\n",
       "       (629, b'Vullaby', b'Dark', b'Flying',  70,  55,  75,  45,  65,  60, 5, False),\n",
       "       (630, b'Mandibuzz', b'Dark', b'Flying', 110,  65, 105,  55,  95,  80, 5, False),\n",
       "       (631, b'Heatmor', b'Fire', b'',  85,  97,  66, 105,  66,  65, 5, False),\n",
       "       (632, b'Durant', b'Bug', b'Steel',  58, 109, 112,  48,  48, 109, 5, False),\n",
       "       (633, b'Deino', b'Dark', b'Dragon',  52,  65,  50,  45,  50,  38, 5, False),\n",
       "       (634, b'Zweilous', b'Dark', b'Dragon',  72,  85,  70,  65,  70,  58, 5, False),\n",
       "       (635, b'Hydreigon', b'Dark', b'Dragon',  92, 105,  90, 125,  90,  98, 5, False),\n",
       "       (636, b'Larvesta', b'Bug', b'Fire',  55,  85,  55,  50,  55,  60, 5, False),\n",
       "       (637, b'Volcarona', b'Bug', b'Fire',  85,  60,  65, 135, 105, 100, 5, False),\n",
       "       (638, b'Cobalion', b'Steel', b'Fighting',  91,  90, 129,  90,  72, 108, 5,  True),\n",
       "       (639, b'Terrakion', b'Rock', b'Fighting',  91, 129,  90,  72,  90, 108, 5,  True),\n",
       "       (640, b'Virizion', b'Grass', b'Fighting',  91,  90,  72,  90, 129, 108, 5,  True),\n",
       "       (641, b'TornadusIncarnate Forme', b'Flying', b'',  79, 115,  70, 125,  80, 111, 5,  True),\n",
       "       (641, b'TornadusTherian Forme', b'Flying', b'',  79, 100,  80, 110,  90, 121, 5,  True),\n",
       "       (642, b'ThundurusIncarnate Forme', b'Electric', b'Flying',  79, 115,  70, 125,  80, 111, 5,  True),\n",
       "       (642, b'ThundurusTherian Forme', b'Electric', b'Flying',  79, 105,  70, 145,  80, 101, 5,  True),\n",
       "       (643, b'Reshiram', b'Dragon', b'Fire', 100, 120, 100, 150, 120,  90, 5,  True),\n",
       "       (644, b'Zekrom', b'Dragon', b'Electric', 100, 150, 120, 120, 100,  90, 5,  True),\n",
       "       (645, b'LandorusIncarnate Forme', b'Ground', b'Flying',  89, 125,  90, 115,  80, 101, 5,  True),\n",
       "       (645, b'LandorusTherian Forme', b'Ground', b'Flying',  89, 145,  90, 105,  80,  91, 5,  True),\n",
       "       (646, b'Kyurem', b'Dragon', b'Ice', 125, 130,  90, 130,  90,  95, 5,  True),\n",
       "       (646, b'KyuremBlack Kyurem', b'Dragon', b'Ice', 125, 170, 100, 120,  90,  95, 5,  True),\n",
       "       (646, b'KyuremWhite Kyurem', b'Dragon', b'Ice', 125, 120,  90, 170, 100,  95, 5,  True),\n",
       "       (647, b'KeldeoOrdinary Forme', b'Water', b'Fighting',  91,  72,  90, 129,  90, 108, 5, False),\n",
       "       (647, b'KeldeoResolute Forme', b'Water', b'Fighting',  91,  72,  90, 129,  90, 108, 5, False),\n",
       "       (648, b'MeloettaAria Forme', b'Normal', b'Psychic', 100,  77,  77, 128, 128,  90, 5, False),\n",
       "       (648, b'MeloettaPirouette Forme', b'Normal', b'Fighting', 100, 128,  90,  77,  77, 128, 5, False),\n",
       "       (649, b'Genesect', b'Bug', b'Steel',  71, 120,  95, 120,  95,  99, 5, False),\n",
       "       (650, b'Chespin', b'Grass', b'',  56,  61,  65,  48,  45,  38, 6, False),\n",
       "       (651, b'Quilladin', b'Grass', b'',  61,  78,  95,  56,  58,  57, 6, False),\n",
       "       (652, b'Chesnaught', b'Grass', b'Fighting',  88, 107, 122,  74,  75,  64, 6, False),\n",
       "       (653, b'Fennekin', b'Fire', b'',  40,  45,  40,  62,  60,  60, 6, False),\n",
       "       (654, b'Braixen', b'Fire', b'',  59,  59,  58,  90,  70,  73, 6, False),\n",
       "       (655, b'Delphox', b'Fire', b'Psychic',  75,  69,  72, 114, 100, 104, 6, False),\n",
       "       (656, b'Froakie', b'Water', b'',  41,  56,  40,  62,  44,  71, 6, False),\n",
       "       (657, b'Frogadier', b'Water', b'',  54,  63,  52,  83,  56,  97, 6, False),\n",
       "       (658, b'Greninja', b'Water', b'Dark',  72,  95,  67, 103,  71, 122, 6, False),\n",
       "       (659, b'Bunnelby', b'Normal', b'',  38,  36,  38,  32,  36,  57, 6, False),\n",
       "       (660, b'Diggersby', b'Normal', b'Ground',  85,  56,  77,  50,  77,  78, 6, False),\n",
       "       (661, b'Fletchling', b'Normal', b'Flying',  45,  50,  43,  40,  38,  62, 6, False),\n",
       "       (662, b'Fletchinder', b'Fire', b'Flying',  62,  73,  55,  56,  52,  84, 6, False),\n",
       "       (663, b'Talonflame', b'Fire', b'Flying',  78,  81,  71,  74,  69, 126, 6, False),\n",
       "       (664, b'Scatterbug', b'Bug', b'',  38,  35,  40,  27,  25,  35, 6, False),\n",
       "       (665, b'Spewpa', b'Bug', b'',  45,  22,  60,  27,  30,  29, 6, False),\n",
       "       (666, b'Vivillon', b'Bug', b'Flying',  80,  52,  50,  90,  50,  89, 6, False),\n",
       "       (667, b'Litleo', b'Fire', b'Normal',  62,  50,  58,  73,  54,  72, 6, False),\n",
       "       (668, b'Pyroar', b'Fire', b'Normal',  86,  68,  72, 109,  66, 106, 6, False),\n",
       "       (669, b'Flab\\xc3\\xa9b\\xc3\\xa9', b'Fairy', b'',  44,  38,  39,  61,  79,  42, 6, False),\n",
       "       (670, b'Floette', b'Fairy', b'',  54,  45,  47,  75,  98,  52, 6, False),\n",
       "       (671, b'Florges', b'Fairy', b'',  78,  65,  68, 112, 154,  75, 6, False),\n",
       "       (672, b'Skiddo', b'Grass', b'',  66,  65,  48,  62,  57,  52, 6, False),\n",
       "       (673, b'Gogoat', b'Grass', b'', 123, 100,  62,  97,  81,  68, 6, False),\n",
       "       (674, b'Pancham', b'Fighting', b'',  67,  82,  62,  46,  48,  43, 6, False),\n",
       "       (675, b'Pangoro', b'Fighting', b'Dark',  95, 124,  78,  69,  71,  58, 6, False),\n",
       "       (676, b'Furfrou', b'Normal', b'',  75,  80,  60,  65,  90, 102, 6, False),\n",
       "       (677, b'Espurr', b'Psychic', b'',  62,  48,  54,  63,  60,  68, 6, False),\n",
       "       (678, b'MeowsticMale', b'Psychic', b'',  74,  48,  76,  83,  81, 104, 6, False),\n",
       "       (678, b'MeowsticFemale', b'Psychic', b'',  74,  48,  76,  83,  81, 104, 6, False),\n",
       "       (679, b'Honedge', b'Steel', b'Ghost',  45,  80, 100,  35,  37,  28, 6, False),\n",
       "       (680, b'Doublade', b'Steel', b'Ghost',  59, 110, 150,  45,  49,  35, 6, False),\n",
       "       (681, b'AegislashBlade Forme', b'Steel', b'Ghost',  60, 150,  50, 150,  50,  60, 6, False),\n",
       "       (681, b'AegislashShield Forme', b'Steel', b'Ghost',  60,  50, 150,  50, 150,  60, 6, False),\n",
       "       (682, b'Spritzee', b'Fairy', b'',  78,  52,  60,  63,  65,  23, 6, False),\n",
       "       (683, b'Aromatisse', b'Fairy', b'', 101,  72,  72,  99,  89,  29, 6, False),\n",
       "       (684, b'Swirlix', b'Fairy', b'',  62,  48,  66,  59,  57,  49, 6, False),\n",
       "       (685, b'Slurpuff', b'Fairy', b'',  82,  80,  86,  85,  75,  72, 6, False),\n",
       "       (686, b'Inkay', b'Dark', b'Psychic',  53,  54,  53,  37,  46,  45, 6, False),\n",
       "       (687, b'Malamar', b'Dark', b'Psychic',  86,  92,  88,  68,  75,  73, 6, False),\n",
       "       (688, b'Binacle', b'Rock', b'Water',  42,  52,  67,  39,  56,  50, 6, False),\n",
       "       (689, b'Barbaracle', b'Rock', b'Water',  72, 105, 115,  54,  86,  68, 6, False),\n",
       "       (690, b'Skrelp', b'Poison', b'Water',  50,  60,  60,  60,  60,  30, 6, False),\n",
       "       (691, b'Dragalge', b'Poison', b'Dragon',  65,  75,  90,  97, 123,  44, 6, False),\n",
       "       (692, b'Clauncher', b'Water', b'',  50,  53,  62,  58,  63,  44, 6, False),\n",
       "       (693, b'Clawitzer', b'Water', b'',  71,  73,  88, 120,  89,  59, 6, False),\n",
       "       (694, b'Helioptile', b'Electric', b'Normal',  44,  38,  33,  61,  43,  70, 6, False),\n",
       "       (695, b'Heliolisk', b'Electric', b'Normal',  62,  55,  52, 109,  94, 109, 6, False),\n",
       "       (696, b'Tyrunt', b'Rock', b'Dragon',  58,  89,  77,  45,  45,  48, 6, False),\n",
       "       (697, b'Tyrantrum', b'Rock', b'Dragon',  82, 121, 119,  69,  59,  71, 6, False),\n",
       "       (698, b'Amaura', b'Rock', b'Ice',  77,  59,  50,  67,  63,  46, 6, False),\n",
       "       (699, b'Aurorus', b'Rock', b'Ice', 123,  77,  72,  99,  92,  58, 6, False),\n",
       "       (700, b'Sylveon', b'Fairy', b'',  95,  65,  65, 110, 130,  60, 6, False),\n",
       "       (701, b'Hawlucha', b'Fighting', b'Flying',  78,  92,  75,  74,  63, 118, 6, False),\n",
       "       (702, b'Dedenne', b'Electric', b'Fairy',  67,  58,  57,  81,  67, 101, 6, False),\n",
       "       (703, b'Carbink', b'Rock', b'Fairy',  50,  50, 150,  50, 150,  50, 6, False),\n",
       "       (704, b'Goomy', b'Dragon', b'',  45,  50,  35,  55,  75,  40, 6, False),\n",
       "       (705, b'Sliggoo', b'Dragon', b'',  68,  75,  53,  83, 113,  60, 6, False),\n",
       "       (706, b'Goodra', b'Dragon', b'',  90, 100,  70, 110, 150,  80, 6, False),\n",
       "       (707, b'Klefki', b'Steel', b'Fairy',  57,  80,  91,  80,  87,  75, 6, False),\n",
       "       (708, b'Phantump', b'Ghost', b'Grass',  43,  70,  48,  50,  60,  38, 6, False),\n",
       "       (709, b'Trevenant', b'Ghost', b'Grass',  85, 110,  76,  65,  82,  56, 6, False),\n",
       "       (710, b'PumpkabooAverage Size', b'Ghost', b'Grass',  49,  66,  70,  44,  55,  51, 6, False),\n",
       "       (710, b'PumpkabooSmall Size', b'Ghost', b'Grass',  44,  66,  70,  44,  55,  56, 6, False),\n",
       "       (710, b'PumpkabooLarge Size', b'Ghost', b'Grass',  54,  66,  70,  44,  55,  46, 6, False),\n",
       "       (710, b'PumpkabooSuper Size', b'Ghost', b'Grass',  59,  66,  70,  44,  55,  41, 6, False),\n",
       "       (711, b'GourgeistAverage Size', b'Ghost', b'Grass',  65,  90, 122,  58,  75,  84, 6, False),\n",
       "       (711, b'GourgeistSmall Size', b'Ghost', b'Grass',  55,  85, 122,  58,  75,  99, 6, False),\n",
       "       (711, b'GourgeistLarge Size', b'Ghost', b'Grass',  75,  95, 122,  58,  75,  69, 6, False),\n",
       "       (711, b'GourgeistSuper Size', b'Ghost', b'Grass',  85, 100, 122,  58,  75,  54, 6, False),\n",
       "       (712, b'Bergmite', b'Ice', b'',  55,  69,  85,  32,  35,  28, 6, False),\n",
       "       (713, b'Avalugg', b'Ice', b'',  95, 117, 184,  44,  46,  28, 6, False),\n",
       "       (714, b'Noibat', b'Flying', b'Dragon',  40,  30,  35,  45,  40,  55, 6, False),\n",
       "       (715, b'Noivern', b'Flying', b'Dragon',  85,  70,  80,  97,  80, 123, 6, False),\n",
       "       (716, b'Xerneas', b'Fairy', b'', 126, 131,  95, 131,  98,  99, 6,  True),\n",
       "       (717, b'Yveltal', b'Dark', b'Flying', 126, 131,  95, 131,  98,  99, 6,  True),\n",
       "       (718, b'Zygarde50% Forme', b'Dragon', b'Ground', 108, 100, 121,  81,  95,  95, 6,  True),\n",
       "       (719, b'Diancie', b'Rock', b'Fairy',  50, 100, 150, 100, 150,  50, 6,  True),\n",
       "       (719, b'DiancieMega Diancie', b'Rock', b'Fairy',  50, 160, 110, 160, 110, 110, 6,  True),\n",
       "       (720, b'HoopaHoopa Confined', b'Psychic', b'Ghost',  80, 110,  60, 150, 130,  70, 6,  True),\n",
       "       (720, b'HoopaHoopa Unbound', b'Psychic', b'Dark',  80, 160,  60, 170, 130,  80, 6,  True),\n",
       "       (721, b'Volcanion', b'Fire', b'Water',  80, 110, 120, 130,  90,  70, 6,  True)],\n",
       "      dtype=[('f0', '<i4'), ('Name', 'S25'), ('Type_1', 'S8'), ('Type_2', 'S8'), ('HP', '<i4'), ('Attack', '<i4'), ('Defense', '<i4'), ('Sp_Atk', '<i4'), ('Sp_Def', '<i4'), ('Speed', '<i4'), ('Generation', '<i4'), ('Legendary', '?')])"
      ]
     },
     "execution_count": 3,
     "metadata": {},
     "output_type": "execute_result"
    }
   ],
   "source": [
    "pokemon2"
   ]
  },
  {
   "cell_type": "code",
   "execution_count": 4,
   "id": "68470392",
   "metadata": {},
   "outputs": [
    {
     "data": {
      "text/plain": [
       "(800,)"
      ]
     },
     "execution_count": 4,
     "metadata": {},
     "output_type": "execute_result"
    }
   ],
   "source": [
    "pokemon2.shape"
   ]
  },
  {
   "cell_type": "code",
   "execution_count": 5,
   "id": "8b372e6f",
   "metadata": {},
   "outputs": [
    {
     "data": {
      "text/plain": [
       "array([ 45,  60,  80,  80,  65,  80, 100, 100, 100,  43])"
      ]
     },
     "execution_count": 5,
     "metadata": {},
     "output_type": "execute_result"
    }
   ],
   "source": [
    "pokemon2['Speed'][0:10]"
   ]
  },
  {
   "cell_type": "code",
   "execution_count": 6,
   "id": "8f312255",
   "metadata": {},
   "outputs": [
    {
     "data": {
      "text/plain": [
       "array([18, 24, 32, 32, 26, 32, 40, 40, 40, 17, 23, 31, 31, 18, 12, 28, 20,\n",
       "       14, 30, 58])"
      ]
     },
     "execution_count": 6,
     "metadata": {},
     "output_type": "execute_result"
    }
   ],
   "source": [
    "pokemon2['Speed']=pokemon2['Speed']/10*4\n",
    "pokemon2['Speed'][0:20]"
   ]
  },
  {
   "cell_type": "code",
   "execution_count": 7,
   "id": "1c8977b8",
   "metadata": {},
   "outputs": [
    {
     "data": {
      "text/plain": [
       "dtype([('f0', '<i4'), ('Name', 'S25'), ('Type_1', 'S8'), ('Type_2', 'S8'), ('HP', '<i4'), ('Attack', '<i4'), ('Defense', '<i4'), ('Sp_Atk', '<i4'), ('Sp_Def', '<i4'), ('Speed', '<i4'), ('Generation', '<i4'), ('Legendary', '?')])"
      ]
     },
     "execution_count": 7,
     "metadata": {},
     "output_type": "execute_result"
    }
   ],
   "source": [
    "pokemon2.dtype"
   ]
  },
  {
   "cell_type": "code",
   "execution_count": 8,
   "id": "d0aa0a6d",
   "metadata": {},
   "outputs": [
    {
     "ename": "NameError",
     "evalue": "name 'pokemon' is not defined",
     "output_type": "error",
     "traceback": [
      "\u001b[1;31m---------------------------------------------------------------------------\u001b[0m",
      "\u001b[1;31mNameError\u001b[0m                                 Traceback (most recent call last)",
      "Cell \u001b[1;32mIn[8], line 1\u001b[0m\n\u001b[1;32m----> 1\u001b[0m \u001b[43mpokemon\u001b[49m\u001b[38;5;241m.\u001b[39mdtype\n",
      "\u001b[1;31mNameError\u001b[0m: name 'pokemon' is not defined"
     ]
    }
   ],
   "source": [
    "pokemon.dtype"
   ]
  },
  {
   "cell_type": "code",
   "execution_count": 9,
   "id": "c3da1083",
   "metadata": {},
   "outputs": [
    {
     "data": {
      "text/plain": [
       "27"
      ]
     },
     "execution_count": 9,
     "metadata": {},
     "output_type": "execute_result"
    }
   ],
   "source": [
    "len(pokemon2[pokemon2['Type_1']==b\"Steel\"])"
   ]
  },
  {
   "cell_type": "code",
   "execution_count": 13,
   "id": "fb5787bc",
   "metadata": {},
   "outputs": [
    {
     "name": "stdout",
     "output_type": "stream",
     "text": [
      "69.45\n"
     ]
    }
   ],
   "source": [
    "print(pokemon2[pokemon2['Speed']>50]['Defense'].mean())"
   ]
  },
  {
   "cell_type": "code",
   "execution_count": 14,
   "id": "cb9ea660",
   "metadata": {},
   "outputs": [
    {
     "name": "stdout",
     "output_type": "stream",
     "text": [
      "73.96645161290323\n"
     ]
    }
   ],
   "source": [
    "print(pokemon2[pokemon2['Speed']<50]['Defense'].mean())"
   ]
  },
  {
   "cell_type": "code",
   "execution_count": 16,
   "id": "eca08dc0",
   "metadata": {},
   "outputs": [
    {
     "data": {
      "text/plain": [
       "array([( 15, b'BeedrillMega Beedrill', b'Bug', b'Poison',  65, 150,  40,  15,  80, 58, 1, False),\n",
       "       ( 65, b'AlakazamMega Alakazam', b'Psychic', b'',  55,  50,  65, 175,  95, 60, 1, False),\n",
       "       ( 94, b'GengarMega Gengar', b'Ghost', b'Poison',  60,  65,  80, 170,  95, 52, 1, False),\n",
       "       (101, b'Electrode', b'Electric', b'',  60,  50,  70,  80,  80, 56, 1, False),\n",
       "       (135, b'Jolteon', b'Electric', b'',  65,  65,  60, 110,  95, 52, 1, False),\n",
       "       (142, b'Aerodactyl', b'Rock', b'Flying',  80, 105,  65,  60,  75, 52, 1, False),\n",
       "       (142, b'AerodactylMega Aerodactyl', b'Rock', b'Flying',  80, 135,  85,  70,  95, 60, 1, False),\n",
       "       (150, b'Mewtwo', b'Psychic', b'', 106, 110,  90, 154,  90, 52, 1,  True),\n",
       "       (150, b'MewtwoMega Mewtwo X', b'Psychic', b'Fighting', 106, 190, 100, 154, 100, 52, 1,  True),\n",
       "       (150, b'MewtwoMega Mewtwo Y', b'Psychic', b'', 106, 150,  70, 194, 120, 56, 1,  True),\n",
       "       (169, b'Crobat', b'Poison', b'Flying',  85,  90,  80,  70,  80, 52, 2, False),\n",
       "       (254, b'SceptileMega Sceptile', b'Grass', b'Dragon',  70, 110,  75, 145,  85, 58, 3, False),\n",
       "       (291, b'Ninjask', b'Bug', b'Flying',  61,  90,  45,  50,  50, 64, 3, False),\n",
       "       (310, b'ManectricMega Manectric', b'Electric', b'',  70,  75,  80, 135,  80, 54, 3, False),\n",
       "       (386, b'DeoxysNormal Forme', b'Psychic', b'',  50, 150,  50, 150,  50, 60, 3,  True),\n",
       "       (386, b'DeoxysAttack Forme', b'Psychic', b'',  50, 180,  20, 180,  20, 60, 3,  True),\n",
       "       (386, b'DeoxysSpeed Forme', b'Psychic', b'',  50,  95,  90,  95,  90, 72, 3,  True),\n",
       "       (428, b'LopunnyMega Lopunny', b'Normal', b'Fighting',  65, 136,  94,  54,  96, 54, 4, False),\n",
       "       (617, b'Accelgor', b'Bug', b'',  80,  70,  40, 100,  60, 58, 5, False),\n",
       "       (648, b'MeloettaPirouette Forme', b'Normal', b'Fighting', 100, 128,  90,  77,  77, 51, 5, False)],\n",
       "      dtype=[('f0', '<i4'), ('Name', 'S25'), ('Type_1', 'S8'), ('Type_2', 'S8'), ('HP', '<i4'), ('Attack', '<i4'), ('Defense', '<i4'), ('Sp_Atk', '<i4'), ('Sp_Def', '<i4'), ('Speed', '<i4'), ('Generation', '<i4'), ('Legendary', '?')])"
      ]
     },
     "execution_count": 16,
     "metadata": {},
     "output_type": "execute_result"
    }
   ],
   "source": [
    "pokemon2[pokemon2['Speed']>50]"
   ]
  },
  {
   "cell_type": "code",
   "execution_count": 27,
   "id": "4eaddb4d",
   "metadata": {},
   "outputs": [],
   "source": [
    "import re"
   ]
  },
  {
   "cell_type": "code",
   "execution_count": 29,
   "id": "fd71372f",
   "metadata": {},
   "outputs": [
    {
     "name": "stdout",
     "output_type": "stream",
     "text": [
      "hhozefa\n"
     ]
    }
   ],
   "source": [
    "text=\"Good Morning \"\n",
    "if re.search(\"Morning\",text):\n",
    "    print(\"hhozefa\")\n",
    "else:\n",
    "    print(\"Chod de\")\n"
   ]
  },
  {
   "cell_type": "code",
   "execution_count": 34,
   "id": "c008c95b",
   "metadata": {},
   "outputs": [],
   "source": [
    "text1=\"Hozefa Amar is a good boy.Musu amar is mother of Hozefa amar.Hozefa amar is the elder brother of timepass amar.\"\n",
    "a=re.split(\"Hozefa\",text1)"
   ]
  },
  {
   "cell_type": "code",
   "execution_count": 35,
   "id": "fd74faf8",
   "metadata": {},
   "outputs": [
    {
     "data": {
      "text/plain": [
       "['',\n",
       " ' Amar is a good boy.Musu amar is mother of ',\n",
       " ' amar.',\n",
       " ' amar is the elder brother of timepass amar.']"
      ]
     },
     "execution_count": 35,
     "metadata": {},
     "output_type": "execute_result"
    }
   ],
   "source": [
    "a"
   ]
  },
  {
   "cell_type": "code",
   "execution_count": 36,
   "id": "2bd08e94",
   "metadata": {},
   "outputs": [],
   "source": [
    "b=re.findall(\"Hozefa\",text1)"
   ]
  },
  {
   "cell_type": "code",
   "execution_count": 37,
   "id": "fc4bd599",
   "metadata": {},
   "outputs": [
    {
     "data": {
      "text/plain": [
       "['Hozefa', 'Hozefa', 'Hozefa']"
      ]
     },
     "execution_count": 37,
     "metadata": {},
     "output_type": "execute_result"
    }
   ],
   "source": [
    "b"
   ]
  },
  {
   "cell_type": "markdown",
   "id": "b2040f67",
   "metadata": {},
   "source": [
    "Pattern and character class"
   ]
  },
  {
   "cell_type": "code",
   "execution_count": 43,
   "id": "9d1e7082",
   "metadata": {},
   "outputs": [
    {
     "data": {
      "text/plain": [
       "['a', 'a', 'a', 'a', 'a', 'a', 'a', 'a', 'a']"
      ]
     },
     "execution_count": 43,
     "metadata": {},
     "output_type": "execute_result"
    }
   ],
   "source": [
    "texte=\"abcaaabcaaacabcba\"\n",
    "re.findall(\"a\",texte)"
   ]
  },
  {
   "cell_type": "code",
   "execution_count": 44,
   "id": "9a33d71f",
   "metadata": {},
   "outputs": [
    {
     "data": {
      "text/plain": [
       "['a', 'b', 'a', 'a', 'a', 'b', 'a', 'a', 'a', 'a', 'b', 'b', 'a']"
      ]
     },
     "execution_count": 44,
     "metadata": {},
     "output_type": "execute_result"
    }
   ],
   "source": [
    "re.findall(\"[ab]\",texte)"
   ]
  },
  {
   "cell_type": "code",
   "execution_count": 47,
   "id": "dc941c30",
   "metadata": {},
   "outputs": [
    {
     "data": {
      "text/plain": [
       "['ab', 'ab', 'ac', 'ab']"
      ]
     },
     "execution_count": 47,
     "metadata": {},
     "output_type": "execute_result"
    }
   ],
   "source": [
    "re.findall(\"[a][b-c]\",texte)"
   ]
  },
  {
   "cell_type": "code",
   "execution_count": 48,
   "id": "2af7a3e8",
   "metadata": {},
   "outputs": [
    {
     "data": {
      "text/plain": [
       "['ab', 'ab', 'ac', 'ab']"
      ]
     },
     "execution_count": 48,
     "metadata": {},
     "output_type": "execute_result"
    }
   ],
   "source": [
    "re.findall(\"ab|ac\",texte)"
   ]
  },
  {
   "cell_type": "code",
   "execution_count": 49,
   "id": "972e6e16",
   "metadata": {},
   "outputs": [
    {
     "data": {
      "text/plain": [
       "['b', 'c', 'b', 'c', 'c', 'b', 'c', 'b']"
      ]
     },
     "execution_count": 49,
     "metadata": {},
     "output_type": "execute_result"
    }
   ],
   "source": [
    "re.findall(\"[^a]\",texte)"
   ]
  },
  {
   "cell_type": "code",
   "execution_count": 50,
   "id": "29cc076f",
   "metadata": {},
   "outputs": [
    {
     "data": {
      "text/plain": [
       "[]"
      ]
     },
     "execution_count": 50,
     "metadata": {},
     "output_type": "execute_result"
    }
   ],
   "source": [
    "re.findall(\"^[^a]\",texte)"
   ]
  },
  {
   "cell_type": "markdown",
   "id": "58656546",
   "metadata": {},
   "source": [
    "Quantifiers"
   ]
  },
  {
   "cell_type": "code",
   "execution_count": 53,
   "id": "3ae1228d",
   "metadata": {},
   "outputs": [
    {
     "data": {
      "text/plain": [
       "['aaa', 'aaa']"
      ]
     },
     "execution_count": 53,
     "metadata": {},
     "output_type": "execute_result"
    }
   ],
   "source": [
    "re.findall(\"a{2,10}\",texte)"
   ]
  },
  {
   "cell_type": "code",
   "execution_count": 54,
   "id": "2092038f",
   "metadata": {},
   "outputs": [
    {
     "data": {
      "text/plain": [
       "['aa', 'aa']"
      ]
     },
     "execution_count": 54,
     "metadata": {},
     "output_type": "execute_result"
    }
   ],
   "source": [
    "re.findall(\"a{1,1}a{1,1}\",texte)"
   ]
  },
  {
   "cell_type": "code",
   "execution_count": 55,
   "id": "1ed82e2d",
   "metadata": {},
   "outputs": [
    {
     "data": {
      "text/plain": [
       "[]"
      ]
     },
     "execution_count": 55,
     "metadata": {},
     "output_type": "execute_result"
    }
   ],
   "source": [
    "re.findall(\"a{2, 2}\",texte)"
   ]
  },
  {
   "cell_type": "code",
   "execution_count": 56,
   "id": "0e97a494",
   "metadata": {},
   "outputs": [
    {
     "data": {
      "text/plain": [
       "['abc', 'aaabc', 'abc']"
      ]
     },
     "execution_count": 56,
     "metadata": {},
     "output_type": "execute_result"
    }
   ],
   "source": [
    "re.findall(\"a{1,10}b{1,10}c{1,10}\",texte)"
   ]
  },
  {
   "cell_type": "code",
   "execution_count": 60,
   "id": "a8dd1786",
   "metadata": {},
   "outputs": [],
   "source": [
    "with open(\"hello.txt\",\"r\") as file:\n",
    "    wikki=file.read()\n"
   ]
  },
  {
   "cell_type": "code",
   "execution_count": 61,
   "id": "1a3b9a06",
   "metadata": {},
   "outputs": [
    {
     "data": {
      "text/plain": [
       "'  CHAPTR = 11 \\nKEEP OF EVIL HABITS\\n\\nDRINKING\\nDrinking is a evil and a it is a pity thai is becoming more and more popular in the\\nsociety. People think it is fasionable to drink and entertain guests as wellwith liquor.\\nSome think any celebration or an occasion like marriage and social gathering is \\nincomplete if drink are not served.Some people think it is a way for relaxation.This is \\ndefinitely an improper way of relaxation.\\n'"
      ]
     },
     "execution_count": 61,
     "metadata": {},
     "output_type": "execute_result"
    }
   ],
   "source": [
    "wikki"
   ]
  },
  {
   "cell_type": "code",
   "execution_count": 67,
   "id": "1eee8c2e",
   "metadata": {},
   "outputs": [
    {
     "data": {
      "text/plain": [
       "[]"
      ]
     },
     "execution_count": 67,
     "metadata": {},
     "output_type": "execute_result"
    }
   ],
   "source": [
    "re.findall(\"[a-zA-z]{1,100}\\[edit\\]\",wikki)"
   ]
  },
  {
   "cell_type": "code",
   "execution_count": null,
   "id": "ca696d98",
   "metadata": {},
   "outputs": [],
   "source": []
  }
 ],
 "metadata": {
  "kernelspec": {
   "display_name": "Python 3 (ipykernel)",
   "language": "python",
   "name": "python3"
  },
  "language_info": {
   "codemirror_mode": {
    "name": "ipython",
    "version": 3
   },
   "file_extension": ".py",
   "mimetype": "text/x-python",
   "name": "python",
   "nbconvert_exporter": "python",
   "pygments_lexer": "ipython3",
   "version": "3.11.4"
  }
 },
 "nbformat": 4,
 "nbformat_minor": 5
}
