{
 "cells": [
  {
   "cell_type": "code",
   "execution_count": 1,
   "id": "06374916",
   "metadata": {},
   "outputs": [],
   "source": [
    "import numpy as p"
   ]
  },
  {
   "cell_type": "code",
   "execution_count": 2,
   "id": "2e6b4a2b",
   "metadata": {},
   "outputs": [],
   "source": [
    "a=p.array([1,2,3],p.int64)\n",
    "b=p.array([1,2,3],dtype='int32')"
   ]
  },
  {
   "cell_type": "code",
   "execution_count": 3,
   "id": "f993fe61",
   "metadata": {},
   "outputs": [
    {
     "data": {
      "text/plain": [
       "dtype('int32')"
      ]
     },
     "execution_count": 3,
     "metadata": {},
     "output_type": "execute_result"
    }
   ],
   "source": [
    "b.dtype"
   ]
  },
  {
   "cell_type": "code",
   "execution_count": 4,
   "id": "a526b4fe",
   "metadata": {},
   "outputs": [
    {
     "data": {
      "text/plain": [
       "array([1, 2, 3])"
      ]
     },
     "execution_count": 4,
     "metadata": {},
     "output_type": "execute_result"
    }
   ],
   "source": [
    "b"
   ]
  },
  {
   "cell_type": "code",
   "execution_count": 5,
   "id": "e807e702",
   "metadata": {},
   "outputs": [
    {
     "data": {
      "text/plain": [
       "array([1, 2, 3], dtype=int64)"
      ]
     },
     "execution_count": 5,
     "metadata": {},
     "output_type": "execute_result"
    }
   ],
   "source": [
    "a\n",
    "\n"
   ]
  },
  {
   "cell_type": "code",
   "execution_count": 6,
   "id": "68884c8a",
   "metadata": {},
   "outputs": [
    {
     "name": "stdout",
     "output_type": "stream",
     "text": [
      "[1 2 3]\n"
     ]
    }
   ],
   "source": [
    "print(a)\n"
   ]
  },
  {
   "cell_type": "code",
   "execution_count": 7,
   "id": "64b726d7",
   "metadata": {},
   "outputs": [
    {
     "ename": "NameError",
     "evalue": "name 'dtype' is not defined",
     "output_type": "error",
     "traceback": [
      "\u001b[1;31m---------------------------------------------------------------------------\u001b[0m",
      "\u001b[1;31mNameError\u001b[0m                                 Traceback (most recent call last)",
      "Cell \u001b[1;32mIn[7], line 1\u001b[0m\n\u001b[1;32m----> 1\u001b[0m \u001b[43mdtype\u001b[49m\u001b[38;5;241m.\u001b[39ma\n",
      "\u001b[1;31mNameError\u001b[0m: name 'dtype' is not defined"
     ]
    }
   ],
   "source": [
    "dtype.a"
   ]
  },
  {
   "cell_type": "code",
   "execution_count": 8,
   "id": "dda5303b",
   "metadata": {},
   "outputs": [
    {
     "data": {
      "text/plain": [
       "dtype('int64')"
      ]
     },
     "execution_count": 8,
     "metadata": {},
     "output_type": "execute_result"
    }
   ],
   "source": [
    "a.dtype"
   ]
  },
  {
   "cell_type": "code",
   "execution_count": 9,
   "id": "276a83fb",
   "metadata": {},
   "outputs": [
    {
     "data": {
      "text/plain": [
       "(3,)"
      ]
     },
     "execution_count": 9,
     "metadata": {},
     "output_type": "execute_result"
    }
   ],
   "source": [
    "a.shape\n"
   ]
  },
  {
   "cell_type": "code",
   "execution_count": 11,
   "id": "ccfe95af",
   "metadata": {},
   "outputs": [],
   "source": [
    "b=p.array([[1,2,3],[4,5,6]],p.int32)"
   ]
  },
  {
   "cell_type": "code",
   "execution_count": 12,
   "id": "0ecf2fe8",
   "metadata": {},
   "outputs": [
    {
     "name": "stdout",
     "output_type": "stream",
     "text": [
      "[[1 2 3]\n",
      " [4 5 6]]\n"
     ]
    }
   ],
   "source": [
    "print(b)"
   ]
  },
  {
   "cell_type": "code",
   "execution_count": 13,
   "id": "d9ab9538",
   "metadata": {},
   "outputs": [
    {
     "data": {
      "text/plain": [
       "(2, 3)"
      ]
     },
     "execution_count": 13,
     "metadata": {},
     "output_type": "execute_result"
    }
   ],
   "source": [
    "b.shape"
   ]
  },
  {
   "cell_type": "code",
   "execution_count": 14,
   "id": "b6af594d",
   "metadata": {},
   "outputs": [
    {
     "ename": "TypeError",
     "evalue": "'tuple' object is not callable",
     "output_type": "error",
     "traceback": [
      "\u001b[1;31m---------------------------------------------------------------------------\u001b[0m",
      "\u001b[1;31mTypeError\u001b[0m                                 Traceback (most recent call last)",
      "Cell \u001b[1;32mIn[14], line 1\u001b[0m\n\u001b[1;32m----> 1\u001b[0m \u001b[43mb\u001b[49m\u001b[38;5;241;43m.\u001b[39;49m\u001b[43mshape\u001b[49m\u001b[43m(\u001b[49m\u001b[43m)\u001b[49m\n",
      "\u001b[1;31mTypeError\u001b[0m: 'tuple' object is not callable"
     ]
    }
   ],
   "source": [
    "b.shape()"
   ]
  },
  {
   "cell_type": "code",
   "execution_count": 15,
   "id": "27f848fb",
   "metadata": {},
   "outputs": [
    {
     "data": {
      "text/plain": [
       "(2, 3)"
      ]
     },
     "execution_count": 15,
     "metadata": {},
     "output_type": "execute_result"
    }
   ],
   "source": [
    "b.shape"
   ]
  },
  {
   "cell_type": "code",
   "execution_count": 16,
   "id": "7c6f77e3",
   "metadata": {},
   "outputs": [
    {
     "data": {
      "text/plain": [
       "2"
      ]
     },
     "execution_count": 16,
     "metadata": {},
     "output_type": "execute_result"
    }
   ],
   "source": [
    "b[0,1]"
   ]
  },
  {
   "cell_type": "code",
   "execution_count": 17,
   "id": "b53265b7",
   "metadata": {},
   "outputs": [],
   "source": [
    "b[0,1]=99"
   ]
  },
  {
   "cell_type": "code",
   "execution_count": 18,
   "id": "12be4662",
   "metadata": {},
   "outputs": [
    {
     "name": "stdout",
     "output_type": "stream",
     "text": [
      "[[ 1 99  3]\n",
      " [ 4  5  6]]\n"
     ]
    }
   ],
   "source": [
    "print(b)"
   ]
  },
  {
   "cell_type": "code",
   "execution_count": 19,
   "id": "7611608c",
   "metadata": {},
   "outputs": [
    {
     "name": "stdout",
     "output_type": "stream",
     "text": [
      "6\n"
     ]
    }
   ],
   "source": [
    "print(b[1,2])"
   ]
  },
  {
   "cell_type": "code",
   "execution_count": 3,
   "id": "32b7b648",
   "metadata": {},
   "outputs": [],
   "source": [
    "e=p.array([[1,2,3,4,5],[56,775,33,566,44]], p.int64)"
   ]
  },
  {
   "cell_type": "code",
   "execution_count": 4,
   "id": "cb81459b",
   "metadata": {},
   "outputs": [
    {
     "name": "stdout",
     "output_type": "stream",
     "text": [
      "[[  1   2   3   4   5]\n",
      " [ 56 775  33 566  44]]\n"
     ]
    }
   ],
   "source": [
    "print(e)\n"
   ]
  },
  {
   "cell_type": "code",
   "execution_count": 5,
   "id": "7d98bbfb",
   "metadata": {},
   "outputs": [
    {
     "data": {
      "text/plain": [
       "(2, 5)"
      ]
     },
     "execution_count": 5,
     "metadata": {},
     "output_type": "execute_result"
    }
   ],
   "source": [
    "e.shape"
   ]
  },
  {
   "cell_type": "code",
   "execution_count": 6,
   "id": "778258f1",
   "metadata": {},
   "outputs": [
    {
     "data": {
      "text/plain": [
       "dtype('int64')"
      ]
     },
     "execution_count": 6,
     "metadata": {},
     "output_type": "execute_result"
    }
   ],
   "source": [
    "e.dtype"
   ]
  },
  {
   "cell_type": "code",
   "execution_count": 7,
   "id": "22a9aca7",
   "metadata": {},
   "outputs": [],
   "source": [
    "np=p.array([[1,2,3,4],[1,2,3,4],[1,2,33,4]], p.int64)\n",
    "np1=p.array(((1,2,3,4),(1,2,3,4),(1,2,3,4)),p.int32)"
   ]
  },
  {
   "cell_type": "code",
   "execution_count": null,
   "id": "ad7985aa",
   "metadata": {},
   "outputs": [],
   "source": [
    "print(np)"
   ]
  },
  {
   "cell_type": "code",
   "execution_count": null,
   "id": "9605fc8b",
   "metadata": {},
   "outputs": [],
   "source": [
    "print(np1)"
   ]
  },
  {
   "cell_type": "code",
   "execution_count": null,
   "id": "2bf3aa8b",
   "metadata": {},
   "outputs": [],
   "source": [
    "list=eval(input(\"Enter list:\"))\n",
    "uni=[]\n",
    "rep=[]\n",
    "count=i=0\n",
    "length=len(list)\n",
    "while i<length:\n",
    "    element=list[i]\n",
    "    if element not in uni and element not in rep:\n",
    "        i+=1\n",
    "        for j in range(length):\n",
    "            if(element==list[j]):\n",
    "                count+=1\n",
    "        else:\n",
    "            print(\"element\",element,\"has frequency\",count)\n",
    "            if(count==1):\n",
    "                uni.append(element)\n",
    "            else:\n",
    "                rep.append(element)\n",
    "            count=0\n",
    "    else:\n",
    "        i+=1\n",
    "print(uni)\n",
    "print(rep)"
   ]
  },
  {
   "cell_type": "code",
   "execution_count": null,
   "id": "1cf6bfd0",
   "metadata": {},
   "outputs": [],
   "source": [
    "np.shape\n"
   ]
  },
  {
   "cell_type": "code",
   "execution_count": 8,
   "id": "a29e990e",
   "metadata": {},
   "outputs": [],
   "source": [
    "np2=p.array({34,23,23})"
   ]
  },
  {
   "cell_type": "code",
   "execution_count": 9,
   "id": "52ad5f79",
   "metadata": {},
   "outputs": [
    {
     "data": {
      "text/plain": [
       "array({34, 23}, dtype=object)"
      ]
     },
     "execution_count": 9,
     "metadata": {},
     "output_type": "execute_result"
    }
   ],
   "source": [
    "np2"
   ]
  },
  {
   "cell_type": "code",
   "execution_count": 10,
   "id": "dfb6b575",
   "metadata": {},
   "outputs": [
    {
     "data": {
      "text/plain": [
       "()"
      ]
     },
     "execution_count": 10,
     "metadata": {},
     "output_type": "execute_result"
    }
   ],
   "source": [
    "np2.shape\n"
   ]
  },
  {
   "cell_type": "code",
   "execution_count": 11,
   "id": "fad90288",
   "metadata": {},
   "outputs": [
    {
     "data": {
      "text/plain": [
       "1"
      ]
     },
     "execution_count": 11,
     "metadata": {},
     "output_type": "execute_result"
    }
   ],
   "source": [
    "np2.size"
   ]
  },
  {
   "cell_type": "code",
   "execution_count": 12,
   "id": "e7a61938",
   "metadata": {},
   "outputs": [],
   "source": [
    "zero=p.zeros((2,4))"
   ]
  },
  {
   "cell_type": "code",
   "execution_count": 13,
   "id": "e743de08",
   "metadata": {},
   "outputs": [
    {
     "data": {
      "text/plain": [
       "array([[0., 0., 0., 0.],\n",
       "       [0., 0., 0., 0.]])"
      ]
     },
     "execution_count": 13,
     "metadata": {},
     "output_type": "execute_result"
    }
   ],
   "source": [
    "zero"
   ]
  },
  {
   "cell_type": "code",
   "execution_count": 14,
   "id": "7079e85e",
   "metadata": {},
   "outputs": [
    {
     "data": {
      "text/plain": [
       "8"
      ]
     },
     "execution_count": 14,
     "metadata": {},
     "output_type": "execute_result"
    }
   ],
   "source": [
    "zero.size"
   ]
  },
  {
   "cell_type": "code",
   "execution_count": 15,
   "id": "8de335d2",
   "metadata": {},
   "outputs": [],
   "source": [
    "ra=p.arange(15)"
   ]
  },
  {
   "cell_type": "code",
   "execution_count": 16,
   "id": "5dc1e6b1",
   "metadata": {},
   "outputs": [
    {
     "data": {
      "text/plain": [
       "array([ 0,  1,  2,  3,  4,  5,  6,  7,  8,  9, 10, 11, 12, 13, 14])"
      ]
     },
     "execution_count": 16,
     "metadata": {},
     "output_type": "execute_result"
    }
   ],
   "source": [
    "ra"
   ]
  },
  {
   "cell_type": "code",
   "execution_count": 17,
   "id": "49001657",
   "metadata": {},
   "outputs": [],
   "source": [
    "rng=p.arange(15,15)"
   ]
  },
  {
   "cell_type": "code",
   "execution_count": 18,
   "id": "843861c8",
   "metadata": {},
   "outputs": [
    {
     "data": {
      "text/plain": [
       "array([], dtype=int32)"
      ]
     },
     "execution_count": 18,
     "metadata": {},
     "output_type": "execute_result"
    }
   ],
   "source": [
    "rng"
   ]
  },
  {
   "cell_type": "code",
   "execution_count": 19,
   "id": "d6c102e7",
   "metadata": {},
   "outputs": [],
   "source": [
    "lspace=p.linspace(1,100,10)\n",
    "#p.linspace(starting number,ending number,how many number we want)"
   ]
  },
  {
   "cell_type": "code",
   "execution_count": 20,
   "id": "2a2961bf",
   "metadata": {},
   "outputs": [
    {
     "data": {
      "text/plain": [
       "array([  1.,  12.,  23.,  34.,  45.,  56.,  67.,  78.,  89., 100.])"
      ]
     },
     "execution_count": 20,
     "metadata": {},
     "output_type": "execute_result"
    }
   ],
   "source": [
    "lspace"
   ]
  },
  {
   "cell_type": "code",
   "execution_count": 21,
   "id": "e74c629d",
   "metadata": {},
   "outputs": [],
   "source": [
    "np3=p.empty((8,6))\n",
    "#it takes random number with 8d(row) and 6(column) element in 1 list\n",
    "#8-no of row\n",
    "#6-no of column\n",
    "#8,6-nof of dimension ie 2 in this case"
   ]
  },
  {
   "cell_type": "code",
   "execution_count": 22,
   "id": "47bf6c71",
   "metadata": {},
   "outputs": [
    {
     "data": {
      "text/plain": [
       "array([[1.57314714e-311, 1.57314680e-311, 0.00000000e+000,\n",
       "        0.00000000e+000, 0.00000000e+000, 0.00000000e+000],\n",
       "       [0.00000000e+000, 0.00000000e+000, 0.00000000e+000,\n",
       "        0.00000000e+000, 0.00000000e+000, 0.00000000e+000],\n",
       "       [0.00000000e+000, 0.00000000e+000, 0.00000000e+000,\n",
       "        0.00000000e+000, 0.00000000e+000, 0.00000000e+000],\n",
       "       [0.00000000e+000, 0.00000000e+000, 0.00000000e+000,\n",
       "        0.00000000e+000, 0.00000000e+000, 0.00000000e+000],\n",
       "       [0.00000000e+000, 0.00000000e+000, 0.00000000e+000,\n",
       "        0.00000000e+000, 0.00000000e+000, 0.00000000e+000],\n",
       "       [0.00000000e+000, 0.00000000e+000, 0.00000000e+000,\n",
       "        0.00000000e+000, 0.00000000e+000, 0.00000000e+000],\n",
       "       [0.00000000e+000, 0.00000000e+000, 0.00000000e+000,\n",
       "        0.00000000e+000, 0.00000000e+000, 0.00000000e+000],\n",
       "       [0.00000000e+000, 0.00000000e+000, 0.00000000e+000,\n",
       "        0.00000000e+000, 0.00000000e+000, 0.00000000e+000]])"
      ]
     },
     "execution_count": 22,
     "metadata": {},
     "output_type": "execute_result"
    }
   ],
   "source": [
    "np3"
   ]
  },
  {
   "cell_type": "code",
   "execution_count": 25,
   "id": "d9a01bc6",
   "metadata": {},
   "outputs": [],
   "source": [
    "np4=p.empty_like(lspace)"
   ]
  },
  {
   "cell_type": "code",
   "execution_count": 26,
   "id": "7b0289cc",
   "metadata": {},
   "outputs": [
    {
     "data": {
      "text/plain": [
       "array([  1.,  12.,  23.,  34.,  45.,  56.,  67.,  78.,  89., 100.])"
      ]
     },
     "execution_count": 26,
     "metadata": {},
     "output_type": "execute_result"
    }
   ],
   "source": [
    "np4"
   ]
  },
  {
   "cell_type": "code",
   "execution_count": 27,
   "id": "aec67ac1",
   "metadata": {},
   "outputs": [],
   "source": [
    "np4[2]=88"
   ]
  },
  {
   "cell_type": "code",
   "execution_count": 28,
   "id": "726a677a",
   "metadata": {},
   "outputs": [
    {
     "data": {
      "text/plain": [
       "array([  1.,  12.,  88.,  34.,  45.,  56.,  67.,  78.,  89., 100.])"
      ]
     },
     "execution_count": 28,
     "metadata": {},
     "output_type": "execute_result"
    }
   ],
   "source": [
    "np4"
   ]
  },
  {
   "cell_type": "code",
   "execution_count": 29,
   "id": "7c842e77",
   "metadata": {},
   "outputs": [
    {
     "data": {
      "text/plain": [
       "array([  1.,  12.,  23.,  34.,  45.,  56.,  67.,  78.,  89., 100.])"
      ]
     },
     "execution_count": 29,
     "metadata": {},
     "output_type": "execute_result"
    }
   ],
   "source": [
    "lspace"
   ]
  },
  {
   "cell_type": "code",
   "execution_count": 30,
   "id": "7a3acd88",
   "metadata": {},
   "outputs": [],
   "source": [
    "np4=p.empty_like(np1)"
   ]
  },
  {
   "cell_type": "code",
   "execution_count": 31,
   "id": "fe671aee",
   "metadata": {},
   "outputs": [
    {
     "data": {
      "text/plain": [
       "array([[257,   0,   0,   0],\n",
       "       [  0,   0,   0,   0],\n",
       "       [  0,   0,   0,   0]])"
      ]
     },
     "execution_count": 31,
     "metadata": {},
     "output_type": "execute_result"
    }
   ],
   "source": [
    "np4"
   ]
  },
  {
   "cell_type": "code",
   "execution_count": null,
   "id": "4db297ba",
   "metadata": {},
   "outputs": [],
   "source": [
    "np4[0:3]=88"
   ]
  },
  {
   "cell_type": "code",
   "execution_count": null,
   "id": "87744a34",
   "metadata": {},
   "outputs": [],
   "source": [
    "np4"
   ]
  },
  {
   "cell_type": "code",
   "execution_count": null,
   "id": "bd6bfe49",
   "metadata": {},
   "outputs": [],
   "source": [
    "np4[1:1]=99"
   ]
  },
  {
   "cell_type": "code",
   "execution_count": null,
   "id": "92da03c8",
   "metadata": {},
   "outputs": [],
   "source": [
    "np4"
   ]
  },
  {
   "cell_type": "code",
   "execution_count": null,
   "id": "48120416",
   "metadata": {},
   "outputs": [],
   "source": [
    "np4[1,1]=99"
   ]
  },
  {
   "cell_type": "code",
   "execution_count": null,
   "id": "f1ae132e",
   "metadata": {},
   "outputs": [],
   "source": [
    "np4"
   ]
  },
  {
   "cell_type": "code",
   "execution_count": null,
   "id": "fa4e26e9",
   "metadata": {},
   "outputs": [],
   "source": [
    "np4[0,3]=99"
   ]
  },
  {
   "cell_type": "code",
   "execution_count": null,
   "id": "9f9febcf",
   "metadata": {},
   "outputs": [],
   "source": [
    "np4"
   ]
  },
  {
   "cell_type": "code",
   "execution_count": null,
   "id": "d32b4866",
   "metadata": {},
   "outputs": [],
   "source": [
    "np4[0:3]=100"
   ]
  },
  {
   "cell_type": "code",
   "execution_count": null,
   "id": "b6141f7d",
   "metadata": {},
   "outputs": [],
   "source": [
    "np4"
   ]
  },
  {
   "cell_type": "code",
   "execution_count": null,
   "id": "8ee4141a",
   "metadata": {},
   "outputs": [],
   "source": [
    "np4[0:3:1]=110\n",
    "np4"
   ]
  },
  {
   "cell_type": "code",
   "execution_count": null,
   "id": "d4122058",
   "metadata": {},
   "outputs": [],
   "source": [
    "np4[0:3:2]=120\n",
    "np4"
   ]
  },
  {
   "cell_type": "code",
   "execution_count": null,
   "id": "0f36a56b",
   "metadata": {},
   "outputs": [],
   "source": [
    "np4.id()"
   ]
  },
  {
   "cell_type": "code",
   "execution_count": null,
   "id": "3748ae00",
   "metadata": {},
   "outputs": [],
   "source": [
    "np4.id"
   ]
  },
  {
   "cell_type": "code",
   "execution_count": null,
   "id": "b8cfa2de",
   "metadata": {},
   "outputs": [],
   "source": [
    "a=10"
   ]
  },
  {
   "cell_type": "code",
   "execution_count": null,
   "id": "04051c6d",
   "metadata": {},
   "outputs": [],
   "source": [
    "a.id()"
   ]
  },
  {
   "cell_type": "code",
   "execution_count": null,
   "id": "a3b3c9aa",
   "metadata": {},
   "outputs": [],
   "source": [
    "id(a)"
   ]
  },
  {
   "cell_type": "code",
   "execution_count": null,
   "id": "997b5fe4",
   "metadata": {},
   "outputs": [],
   "source": [
    "ide=p.identity(12)\n",
    "ide"
   ]
  },
  {
   "cell_type": "code",
   "execution_count": null,
   "id": "45fa402c",
   "metadata": {},
   "outputs": [],
   "source": [
    "ide.shape"
   ]
  },
  {
   "cell_type": "code",
   "execution_count": null,
   "id": "1c80d82b",
   "metadata": {},
   "outputs": [],
   "source": [
    "ide.size"
   ]
  },
  {
   "cell_type": "code",
   "execution_count": 34,
   "id": "b712f924",
   "metadata": {},
   "outputs": [
    {
     "data": {
      "text/plain": [
       "array([ 0,  1,  2,  3,  4,  5,  6,  7,  8,  9, 10, 11, 12, 13, 14, 15, 16,\n",
       "       17, 18, 19, 20, 21, 22, 23, 24, 25, 26, 27, 28, 29, 30, 31, 32, 33,\n",
       "       34, 35, 36, 37, 38, 39, 40, 41, 42, 43, 44, 45, 46, 47, 48, 49, 50,\n",
       "       51, 52, 53, 54, 55, 56, 57, 58, 59, 60, 61, 62, 63, 64, 65, 66, 67,\n",
       "       68, 69, 70, 71, 72, 73, 74, 75, 76, 77, 78, 79, 80, 81, 82, 83, 84,\n",
       "       85, 86, 87, 88, 89, 90, 91, 92, 93, 94, 95, 96, 97, 98])"
      ]
     },
     "execution_count": 34,
     "metadata": {},
     "output_type": "execute_result"
    }
   ],
   "source": [
    "arr=p.arange(99)\n",
    "arr"
   ]
  },
  {
   "cell_type": "code",
   "execution_count": 35,
   "id": "278b2045",
   "metadata": {},
   "outputs": [
    {
     "data": {
      "text/plain": [
       "array([[ 0,  1,  2,  3,  4,  5,  6,  7,  8,  9, 10, 11, 12, 13, 14, 15,\n",
       "        16, 17, 18, 19, 20, 21, 22, 23, 24, 25, 26, 27, 28, 29, 30, 31,\n",
       "        32],\n",
       "       [33, 34, 35, 36, 37, 38, 39, 40, 41, 42, 43, 44, 45, 46, 47, 48,\n",
       "        49, 50, 51, 52, 53, 54, 55, 56, 57, 58, 59, 60, 61, 62, 63, 64,\n",
       "        65],\n",
       "       [66, 67, 68, 69, 70, 71, 72, 73, 74, 75, 76, 77, 78, 79, 80, 81,\n",
       "        82, 83, 84, 85, 86, 87, 88, 89, 90, 91, 92, 93, 94, 95, 96, 97,\n",
       "        98]])"
      ]
     },
     "execution_count": 35,
     "metadata": {},
     "output_type": "execute_result"
    }
   ],
   "source": [
    "arr.reshape(3,33)"
   ]
  },
  {
   "cell_type": "code",
   "execution_count": 36,
   "id": "47b599b1",
   "metadata": {},
   "outputs": [
    {
     "data": {
      "text/plain": [
       "array([ 0,  1,  2,  3,  4,  5,  6,  7,  8,  9, 10, 11, 12, 13, 14, 15, 16,\n",
       "       17, 18, 19, 20, 21, 22, 23, 24, 25, 26, 27, 28, 29, 30, 31, 32, 33,\n",
       "       34, 35, 36, 37, 38, 39, 40, 41, 42, 43, 44, 45, 46, 47, 48, 49, 50,\n",
       "       51, 52, 53, 54, 55, 56, 57, 58, 59, 60, 61, 62, 63, 64, 65, 66, 67,\n",
       "       68, 69, 70, 71, 72, 73, 74, 75, 76, 77, 78, 79, 80, 81, 82, 83, 84,\n",
       "       85, 86, 87, 88, 89, 90, 91, 92, 93, 94, 95, 96, 97, 98])"
      ]
     },
     "execution_count": 36,
     "metadata": {},
     "output_type": "execute_result"
    }
   ],
   "source": [
    "arr"
   ]
  },
  {
   "cell_type": "code",
   "execution_count": null,
   "id": "973b9c0d",
   "metadata": {},
   "outputs": [],
   "source": [
    "arr=arr.reshape(3,33)"
   ]
  },
  {
   "cell_type": "code",
   "execution_count": 38,
   "id": "144e67d7",
   "metadata": {},
   "outputs": [
    {
     "data": {
      "text/plain": [
       "array([ 0,  1,  2,  3,  4,  5,  6,  7,  8,  9, 10, 11, 12, 13, 14, 15, 16,\n",
       "       17, 18, 19, 20, 21, 22, 23, 24, 25, 26, 27, 28, 29, 30, 31, 32, 33,\n",
       "       34, 35, 36, 37, 38, 39, 40, 41, 42, 43, 44, 45, 46, 47, 48, 49, 50,\n",
       "       51, 52, 53, 54, 55, 56, 57, 58, 59, 60, 61, 62, 63, 64, 65, 66, 67,\n",
       "       68, 69, 70, 71, 72, 73, 74, 75, 76, 77, 78, 79, 80, 81, 82, 83, 84,\n",
       "       85, 86, 87, 88, 89, 90, 91, 92, 93, 94, 95, 96, 97, 98])"
      ]
     },
     "execution_count": 38,
     "metadata": {},
     "output_type": "execute_result"
    }
   ],
   "source": [
    "arr"
   ]
  },
  {
   "cell_type": "code",
   "execution_count": 39,
   "id": "3b3c55b3",
   "metadata": {},
   "outputs": [
    {
     "ename": "AttributeError",
     "evalue": "'numpy.ndarray' object has no attribute 'raval'",
     "output_type": "error",
     "traceback": [
      "\u001b[1;31m---------------------------------------------------------------------------\u001b[0m",
      "\u001b[1;31mAttributeError\u001b[0m                            Traceback (most recent call last)",
      "Cell \u001b[1;32mIn[39], line 1\u001b[0m\n\u001b[1;32m----> 1\u001b[0m \u001b[43marr\u001b[49m\u001b[38;5;241;43m.\u001b[39;49m\u001b[43mraval\u001b[49m()\n",
      "\u001b[1;31mAttributeError\u001b[0m: 'numpy.ndarray' object has no attribute 'raval'"
     ]
    }
   ],
   "source": [
    "arr.raval()"
   ]
  },
  {
   "cell_type": "code",
   "execution_count": 40,
   "id": "ff401cc9",
   "metadata": {},
   "outputs": [
    {
     "data": {
      "text/plain": [
       "array([ 0,  1,  2,  3,  4,  5,  6,  7,  8,  9, 10, 11, 12, 13, 14, 15, 16,\n",
       "       17, 18, 19, 20, 21, 22, 23, 24, 25, 26, 27, 28, 29, 30, 31, 32, 33,\n",
       "       34, 35, 36, 37, 38, 39, 40, 41, 42, 43, 44, 45, 46, 47, 48, 49, 50,\n",
       "       51, 52, 53, 54, 55, 56, 57, 58, 59, 60, 61, 62, 63, 64, 65, 66, 67,\n",
       "       68, 69, 70, 71, 72, 73, 74, 75, 76, 77, 78, 79, 80, 81, 82, 83, 84,\n",
       "       85, 86, 87, 88, 89, 90, 91, 92, 93, 94, 95, 96, 97, 98])"
      ]
     },
     "execution_count": 40,
     "metadata": {},
     "output_type": "execute_result"
    }
   ],
   "source": [
    "arr.ravel()\n"
   ]
  },
  {
   "cell_type": "code",
   "execution_count": null,
   "id": "11259db2",
   "metadata": {},
   "outputs": [],
   "source": [
    "arr"
   ]
  },
  {
   "cell_type": "code",
   "execution_count": 41,
   "id": "988f65f7",
   "metadata": {},
   "outputs": [
    {
     "data": {
      "text/plain": [
       "array([[1, 2, 3],\n",
       "       [4, 5, 6],\n",
       "       [7, 8, 9]])"
      ]
     },
     "execution_count": 41,
     "metadata": {},
     "output_type": "execute_result"
    }
   ],
   "source": [
    "ax=[[1,2,3],[4,5,6],[7,8,9]]\n",
    "axi=p.array(ax)\n",
    "axi"
   ]
  },
  {
   "cell_type": "code",
   "execution_count": 42,
   "id": "d02635ac",
   "metadata": {},
   "outputs": [
    {
     "data": {
      "text/plain": [
       "dtype('int32')"
      ]
     },
     "execution_count": 42,
     "metadata": {},
     "output_type": "execute_result"
    }
   ],
   "source": [
    "axi.dtype"
   ]
  },
  {
   "cell_type": "code",
   "execution_count": 43,
   "id": "f823a6da",
   "metadata": {},
   "outputs": [
    {
     "data": {
      "text/plain": [
       "array([12, 15, 18])"
      ]
     },
     "execution_count": 43,
     "metadata": {},
     "output_type": "execute_result"
    }
   ],
   "source": [
    "axi.sum(axis=0)"
   ]
  },
  {
   "cell_type": "code",
   "execution_count": 44,
   "id": "eed61720",
   "metadata": {},
   "outputs": [
    {
     "data": {
      "text/plain": [
       "array([ 6, 15, 24])"
      ]
     },
     "execution_count": 44,
     "metadata": {},
     "output_type": "execute_result"
    }
   ],
   "source": [
    "axi.sum(axis=1)"
   ]
  },
  {
   "cell_type": "code",
   "execution_count": 45,
   "id": "b4451bc6",
   "metadata": {},
   "outputs": [
    {
     "ename": "AxisError",
     "evalue": "axis 2 is out of bounds for array of dimension 2",
     "output_type": "error",
     "traceback": [
      "\u001b[1;31m---------------------------------------------------------------------------\u001b[0m",
      "\u001b[1;31mAxisError\u001b[0m                                 Traceback (most recent call last)",
      "Cell \u001b[1;32mIn[45], line 1\u001b[0m\n\u001b[1;32m----> 1\u001b[0m \u001b[43maxi\u001b[49m\u001b[38;5;241;43m.\u001b[39;49m\u001b[43msum\u001b[49m\u001b[43m(\u001b[49m\u001b[43maxis\u001b[49m\u001b[38;5;241;43m=\u001b[39;49m\u001b[38;5;241;43m2\u001b[39;49m\u001b[43m)\u001b[49m\n",
      "File \u001b[1;32m~\\AppData\\Local\\Programs\\Python\\Python311\\Lib\\site-packages\\numpy\\core\\_methods.py:48\u001b[0m, in \u001b[0;36m_sum\u001b[1;34m(a, axis, dtype, out, keepdims, initial, where)\u001b[0m\n\u001b[0;32m     46\u001b[0m \u001b[38;5;28;01mdef\u001b[39;00m \u001b[38;5;21m_sum\u001b[39m(a, axis\u001b[38;5;241m=\u001b[39m\u001b[38;5;28;01mNone\u001b[39;00m, dtype\u001b[38;5;241m=\u001b[39m\u001b[38;5;28;01mNone\u001b[39;00m, out\u001b[38;5;241m=\u001b[39m\u001b[38;5;28;01mNone\u001b[39;00m, keepdims\u001b[38;5;241m=\u001b[39m\u001b[38;5;28;01mFalse\u001b[39;00m,\n\u001b[0;32m     47\u001b[0m          initial\u001b[38;5;241m=\u001b[39m_NoValue, where\u001b[38;5;241m=\u001b[39m\u001b[38;5;28;01mTrue\u001b[39;00m):\n\u001b[1;32m---> 48\u001b[0m     \u001b[38;5;28;01mreturn\u001b[39;00m \u001b[43mumr_sum\u001b[49m\u001b[43m(\u001b[49m\u001b[43ma\u001b[49m\u001b[43m,\u001b[49m\u001b[43m \u001b[49m\u001b[43maxis\u001b[49m\u001b[43m,\u001b[49m\u001b[43m \u001b[49m\u001b[43mdtype\u001b[49m\u001b[43m,\u001b[49m\u001b[43m \u001b[49m\u001b[43mout\u001b[49m\u001b[43m,\u001b[49m\u001b[43m \u001b[49m\u001b[43mkeepdims\u001b[49m\u001b[43m,\u001b[49m\u001b[43m \u001b[49m\u001b[43minitial\u001b[49m\u001b[43m,\u001b[49m\u001b[43m \u001b[49m\u001b[43mwhere\u001b[49m\u001b[43m)\u001b[49m\n",
      "\u001b[1;31mAxisError\u001b[0m: axis 2 is out of bounds for array of dimension 2"
     ]
    }
   ],
   "source": [
    "axi.sum(axis=2)"
   ]
  },
  {
   "cell_type": "code",
   "execution_count": 46,
   "id": "a5aa9eee",
   "metadata": {},
   "outputs": [
    {
     "data": {
      "text/plain": [
       "array([[1, 2, 3],\n",
       "       [4, 5, 6],\n",
       "       [7, 8, 9]])"
      ]
     },
     "execution_count": 46,
     "metadata": {},
     "output_type": "execute_result"
    }
   ],
   "source": [
    "axi.T\n",
    "axi"
   ]
  },
  {
   "cell_type": "code",
   "execution_count": 47,
   "id": "945add16",
   "metadata": {},
   "outputs": [
    {
     "name": "stdout",
     "output_type": "stream",
     "text": [
      "[[1 2 3]\n",
      " [4 5 6]\n",
      " [7 8 9]]\n"
     ]
    }
   ],
   "source": [
    "print(axi)"
   ]
  },
  {
   "cell_type": "code",
   "execution_count": 48,
   "id": "0fa7c90d",
   "metadata": {},
   "outputs": [
    {
     "data": {
      "text/plain": [
       "array([[1, 4, 7],\n",
       "       [2, 5, 8],\n",
       "       [3, 6, 9]])"
      ]
     },
     "execution_count": 48,
     "metadata": {},
     "output_type": "execute_result"
    }
   ],
   "source": [
    "axi.T"
   ]
  },
  {
   "cell_type": "code",
   "execution_count": 49,
   "id": "2a9c3d69",
   "metadata": {},
   "outputs": [],
   "source": [
    "axi=axi.T"
   ]
  },
  {
   "cell_type": "code",
   "execution_count": 50,
   "id": "97a416d5",
   "metadata": {},
   "outputs": [
    {
     "data": {
      "text/plain": [
       "array([[1, 4, 7],\n",
       "       [2, 5, 8],\n",
       "       [3, 6, 9]])"
      ]
     },
     "execution_count": 50,
     "metadata": {},
     "output_type": "execute_result"
    }
   ],
   "source": [
    "axi"
   ]
  },
  {
   "cell_type": "code",
   "execution_count": 51,
   "id": "99c211e9",
   "metadata": {},
   "outputs": [
    {
     "data": {
      "text/plain": [
       "<numpy.flatiter at 0x2e55a571720>"
      ]
     },
     "execution_count": 51,
     "metadata": {},
     "output_type": "execute_result"
    }
   ],
   "source": [
    "axi.flat"
   ]
  },
  {
   "cell_type": "code",
   "execution_count": 52,
   "id": "0c6d8d7a",
   "metadata": {},
   "outputs": [
    {
     "name": "stdout",
     "output_type": "stream",
     "text": [
      "1\n",
      "4\n",
      "7\n",
      "2\n",
      "5\n",
      "8\n",
      "3\n",
      "6\n",
      "9\n"
     ]
    }
   ],
   "source": [
    "for i in axi.flat:\n",
    "    print(i)"
   ]
  },
  {
   "cell_type": "code",
   "execution_count": 53,
   "id": "3b1c3a6e",
   "metadata": {},
   "outputs": [
    {
     "data": {
      "text/plain": [
       "2"
      ]
     },
     "execution_count": 53,
     "metadata": {},
     "output_type": "execute_result"
    }
   ],
   "source": [
    "axi.ndim\n",
    "#no of dimension"
   ]
  },
  {
   "cell_type": "code",
   "execution_count": 54,
   "id": "301dd1e2",
   "metadata": {},
   "outputs": [
    {
     "data": {
      "text/plain": [
       "36"
      ]
     },
     "execution_count": 54,
     "metadata": {},
     "output_type": "execute_result"
    }
   ],
   "source": [
    "axi.nbytes\n",
    "#no of bytes consumed by all the element"
   ]
  },
  {
   "cell_type": "code",
   "execution_count": 55,
   "id": "51e1ff76",
   "metadata": {},
   "outputs": [
    {
     "data": {
      "text/plain": [
       "array([1, 2, 3, 4, 4])"
      ]
     },
     "execution_count": 55,
     "metadata": {},
     "output_type": "execute_result"
    }
   ],
   "source": [
    "one=p.array([1,2,3,4,4])\n",
    "one"
   ]
  },
  {
   "cell_type": "code",
   "execution_count": 56,
   "id": "fd67fda7",
   "metadata": {},
   "outputs": [
    {
     "data": {
      "text/plain": [
       "3"
      ]
     },
     "execution_count": 56,
     "metadata": {},
     "output_type": "execute_result"
    }
   ],
   "source": [
    "one.argmax()\n",
    "#returns the index where there is maximum element"
   ]
  },
  {
   "cell_type": "code",
   "execution_count": 57,
   "id": "8a21dcfa",
   "metadata": {},
   "outputs": [
    {
     "data": {
      "text/plain": [
       "0"
      ]
     },
     "execution_count": 57,
     "metadata": {},
     "output_type": "execute_result"
    }
   ],
   "source": [
    "one.argmin()"
   ]
  },
  {
   "cell_type": "code",
   "execution_count": 58,
   "id": "6b911e35",
   "metadata": {},
   "outputs": [
    {
     "ename": "AttributeError",
     "evalue": "'numpy.ndarray' object has no attribute 'argcount'",
     "output_type": "error",
     "traceback": [
      "\u001b[1;31m---------------------------------------------------------------------------\u001b[0m",
      "\u001b[1;31mAttributeError\u001b[0m                            Traceback (most recent call last)",
      "Cell \u001b[1;32mIn[58], line 1\u001b[0m\n\u001b[1;32m----> 1\u001b[0m \u001b[43mone\u001b[49m\u001b[38;5;241;43m.\u001b[39;49m\u001b[43margcount\u001b[49m(\u001b[38;5;241m4\u001b[39m)\n",
      "\u001b[1;31mAttributeError\u001b[0m: 'numpy.ndarray' object has no attribute 'argcount'"
     ]
    }
   ],
   "source": [
    "one.argcount(4)"
   ]
  },
  {
   "cell_type": "code",
   "execution_count": 59,
   "id": "97591af3",
   "metadata": {},
   "outputs": [
    {
     "data": {
      "text/plain": [
       "array([0, 1, 2, 3, 4], dtype=int64)"
      ]
     },
     "execution_count": 59,
     "metadata": {},
     "output_type": "execute_result"
    }
   ],
   "source": [
    "one.argsort()\n",
    "# gives the list of index in which it arrage the index from min to max number in list"
   ]
  },
  {
   "cell_type": "code",
   "execution_count": 62,
   "id": "207df5d9",
   "metadata": {},
   "outputs": [],
   "source": [
    "m1=[1,8,5,4,9]\n",
    "m1.sort()"
   ]
  },
  {
   "cell_type": "code",
   "execution_count": 63,
   "id": "a8d71007",
   "metadata": {},
   "outputs": [
    {
     "data": {
      "text/plain": [
       "[1, 4, 5, 8, 9]"
      ]
     },
     "execution_count": 63,
     "metadata": {},
     "output_type": "execute_result"
    }
   ],
   "source": [
    "m1"
   ]
  },
  {
   "cell_type": "code",
   "execution_count": 64,
   "id": "48fb0a0c",
   "metadata": {},
   "outputs": [],
   "source": [
    "m1.reverse()"
   ]
  },
  {
   "cell_type": "code",
   "execution_count": 65,
   "id": "cf5bf5ff",
   "metadata": {},
   "outputs": [
    {
     "data": {
      "text/plain": [
       "[9, 8, 5, 4, 1]"
      ]
     },
     "execution_count": 65,
     "metadata": {},
     "output_type": "execute_result"
    }
   ],
   "source": [
    "m1"
   ]
  },
  {
   "cell_type": "code",
   "execution_count": 66,
   "id": "7ea07576",
   "metadata": {},
   "outputs": [
    {
     "data": {
      "text/plain": [
       "8"
      ]
     },
     "execution_count": 66,
     "metadata": {},
     "output_type": "execute_result"
    }
   ],
   "source": [
    "axi.argmax()"
   ]
  },
  {
   "cell_type": "code",
   "execution_count": 67,
   "id": "1a8895d4",
   "metadata": {},
   "outputs": [
    {
     "data": {
      "text/plain": [
       "0"
      ]
     },
     "execution_count": 67,
     "metadata": {},
     "output_type": "execute_result"
    }
   ],
   "source": [
    "axi.argmin()"
   ]
  },
  {
   "cell_type": "code",
   "execution_count": 68,
   "id": "f97c920c",
   "metadata": {},
   "outputs": [
    {
     "data": {
      "text/plain": [
       "array([2, 2, 2], dtype=int64)"
      ]
     },
     "execution_count": 68,
     "metadata": {},
     "output_type": "execute_result"
    }
   ],
   "source": [
    "axi.argmax(axis=0)"
   ]
  },
  {
   "cell_type": "code",
   "execution_count": 69,
   "id": "9bd76c7d",
   "metadata": {},
   "outputs": [
    {
     "data": {
      "text/plain": [
       "array([2, 2, 2], dtype=int64)"
      ]
     },
     "execution_count": 69,
     "metadata": {},
     "output_type": "execute_result"
    }
   ],
   "source": [
    "axi.argmax(axis=1)"
   ]
  },
  {
   "cell_type": "code",
   "execution_count": 70,
   "id": "1bda5156",
   "metadata": {},
   "outputs": [
    {
     "data": {
      "text/plain": [
       "array([[0, 1, 2],\n",
       "       [0, 1, 2],\n",
       "       [0, 1, 2]], dtype=int64)"
      ]
     },
     "execution_count": 70,
     "metadata": {},
     "output_type": "execute_result"
    }
   ],
   "source": [
    "axi.argsort()"
   ]
  },
  {
   "cell_type": "code",
   "execution_count": 71,
   "id": "a4c9f009",
   "metadata": {},
   "outputs": [
    {
     "data": {
      "text/plain": [
       "array([[0, 0, 0],\n",
       "       [1, 1, 1],\n",
       "       [2, 2, 2]], dtype=int64)"
      ]
     },
     "execution_count": 71,
     "metadata": {},
     "output_type": "execute_result"
    }
   ],
   "source": [
    "axi.argsort(axis=0)"
   ]
  },
  {
   "cell_type": "code",
   "execution_count": 72,
   "id": "d5075e93",
   "metadata": {},
   "outputs": [
    {
     "data": {
      "text/plain": [
       "array([[0, 1, 2],\n",
       "       [0, 1, 2],\n",
       "       [0, 1, 2]], dtype=int64)"
      ]
     },
     "execution_count": 72,
     "metadata": {},
     "output_type": "execute_result"
    }
   ],
   "source": [
    "axi.argsort(axis=1)"
   ]
  },
  {
   "cell_type": "code",
   "execution_count": 73,
   "id": "75ce2876",
   "metadata": {},
   "outputs": [
    {
     "data": {
      "text/plain": [
       "array([1, 4, 7, 2, 5, 8, 3, 6, 9])"
      ]
     },
     "execution_count": 73,
     "metadata": {},
     "output_type": "execute_result"
    }
   ],
   "source": [
    "axi.ravel()"
   ]
  },
  {
   "cell_type": "code",
   "execution_count": 74,
   "id": "66b593df",
   "metadata": {},
   "outputs": [
    {
     "data": {
      "text/plain": [
       "array([[1, 4, 7],\n",
       "       [2, 5, 8],\n",
       "       [3, 6, 9]])"
      ]
     },
     "execution_count": 74,
     "metadata": {},
     "output_type": "execute_result"
    }
   ],
   "source": [
    "axi.reshape(3,3)"
   ]
  },
  {
   "cell_type": "code",
   "execution_count": null,
   "id": "21d52c2c",
   "metadata": {},
   "outputs": [],
   "source": [
    "axi.argsort(axis=0)"
   ]
  },
  {
   "cell_type": "code",
   "execution_count": null,
   "id": "faf7327e",
   "metadata": {},
   "outputs": [],
   "source": [
    "axi1=p.array([[1,45,6],[4,6,7],[7,84,3]])"
   ]
  },
  {
   "cell_type": "code",
   "execution_count": null,
   "id": "8d8468cd",
   "metadata": {},
   "outputs": [],
   "source": [
    "axi+axi1"
   ]
  },
  {
   "cell_type": "code",
   "execution_count": null,
   "id": "3ef13097",
   "metadata": {},
   "outputs": [],
   "source": [
    "axi2=axi*axi1"
   ]
  },
  {
   "cell_type": "code",
   "execution_count": null,
   "id": "944eee27",
   "metadata": {},
   "outputs": [],
   "source": [
    "list=[34,35]\n",
    "list1=[36,37]\n",
    "list+list1"
   ]
  },
  {
   "cell_type": "code",
   "execution_count": null,
   "id": "2c8d210b",
   "metadata": {},
   "outputs": [],
   "source": [
    "axi2.argsort()\n",
    "#by default wee can say it has axis=1"
   ]
  },
  {
   "cell_type": "code",
   "execution_count": null,
   "id": "71a9849c",
   "metadata": {},
   "outputs": [],
   "source": [
    "axi2.argsort(axis=0)"
   ]
  },
  {
   "cell_type": "code",
   "execution_count": null,
   "id": "154b932e",
   "metadata": {},
   "outputs": [],
   "source": [
    "axi2.argsort(axis=1)"
   ]
  },
  {
   "cell_type": "code",
   "execution_count": null,
   "id": "ee9fd5f5",
   "metadata": {},
   "outputs": [],
   "source": [
    "axi2%axi"
   ]
  },
  {
   "cell_type": "code",
   "execution_count": null,
   "id": "08c99afd",
   "metadata": {},
   "outputs": [],
   "source": [
    "p.sqrt(axi2)\n",
    "#gives square root of the matrix"
   ]
  },
  {
   "cell_type": "code",
   "execution_count": null,
   "id": "072eb5b1",
   "metadata": {},
   "outputs": [],
   "source": [
    "axi.sum()"
   ]
  },
  {
   "cell_type": "code",
   "execution_count": null,
   "id": "4c886b1a",
   "metadata": {},
   "outputs": [],
   "source": [
    "axi.max()"
   ]
  },
  {
   "cell_type": "code",
   "execution_count": null,
   "id": "34cf974d",
   "metadata": {},
   "outputs": [],
   "source": [
    "axi.min()\n"
   ]
  },
  {
   "cell_type": "code",
   "execution_count": null,
   "id": "34b2bc6e",
   "metadata": {},
   "outputs": [],
   "source": [
    "axi.argmax()\n",
    "#return the maximum value index"
   ]
  },
  {
   "cell_type": "code",
   "execution_count": null,
   "id": "7b5b194d",
   "metadata": {},
   "outputs": [],
   "source": [
    "ap=p.array([[1,6,3,4,6],[1,4,6,26,7],[2,4,6,71,8]])\n",
    "ap"
   ]
  },
  {
   "cell_type": "code",
   "execution_count": null,
   "id": "f909a9b7",
   "metadata": {},
   "outputs": [],
   "source": [
    "p.sort(ap)"
   ]
  },
  {
   "cell_type": "code",
   "execution_count": null,
   "id": "6b430628",
   "metadata": {},
   "outputs": [],
   "source": [
    "p.reverse(ap)"
   ]
  },
  {
   "cell_type": "code",
   "execution_count": null,
   "id": "32011bbf",
   "metadata": {},
   "outputs": [],
   "source": [
    "type(p.where(ap>20))"
   ]
  },
  {
   "cell_type": "code",
   "execution_count": null,
   "id": "a634cbc2",
   "metadata": {},
   "outputs": [],
   "source": [
    "p.count_nonzero(ap)"
   ]
  },
  {
   "cell_type": "code",
   "execution_count": null,
   "id": "44f63232",
   "metadata": {},
   "outputs": [],
   "source": [
    "ap.size"
   ]
  },
  {
   "cell_type": "code",
   "execution_count": null,
   "id": "8cbc4694",
   "metadata": {},
   "outputs": [],
   "source": []
  }
 ],
 "metadata": {
  "kernelspec": {
   "display_name": "Python 3 (ipykernel)",
   "language": "python",
   "name": "python3"
  },
  "language_info": {
   "codemirror_mode": {
    "name": "ipython",
    "version": 3
   },
   "file_extension": ".py",
   "mimetype": "text/x-python",
   "name": "python",
   "nbconvert_exporter": "python",
   "pygments_lexer": "ipython3",
   "version": "3.11.4"
  }
 },
 "nbformat": 4,
 "nbformat_minor": 5
}
