{
 "cells": [
  {
   "cell_type": "markdown",
   "id": "4f22ad9f",
   "metadata": {},
   "source": [
    "##Intermediate python"
   ]
  },
  {
   "cell_type": "code",
   "execution_count": 26,
   "id": "a59d5a50",
   "metadata": {
    "scrolled": false
   },
   "outputs": [
    {
     "name": "stdout",
     "output_type": "stream",
     "text": [
      "1 ['banana', 'apple', 'cherry']\n",
      "2 ['banana', 'apple', 'cherry', 'pear']\n",
      "3 ['banana', 'orange', 'apple', 'cherry', 'pear', 'blue berry']\n",
      "4 ['apple', 'banana', 'blue berry', 'cherry', 'orange', 'pear']\n",
      "5 ['pear', 'orange', 'cherry', 'blue berry', 'banana', 'apple']\n",
      "6 ['pear', 'orange', 'cherry', 'blue berry', 'banana', 'apple', 'ladyfinger', 'bottleguard', 'tomato', 'bitterguard']\n",
      "7 ['pear', 'orange', 'cherry', 'blue berry', 'banana', 'apple', 'ladyfinger', 'bottleguard', 'tomato']\n",
      "8 ['pear', 'cherry', 'blue berry', 'banana', 'apple', 'ladyfinger', 'bottleguard', 'tomato']\n",
      "9 ['cherry', 'blue berry', 'banana', 'apple', 'ladyfinger', 'bottleguard', 'tomato']\n",
      "10 []\n",
      "['bitterguard', 'tomato', 'bottleguard', 'ladyfinger', 'apple', 'banana', 'blue berry', 'cherry', 'orange', 'pear']\n",
      "['pear', 'orange', 'cherry', 'blue berry', 'banana', 'apple', 'ladyfinger', 'bottleguard', 'tomato', 'bitterguard', 'onion']\n",
      "['pear', 'orange', 'cherry', 'blue berry', 'banana', 'apple', 'ladyfinger', 'bottleguard', 'tomato', 'bitterguard', 'onion']\n",
      "['pear', 'orange', 'cherry', 'blue berry', 'banana', 'apple', 'ladyfinger', 'bottleguard', 'tomato', 'bitterguard', 'onion', 'spinach']\n",
      "['pear', 'orange', 'cherry', 'blue berry', 'banana', 'apple', 'ladyfinger', 'bottleguard', 'tomato', 'bitterguard', 'onion']\n",
      "['pear', 'orange', 'cherry', 'blue berry', 'banana', 'apple', 'ladyfinger', 'bottleguard', 'tomato', 'bitterguard', 'onion', 'spinach', 'pea']\n",
      "['pear', 'orange', 'cherry', 'blue berry', 'banana', 'apple', 'ladyfinger', 'bottleguard', 'tomato', 'bitterguard', 'onion', 'spinach']\n"
     ]
    }
   ],
   "source": [
    "import copy as cp\n",
    "mylist=[\"banana\",\"apple\",\"cherry\"]\n",
    "mylist1=[\"ladyfinger\",\"bottleguard\",\"tomato\",\"bitterguard\"]\n",
    "print(f\"1 {mylist}\")\n",
    "mylist.append(\"pear\")\n",
    "print(f\"2 {mylist}\")\n",
    "mylist.append(\"blue berry\")\n",
    "mylist.insert(1,\"orange\")\n",
    "print(f\"3 {mylist}\")\n",
    "\n",
    "\n",
    "\n",
    "mylist.sort()\n",
    "print(f\"4 {mylist}\")\n",
    "mylist.sort(reverse=True)\n",
    "print(f\"5 {mylist}\")\n",
    "\n",
    "mylist.extend(mylist1)\n",
    "print(f\"6 {mylist}\")\n",
    "\n",
    "\n",
    "mylist.pop()\n",
    "print(f\"7 {mylist}\")\n",
    "mylist.pop(1)\n",
    "print(f\"8 {mylist}\")\n",
    "mylist.remove(\"pear\")\n",
    "print(f\"9 {mylist}\")\n",
    "mylist.clear()\n",
    "print(f\"10 {mylist}\")\n",
    "\n",
    "#reverse slicing\n",
    "mylist3=['pear', 'orange', 'cherry', 'blue berry', 'banana', 'apple', 'ladyfinger', 'bottleguard', 'tomato', 'bitterguard']\n",
    "print(mylist3[::-1])\n",
    "\n",
    "\n",
    "mylist4=mylist3\n",
    "mylist4.append(\"onion\")\n",
    "print(mylist4)\n",
    "print(mylist3)\n",
    "\n",
    "\n",
    "mylist5=cp.copy(mylist4)\n",
    "mylist5.append(\"spinach\")\n",
    "print(mylist5)\n",
    "print(mylist4)\n",
    "\n",
    "mylist6=mylist5[::]\n",
    "mylist6.append(\"pea\")\n",
    "print(mylist6)\n",
    "print(mylist5)"
   ]
  },
  {
   "cell_type": "code",
   "execution_count": 44,
   "id": "afc33766",
   "metadata": {},
   "outputs": [
    {
     "name": "stdout",
     "output_type": "stream",
     "text": [
      "('max', 28, 'trends')\n",
      "max\n",
      "lenght of the given tuple is 6\n",
      "the number a in ('h', 'o', 'z', 'e', 'f', 'a') is 1\n",
      "the index of z is 2\n",
      "max 28 trends\n",
      "1\n",
      "6\n",
      "[2, 3, 4, 5]\n",
      "104\n",
      "80\n"
     ]
    }
   ],
   "source": [
    "#TUPLES:ordered immutable and duplicate element\n",
    "mytuple=tuple([\"max\",28,\"trends\"])\n",
    "print(mytuple)\n",
    "\n",
    "item=mytuple[0]\n",
    "print(item)\n",
    "#mytuple[0]=\"addidas\"\n",
    "#this will give an error because tuple is immutable\n",
    "\n",
    "mytuple1=('h','o','z','e','f','a')\n",
    "print(f\"lenght of the given tuple is {len(mytuple1)}\")\n",
    "print(f\"the number a in {mytuple1} is {mytuple1.count('a')}\")\n",
    "print(f\"the index of z is {mytuple1.index('z')}\")\n",
    "\n",
    "#unpacking of tuple\n",
    "brand1,est,brand2=mytuple\n",
    "print(brand1,est,brand2)\n",
    "\n",
    "# brand1,est=mytuple\n",
    "# print(brand1,est)\n",
    "#this will give an error\n",
    "\n",
    "mytuple3=(1,2,3,4,5,6)\n",
    "i1,*i2,i3=mytuple3\n",
    "print(i1)\n",
    "print(i3)\n",
    "print(i2) #this will create a list of all left element in the tuple\n",
    "\n",
    "\n",
    "\n",
    "import sys\n",
    "my_list=[0,1,2,\"hello\",True]\n",
    "my_tuple=(0,1,2,\"hello\",True)\n",
    "print(sys.getsizeof(my_list))\n",
    "print(sys.getsizeof(my_tuple))"
   ]
  },
  {
   "cell_type": "code",
   "execution_count": 75,
   "id": "42ab892e",
   "metadata": {},
   "outputs": [
    {
     "name": "stdout",
     "output_type": "stream",
     "text": [
      "{'name': 'hozefa', 'age': 19, 'city': 'udaipur'}\n",
      "{'name': 'hozefa', 'age': 19, 'city': 'udaipur', 'email': 'hozefaamar198@gmail.com'}\n",
      "name age city email name age city email \n",
      "\n",
      "hozefa 19 udaipur hozefaamar198@gmail.com \n",
      "\n",
      "name -> hozefa\n",
      "age -> 19\n",
      "city -> udaipur\n",
      "email -> hozefaamar198@gmail.com\n",
      "{'name': 'hozefa', 'age': 19, 'city': 'udaipur', 'email': 'amarhozefa59@gmail.com'}\n",
      "{'name': 'hozefa', 'age': 19, 'city': 'udaipur', 'email': 'amarhozefa59@gmail.com'}\n",
      "{'name': 'hozefa', 'age': 19, 'city': 'udaipur', 'email': 'zulfikarhozefa72@gmail.com'}\n",
      "{'name': 'hozefa', 'age': 19, 'city': 'udaipur', 'email': 'amarhozefa59@gmail.com'}\n",
      "{'name': 'nazima', 'age': 45, 'city': 'Udaipur', 'email': 'amarhozefa59@gmail.com'}\n",
      "{(8, 7): 15}\n",
      "15\n",
      "[8, 7]\n"
     ]
    },
    {
     "ename": "TypeError",
     "evalue": "unhashable type: 'list'",
     "output_type": "error",
     "traceback": [
      "\u001b[1;31m---------------------------------------------------------------------------\u001b[0m",
      "\u001b[1;31mTypeError\u001b[0m                                 Traceback (most recent call last)",
      "Cell \u001b[1;32mIn[75], line 48\u001b[0m\n\u001b[0;32m     46\u001b[0m mylist\u001b[38;5;241m=\u001b[39m\u001b[38;5;28mlist\u001b[39m(mytuple)\n\u001b[0;32m     47\u001b[0m \u001b[38;5;28mprint\u001b[39m(mylist)\n\u001b[1;32m---> 48\u001b[0m mydict5\u001b[38;5;241m=\u001b[39m{mylist:\u001b[38;5;241m15\u001b[39m}\n\u001b[0;32m     49\u001b[0m \u001b[38;5;28mprint\u001b[39m(mydict5)\n",
      "\u001b[1;31mTypeError\u001b[0m: unhashable type: 'list'"
     ]
    }
   ],
   "source": [
    "#DICTIONARIES-key-value pair,unordered,mutable(can be changed same as list)\n",
    "mydict={\"name\":\"hozefa\",\"age\":19,\"city\":\"udaipur\"}\n",
    "print(mydict)\n",
    "mydict[\"email\"]=\"hozefaamar198@gmail.com\"\n",
    "print(mydict)\n",
    "\n",
    "for key in mydict:\n",
    "    print(key,end=\" \")\n",
    "  \n",
    "for key in mydict.keys():\n",
    "    print(key,end=\" \")\n",
    "print('\\n')\n",
    "for value in mydict.values():\n",
    "    print(value,end=\" \")\n",
    "    \n",
    "print('\\n')\n",
    "\n",
    "for key,value in mydict.items():\n",
    "    print(f\"{key} -> {value}\")\n",
    "# del mydict[\"age\"]\n",
    "# mydict.pop(\"age\")\n",
    "#mydict.popitem() #it remove last inserted item in a dictionary \n",
    "#print(mydict)\n",
    "\n",
    "mydict1=mydict\n",
    "mydict['email']='amarhozefa59@gmail.com'\n",
    "print(mydict1)\n",
    "print(mydict)\n",
    "\n",
    "\n",
    "mydict2=mydict.copy()\n",
    "mydict2['email']='zulfikarhozefa72@gmail.com'\n",
    "print(mydict2)\n",
    "print(mydict)\n",
    "\n",
    "mydict3=dict(name=\"nazima\",age=45,city=\"Udaipur\")\n",
    "mydict.update(mydict3)\n",
    "print(mydict)\n",
    "\n",
    "\n",
    "mytuple=(8,7)\n",
    "mydict4={mytuple:15}\n",
    "print(mydict4)\n",
    "print(mydict4[(8,7)])\n",
    "\n",
    "mylist=list(mytuple)\n",
    "print(mylist)\n",
    "mydict5={mylist:15}# it will throw an error because list is mutable so it can change that is why and also beacuse it is not hashable\n",
    "print(mydict5)\n"
   ]
  },
  {
   "cell_type": "code",
   "execution_count": 87,
   "id": "a91efe1a",
   "metadata": {},
   "outputs": [
    {
     "name": "stdout",
     "output_type": "stream",
     "text": [
      "{1, 2, 3}\n",
      "<class 'set'>\n",
      "{'o', 'l', 'e', 'H'}\n",
      "<class 'dict'>\n",
      "<class 'set'>\n",
      "{1, 11, 111}\n",
      "{11, 111}\n",
      "{11, 111}\n",
      "{11}\n",
      "1\n"
     ]
    }
   ],
   "source": [
    "##SETS -unordered,mutable,no duplicate\n",
    "myset={1,2,3,3,2,1}\n",
    "print(myset)\n",
    "myset1=set([1,2,3,4,5,6])\n",
    "print(type(myset1))\n",
    "myset2=set(\"Hello\")\n",
    "print(myset2) #it will print unordered element in the set\n",
    "\n",
    "myset3={}\n",
    "print(type(myset3))\n",
    "\n",
    "myset4=set()\n",
    "print(type(myset4))\n",
    "myset4.add(1)\n",
    "myset4.add(11)\n",
    "myset4.add(111)\n",
    "print(myset4)\n",
    "\n",
    "myset4.remove(1)\n",
    "print(myset4)\n",
    "myset4.discard(1111) # it will not give an error when element is not present\n",
    "\n",
    "print(myset4)\n",
    "myset4.discard(111)\n",
    "print(myset4)\n",
    "print(myset.pop()) # it will return the poped out element "
   ]
  },
  {
   "cell_type": "code",
   "execution_count": 15,
   "id": "a67e6b35",
   "metadata": {},
   "outputs": [
    {
     "name": "stdout",
     "output_type": "stream",
     "text": [
      "{1, 2, 3, 4, 5, 6, 7, 8, 9, 10}\n",
      "set()\n",
      "{4, 5, 6, 7, 8, 9}\n",
      "{4, 5, 6, 7, 8, 9, 10, 11, 12, 13}\n",
      "{4, 5, 6, 7, 8, 9, 10, 11, 12, 13}\n"
     ]
    }
   ],
   "source": [
    "odds={1,3,5,7,9}\n",
    "evens={2,4,6,8,10}\n",
    "primes={2,3,5,7,11}\n",
    "u=odds.union(evens)\n",
    "print(u)\n",
    "i=odds.intersection(evens)\n",
    "print(i)\n",
    "setA={1,2,3,4,5,6,7,8,9}\n",
    "setB={1,2,3,10,11,12,13}\n",
    "diff=setA.difference(setB)\n",
    "print(diff)\n",
    "sym=setA.symmetric_difference(setB)\n",
    "print(sym)\n",
    "# setA.update(setB)\n",
    "#setA.intersection_update(setB)\n",
    "#setA.difference_update(setB)\n",
    "setA.symmetric_difference_update(setB)\n",
    "print(setA)"
   ]
  },
  {
   "cell_type": "code",
   "execution_count": 16,
   "id": "d92de9da",
   "metadata": {},
   "outputs": [
    {
     "name": "stdout",
     "output_type": "stream",
     "text": [
      "False\n"
     ]
    }
   ],
   "source": [
    "setA={1,2,3,4,5,6}\n",
    "setB={1,2,3}\n",
    "print(setA.issubset(setB))"
   ]
  },
  {
   "cell_type": "code",
   "execution_count": 19,
   "id": "7d383b6e",
   "metadata": {},
   "outputs": [
    {
     "name": "stdout",
     "output_type": "stream",
     "text": [
      "frozenset({1, 2, 3})\n"
     ]
    },
    {
     "ename": "AttributeError",
     "evalue": "'frozenset' object has no attribute 'remove'",
     "output_type": "error",
     "traceback": [
      "\u001b[1;31m---------------------------------------------------------------------------\u001b[0m",
      "\u001b[1;31mAttributeError\u001b[0m                            Traceback (most recent call last)",
      "Cell \u001b[1;32mIn[19], line 3\u001b[0m\n\u001b[0;32m      1\u001b[0m a\u001b[38;5;241m=\u001b[39m\u001b[38;5;28mfrozenset\u001b[39m([\u001b[38;5;241m1\u001b[39m,\u001b[38;5;241m2\u001b[39m,\u001b[38;5;241m3\u001b[39m])\n\u001b[0;32m      2\u001b[0m \u001b[38;5;28mprint\u001b[39m(a)\n\u001b[1;32m----> 3\u001b[0m \u001b[43ma\u001b[49m\u001b[38;5;241;43m.\u001b[39;49m\u001b[43mremove\u001b[49m(\u001b[38;5;241m2\u001b[39m)\n",
      "\u001b[1;31mAttributeError\u001b[0m: 'frozenset' object has no attribute 'remove'"
     ]
    }
   ],
   "source": [
    "a=frozenset([1,2,3])\n",
    "print(a)\n",
    "a.remove(2)\n",
    "#it will give an error because frozenset is immutable"
   ]
  },
  {
   "cell_type": "code",
   "execution_count": 25,
   "id": "ca19c9f7",
   "metadata": {},
   "outputs": [
    {
     "name": "stdout",
     "output_type": "stream",
     "text": [
      "I'm a Programmer\n",
      " Hello\n",
      "World\n",
      " Hello World\n",
      "Hello World\n",
      "dlroW olleH\n"
     ]
    }
   ],
   "source": [
    "#STRINGS-ordered,unmutable,text representation\n",
    "mystring=\"I'm a Programmer\"\n",
    "print(mystring)\n",
    "mystring1=\"\"\" Hello\n",
    "World\"\"\"\n",
    "print(mystring1)\n",
    "mystring1=\"\"\" Hello \\\n",
    "World\"\"\"\n",
    "print(mystring1)\n",
    "mystring2=\"Hello World\"\n",
    "#mystring2[0]='h' #this will give an error because string is immutable \n",
    "print(mystring2)\n",
    "a=mystring2[::-1]\n",
    "print(a)"
   ]
  },
  {
   "cell_type": "code",
   "execution_count": 28,
   "id": "e0d126f6",
   "metadata": {},
   "outputs": [
    {
     "name": "stdout",
     "output_type": "stream",
     "text": [
      "Salam Papa\n",
      "S a l a m "
     ]
    }
   ],
   "source": [
    "#concatenate two string\n",
    "greeting=\"Salam\"\n",
    "name=\"Papa\"\n",
    "print(greeting+\" \"+name)\n",
    "for i in greeting:\n",
    "    print(i,end=\" \")"
   ]
  },
  {
   "cell_type": "code",
   "execution_count": 5,
   "id": "e31ffe3c",
   "metadata": {},
   "outputs": [
    {
     "name": "stdout",
     "output_type": "stream",
     "text": [
      "HELLO WORLD\n",
      "hello world\n",
      "False\n",
      "False\n",
      "True\n",
      "False\n",
      "-1\n",
      "2\n",
      "Hello Universe\n",
      "Hello World\n"
     ]
    }
   ],
   "source": [
    "mystring=\"Hello World\"\n",
    "print(mystring.upper())\n",
    "print(mystring.lower())\n",
    "print(mystring.isupper())\n",
    "print(mystring.islower())\n",
    "print(mystring.startswith('H'))\n",
    "print(mystring.endswith('L'))\n",
    "print(mystring.find('h'))\n",
    "print(mystring.count('o'))\n",
    "print(mystring.replace('World','Universe'))\n",
    "print(mystring)"
   ]
  },
  {
   "cell_type": "code",
   "execution_count": 14,
   "id": "8da70288",
   "metadata": {},
   "outputs": [
    {
     "name": "stdout",
     "output_type": "stream",
     "text": [
      "hello     world\n"
     ]
    }
   ],
   "source": [
    "mystring='   hello     world'\n",
    "print(mystring.strip())"
   ]
  },
  {
   "cell_type": "code",
   "execution_count": 15,
   "id": "fc928268",
   "metadata": {},
   "outputs": [
    {
     "name": "stdout",
     "output_type": "stream",
     "text": [
      "Hello World\n"
     ]
    }
   ],
   "source": [
    "mystring=\"Hello World\"\n",
    "mystring=mystring.strip('l')\n",
    "print(mystring)"
   ]
  },
  {
   "cell_type": "code",
   "execution_count": 21,
   "id": "773bd390",
   "metadata": {},
   "outputs": [
    {
     "name": "stdout",
     "output_type": "stream",
     "text": [
      "['My', 'name', 'is', 'Hozefa']\n",
      "My name is Hozefa\n"
     ]
    }
   ],
   "source": [
    "mystring=\"My,name,is,Hozefa\"\n",
    "mylist=mystring.split(',')\n",
    "print(mylist)\n",
    "newstring=' '.join(mylist)\n",
    "print(newstring)"
   ]
  },
  {
   "cell_type": "code",
   "execution_count": 23,
   "id": "c006bfe9",
   "metadata": {},
   "outputs": [
    {
     "name": "stdout",
     "output_type": "stream",
     "text": [
      "My name is 19\n"
     ]
    }
   ],
   "source": [
    "#%,fomart(),f-strings\n",
    "#name=\"Hozefa\"\n",
    "age=19\n",
    "mystring=\"My name is %d\"%age\n",
    "print(mystring)"
   ]
  },
  {
   "cell_type": "code",
   "execution_count": 24,
   "id": "a5798d64",
   "metadata": {},
   "outputs": [
    {
     "name": "stdout",
     "output_type": "stream",
     "text": [
      "My name is hozefa\n"
     ]
    }
   ],
   "source": [
    "name=\"hozefa\"\n",
    "mystr=\"My name is {}\".format(name)\n",
    "print(mystr)\n"
   ]
  },
  {
   "cell_type": "code",
   "execution_count": 31,
   "id": "9efda17b",
   "metadata": {},
   "outputs": [
    {
     "name": "stdout",
     "output_type": "stream",
     "text": [
      "Counter({'g': 8, 'd': 7, 'e': 7, 'a': 4, 'b': 4, 'c': 4})\n",
      "[('g', 8), ('d', 7)]\n",
      "['a', 'a', 'a', 'a', 'b', 'b', 'b', 'b', 'c', 'c', 'c', 'c', 'g', 'g', 'g', 'g', 'g', 'g', 'g', 'g', 'd', 'd', 'd', 'd', 'd', 'd', 'd', 'e', 'e', 'e', 'e', 'e', 'e', 'e']\n"
     ]
    }
   ],
   "source": [
    "#collections-counter,namedtuple,OrderedDict,defaultdict,deque\n",
    "from collections import Counter #it create the dictionary of the element in the string it can be same as heap\n",
    "a=\"aaaabbbbccccggggggggdddddddeeeeeee\"\n",
    "my_counter=Counter(a)\n",
    "print(my_counter)\n",
    "print(my_counter.most_common(2))\n",
    "print(list(my_counter.elements()))"
   ]
  },
  {
   "cell_type": "code",
   "execution_count": 36,
   "id": "970312ee",
   "metadata": {},
   "outputs": [
    {
     "name": "stdout",
     "output_type": "stream",
     "text": [
      "Coordinate(x=1, y=2, z=3)\n"
     ]
    }
   ],
   "source": [
    "#namedtuple\n",
    "from collections import namedtuple\n",
    "point=namedtuple('Coordinate','x,y,z')\n",
    "pt=point(1,2,3)\n",
    "print(pt)"
   ]
  },
  {
   "cell_type": "code",
   "execution_count": 44,
   "id": "262b53f4",
   "metadata": {},
   "outputs": [
    {
     "name": "stdout",
     "output_type": "stream",
     "text": [
      "OrderedDict([('a', 1), ('b', 2), ('c', 3), ('d', 4)])\n"
     ]
    }
   ],
   "source": [
    "#ordereddict\n",
    "from collections import OrderedDict\n",
    "ordereddict=OrderedDict()\n",
    "ordereddict['a']=1\n",
    "ordereddict['b']=2\n",
    "ordereddict['c']=3\n",
    "ordereddict['d']=4\n",
    "print(ordereddict)"
   ]
  },
  {
   "cell_type": "code",
   "execution_count": 52,
   "id": "0f1ce549",
   "metadata": {},
   "outputs": [
    {
     "name": "stdout",
     "output_type": "stream",
     "text": [
      "1\n",
      "0\n"
     ]
    }
   ],
   "source": [
    "from collections import defaultdict\n",
    "#it is also known as dfault dictionary\n",
    "d=defaultdict(int)\n",
    "d['a']=1\n",
    "d['b']=2\n",
    "print(d['a'])\n",
    "print(d['v'])"
   ]
  },
  {
   "cell_type": "code",
   "execution_count": 60,
   "id": "11b080ce",
   "metadata": {},
   "outputs": [
    {
     "name": "stdout",
     "output_type": "stream",
     "text": [
      "deque([3, 1, 2])\n",
      "deque([3, 1, 2, 4, 5, 6])\n",
      "deque([6, 3, 1, 2, 4, 5])\n",
      "deque([1, 2, 4, 5, 6, 3])\n"
     ]
    }
   ],
   "source": [
    "from collections import deque\n",
    "d=deque()\n",
    "d.append(1)\n",
    "d.append(2)\n",
    "d.appendleft(3)\n",
    "print(d)\n",
    "#d.pop()\n",
    "d.extend([4,5,6])\n",
    "print(d)\n",
    "d.rotate(1)\n",
    "print(d)\n",
    "d.rotate(-2)\n",
    "print(d)"
   ]
  },
  {
   "cell_type": "markdown",
   "id": "2fe418c6",
   "metadata": {},
   "source": [
    "##Itertools"
   ]
  },
  {
   "cell_type": "code",
   "execution_count": 66,
   "id": "ca267892",
   "metadata": {},
   "outputs": [
    {
     "name": "stdout",
     "output_type": "stream",
     "text": [
      "[(1, 2, 1, 2), (1, 2, 1, 3), (1, 2, 2, 2), (1, 2, 2, 3), (1, 3, 1, 2), (1, 3, 1, 3), (1, 3, 2, 2), (1, 3, 2, 3), (2, 2, 1, 2), (2, 2, 1, 3), (2, 2, 2, 2), (2, 2, 2, 3), (2, 3, 1, 2), (2, 3, 1, 3), (2, 3, 2, 2), (2, 3, 2, 3)]\n"
     ]
    }
   ],
   "source": [
    "#itertools\n",
    "# cartesian product\n",
    "from itertools import product\n",
    "a=[1,2]\n",
    "b=[2,3]\n",
    "pro=product(a,b,repeat=2)\n",
    "print(list(pro))"
   ]
  },
  {
   "cell_type": "code",
   "execution_count": 3,
   "id": "be9b2ee2",
   "metadata": {},
   "outputs": [
    {
     "name": "stdout",
     "output_type": "stream",
     "text": [
      "[('x', 'y', 'z'), ('x', 'z', 'y'), ('y', 'x', 'z'), ('y', 'z', 'x'), ('z', 'x', 'y'), ('z', 'y', 'x')]\n"
     ]
    }
   ],
   "source": [
    "#permutations\n",
    "from itertools import permutations\n",
    "a=\"xyz\"\n",
    "perm=permutations(a) #it is not necessary to give length\n",
    "print(list(perm))"
   ]
  },
  {
   "cell_type": "code",
   "execution_count": 6,
   "id": "3c775ffe",
   "metadata": {},
   "outputs": [
    {
     "name": "stdout",
     "output_type": "stream",
     "text": [
      "[('x', 'y'), ('x', 'z'), ('y', 'z')]\n"
     ]
    }
   ],
   "source": [
    "from itertools import combinations,combinations_with_replacement\n",
    "a=\"xyz\"\n",
    "comb=combinations(a,2)#it is necessary to give lenght\n",
    "print(list(comb))\n",
    "# comb1=combinations_with_replacement(a,2)\n",
    "# print(list(comb1))"
   ]
  },
  {
   "cell_type": "code",
   "execution_count": 85,
   "id": "a86631ce",
   "metadata": {},
   "outputs": [
    {
     "name": "stdout",
     "output_type": "stream",
     "text": [
      "[1, 2, 3, 4]\n",
      "[1, 2, 6, 24]\n"
     ]
    }
   ],
   "source": [
    "from itertools import accumulate\n",
    "import operator\n",
    "a=[1,2,3,4]\n",
    "acc=accumulate(a,func=operator.mul)\n",
    "print(a)\n",
    "print(list(acc))"
   ]
  },
  {
   "cell_type": "code",
   "execution_count": 90,
   "id": "3326c1b6",
   "metadata": {},
   "outputs": [
    {
     "name": "stdout",
     "output_type": "stream",
     "text": [
      "False [1, 3]\n",
      "True [4, 6]\n"
     ]
    }
   ],
   "source": [
    "from itertools import groupby\n",
    "def equal(x):\n",
    "    return x%2==0\n",
    "a=[1,3,4,6]\n",
    "gro=groupby(a,key=equal)\n",
    "for key,value in gro:\n",
    "    print(key,list(value))"
   ]
  },
  {
   "cell_type": "code",
   "execution_count": null,
   "id": "365165e7",
   "metadata": {},
   "outputs": [],
   "source": [
    "from itertools import count,cycle,repeat\n",
    "#for i in count(10):\n",
    "#     print(i)\n",
    "#this will print an infinte loop\n",
    "    "
   ]
  },
  {
   "cell_type": "code",
   "execution_count": null,
   "id": "7e4adaad",
   "metadata": {},
   "outputs": [],
   "source": []
  }
 ],
 "metadata": {
  "kernelspec": {
   "display_name": "Python 3 (ipykernel)",
   "language": "python",
   "name": "python3"
  },
  "language_info": {
   "codemirror_mode": {
    "name": "ipython",
    "version": 3
   },
   "file_extension": ".py",
   "mimetype": "text/x-python",
   "name": "python",
   "nbconvert_exporter": "python",
   "pygments_lexer": "ipython3",
   "version": "3.11.0"
  }
 },
 "nbformat": 4,
 "nbformat_minor": 5
}
