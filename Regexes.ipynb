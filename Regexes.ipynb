{
 "cells": [
  {
   "cell_type": "code",
   "execution_count": 2,
   "id": "d6fd1f2d",
   "metadata": {},
   "outputs": [],
   "source": [
    "import re\n",
    "#re s regular expression module"
   ]
  },
  {
   "cell_type": "code",
   "execution_count": 3,
   "id": "73420708",
   "metadata": {},
   "outputs": [
    {
     "name": "stdout",
     "output_type": "stream",
     "text": [
      "<callable_iterator object at 0x0000024F1B0F2680>\n",
      "<callable_iterator object at 0x0000024F1B0F2680>\n"
     ]
    }
   ],
   "source": [
    "string1='123abc456abc789ABC'\n",
    "patterns=re.compile(r\"abc\") #here r is raw string\n",
    "matches=patterns.finditer(string1)\n",
    "#matches=re.finditer(r\"abc\",string1)\n",
    "#print(match for match in matches)\n",
    "for match in matches:\n",
    "     print(matches)"
   ]
  },
  {
   "cell_type": "code",
   "execution_count": 4,
   "id": "51a2c6c9",
   "metadata": {},
   "outputs": [
    {
     "name": "stdout",
     "output_type": "stream",
     "text": [
      "['abc', 'abc']\n",
      "['abc', 'abc']\n"
     ]
    }
   ],
   "source": [
    "string1='123abc456abc789ABC'\n",
    "patterns=re.compile(r\"abc\") #here r is raw string\n",
    "matches=patterns.findall(string1)\n",
    "for match in matches:\n",
    "     print(matches)"
   ]
  },
  {
   "cell_type": "code",
   "execution_count": 6,
   "id": "c0899cfd",
   "metadata": {},
   "outputs": [
    {
     "name": "stdout",
     "output_type": "stream",
     "text": [
      "<re.Match object; span=(0, 3), match='123'>\n"
     ]
    }
   ],
   "source": [
    "string1='123abc456abc789ABC'\n",
    "patterns=re.compile(r\"123\") #here r is raw string\n",
    "match=patterns.match(string1)\n",
    "print(match)"
   ]
  },
  {
   "cell_type": "code",
   "execution_count": 7,
   "id": "b14280d4",
   "metadata": {},
   "outputs": [
    {
     "name": "stdout",
     "output_type": "stream",
     "text": [
      "<re.Match object; span=(3, 6), match='abc'>\n"
     ]
    }
   ],
   "source": [
    "string1='123abc456abc789ABC'\n",
    "patterns=re.compile(r\"abc\")\n",
    "match=patterns.search(string1)\n",
    "print(match)"
   ]
  },
  {
   "cell_type": "code",
   "execution_count": 11,
   "id": "6bea94ed",
   "metadata": {},
   "outputs": [
    {
     "name": "stdout",
     "output_type": "stream",
     "text": [
      "abc\n",
      "abc\n"
     ]
    }
   ],
   "source": [
    "string1='123abc456abc789ABC'\n",
    "patterns=re.compile(r\"abc\")\n",
    "matches=patterns.finditer(string1)\n",
    "for match in matches:\n",
    "    print(match.group(0))"
   ]
  },
  {
   "cell_type": "code",
   "execution_count": 12,
   "id": "016985a8",
   "metadata": {},
   "outputs": [
    {
     "name": "stdout",
     "output_type": "stream",
     "text": [
      "1\n",
      "2\n",
      "3\n",
      "a\n",
      "b\n",
      "c\n",
      "4\n",
      "5\n",
      "6\n",
      "a\n",
      "b\n",
      "c\n",
      "7\n",
      "8\n",
      "9\n",
      "A\n",
      "B\n",
      "C\n"
     ]
    }
   ],
   "source": [
    "# all meta character or anchors: . ^ $ * + ? { } [ ] \\ | ( )\n",
    "# .any character\n",
    "# ^ starts with character\n",
    "# $ends with\n",
    "\n",
    "string1='123abc456abc789ABC'\n",
    "patterns=re.compile(r\".\")\n",
    "matches=patterns.finditer(string1)\n",
    "for match in matches:\n",
    "    print(match.group(0))"
   ]
  },
  {
   "cell_type": "code",
   "execution_count": 13,
   "id": "bf862f29",
   "metadata": {},
   "outputs": [
    {
     "name": "stdout",
     "output_type": "stream",
     "text": [
      ".\n"
     ]
    }
   ],
   "source": [
    "string1='123abc456abc789ABC.'\n",
    "patterns=re.compile(r\"\\.\")\n",
    "matches=patterns.finditer(string1)\n",
    "for match in matches:\n",
    "    print(match.group(0))"
   ]
  },
  {
   "cell_type": "code",
   "execution_count": 16,
   "id": "dd1c8200",
   "metadata": {},
   "outputs": [
    {
     "name": "stdout",
     "output_type": "stream",
     "text": [
      "123\n"
     ]
    }
   ],
   "source": [
    "string1='123abc456abc789ABC'\n",
    "patterns=re.compile(r\"^123\")\n",
    "matches=patterns.finditer(string1)\n",
    "for match in matches:\n",
    "    print(match.group(0))"
   ]
  },
  {
   "cell_type": "code",
   "execution_count": 18,
   "id": "a7e55b2d",
   "metadata": {},
   "outputs": [
    {
     "name": "stdout",
     "output_type": "stream",
     "text": [
      "ABC\n"
     ]
    }
   ],
   "source": [
    "string1='123abc456abc789ABC'\n",
    "patterns=re.compile(r\"ABC$\")\n",
    "matches=patterns.finditer(string1)\n",
    "for match in matches:\n",
    "    print(match.group(0))"
   ]
  },
  {
   "cell_type": "markdown",
   "id": "448e6541",
   "metadata": {},
   "source": [
    "##SETS"
   ]
  },
  {
   "cell_type": "code",
   "execution_count": 4,
   "id": "aedd0f8e",
   "metadata": {},
   "outputs": [
    {
     "name": "stdout",
     "output_type": "stream",
     "text": [
      "<re.Match object; span=(6, 7), match='1'>\n",
      "<re.Match object; span=(7, 8), match='2'>\n",
      "<re.Match object; span=(8, 9), match='3'>\n"
     ]
    }
   ],
   "source": [
    "string2='hello 123_ hohey heyho'\n",
    "patterns=re.compile(r\"\\d\") #digit number\n",
    "matches=patterns.finditer(string2)\n",
    "for match in matches: \n",
    "    print(match)"
   ]
  },
  {
   "cell_type": "code",
   "execution_count": 5,
   "id": "71e5e062",
   "metadata": {},
   "outputs": [
    {
     "name": "stdout",
     "output_type": "stream",
     "text": [
      "<re.Match object; span=(0, 1), match='h'>\n",
      "<re.Match object; span=(1, 2), match='e'>\n",
      "<re.Match object; span=(2, 3), match='l'>\n",
      "<re.Match object; span=(3, 4), match='l'>\n",
      "<re.Match object; span=(4, 5), match='o'>\n",
      "<re.Match object; span=(5, 6), match=' '>\n",
      "<re.Match object; span=(9, 10), match='_'>\n",
      "<re.Match object; span=(10, 11), match=' '>\n",
      "<re.Match object; span=(11, 12), match='h'>\n",
      "<re.Match object; span=(12, 13), match='o'>\n",
      "<re.Match object; span=(13, 14), match='h'>\n",
      "<re.Match object; span=(14, 15), match='e'>\n",
      "<re.Match object; span=(15, 16), match='y'>\n",
      "<re.Match object; span=(16, 17), match=' '>\n",
      "<re.Match object; span=(17, 18), match='h'>\n",
      "<re.Match object; span=(18, 19), match='e'>\n",
      "<re.Match object; span=(19, 20), match='y'>\n",
      "<re.Match object; span=(20, 21), match='h'>\n",
      "<re.Match object; span=(21, 22), match='o'>\n"
     ]
    }
   ],
   "source": [
    "string2='hello 123_ hohey heyho'\n",
    "patterns=re.compile(r\"\\D\") #non digit number\n",
    "matches=patterns.finditer(string2)\n",
    "for match in matches:\n",
    "    print(match)"
   ]
  },
  {
   "cell_type": "code",
   "execution_count": 6,
   "id": "022022bd",
   "metadata": {},
   "outputs": [
    {
     "name": "stdout",
     "output_type": "stream",
     "text": [
      "<re.Match object; span=(5, 6), match=' '>\n",
      "<re.Match object; span=(10, 11), match=' '>\n",
      "<re.Match object; span=(16, 17), match=' '>\n"
     ]
    }
   ],
   "source": [
    "string2='hello 123_ hohey heyho'\n",
    "patterns=re.compile(r\"\\s\") #whitespace digit\n",
    "matches=patterns.finditer(string2)\n",
    "for match in matches:\n",
    "    print(match)"
   ]
  },
  {
   "cell_type": "code",
   "execution_count": 7,
   "id": "91582550",
   "metadata": {},
   "outputs": [
    {
     "name": "stdout",
     "output_type": "stream",
     "text": [
      "<re.Match object; span=(0, 1), match='h'>\n",
      "<re.Match object; span=(1, 2), match='e'>\n",
      "<re.Match object; span=(2, 3), match='l'>\n",
      "<re.Match object; span=(3, 4), match='l'>\n",
      "<re.Match object; span=(4, 5), match='o'>\n",
      "<re.Match object; span=(6, 7), match='1'>\n",
      "<re.Match object; span=(7, 8), match='2'>\n",
      "<re.Match object; span=(8, 9), match='3'>\n",
      "<re.Match object; span=(9, 10), match='_'>\n",
      "<re.Match object; span=(11, 12), match='h'>\n",
      "<re.Match object; span=(12, 13), match='o'>\n",
      "<re.Match object; span=(13, 14), match='h'>\n",
      "<re.Match object; span=(14, 15), match='e'>\n",
      "<re.Match object; span=(15, 16), match='y'>\n",
      "<re.Match object; span=(17, 18), match='h'>\n",
      "<re.Match object; span=(18, 19), match='e'>\n",
      "<re.Match object; span=(19, 20), match='y'>\n",
      "<re.Match object; span=(20, 21), match='h'>\n",
      "<re.Match object; span=(21, 22), match='o'>\n"
     ]
    }
   ],
   "source": [
    "string2='hello 123_ hohey heyho'\n",
    "patterns=re.compile(r\"\\S\") #non whitespace digit\n",
    "matches=patterns.finditer(string2)\n",
    "for match in matches:\n",
    "    print(match)"
   ]
  },
  {
   "cell_type": "code",
   "execution_count": 8,
   "id": "58536511",
   "metadata": {},
   "outputs": [
    {
     "name": "stdout",
     "output_type": "stream",
     "text": [
      "<re.Match object; span=(0, 1), match='h'>\n",
      "<re.Match object; span=(1, 2), match='e'>\n",
      "<re.Match object; span=(2, 3), match='l'>\n",
      "<re.Match object; span=(3, 4), match='l'>\n",
      "<re.Match object; span=(4, 5), match='o'>\n",
      "<re.Match object; span=(6, 7), match='1'>\n",
      "<re.Match object; span=(7, 8), match='2'>\n",
      "<re.Match object; span=(8, 9), match='3'>\n",
      "<re.Match object; span=(9, 10), match='_'>\n",
      "<re.Match object; span=(11, 12), match='h'>\n",
      "<re.Match object; span=(12, 13), match='o'>\n",
      "<re.Match object; span=(13, 14), match='h'>\n",
      "<re.Match object; span=(14, 15), match='e'>\n",
      "<re.Match object; span=(15, 16), match='y'>\n",
      "<re.Match object; span=(17, 18), match='h'>\n",
      "<re.Match object; span=(18, 19), match='e'>\n",
      "<re.Match object; span=(19, 20), match='y'>\n",
      "<re.Match object; span=(20, 21), match='h'>\n",
      "<re.Match object; span=(21, 22), match='o'>\n"
     ]
    }
   ],
   "source": [
    "string2='hello 123_ hohey heyho'\n",
    "patterns=re.compile(r\"\\w\") #alphanumeric\n",
    "matches=patterns.finditer(string2)\n",
    "for match in matches:\n",
    "    print(match)"
   ]
  },
  {
   "cell_type": "code",
   "execution_count": 9,
   "id": "31aded12",
   "metadata": {},
   "outputs": [
    {
     "name": "stdout",
     "output_type": "stream",
     "text": [
      "<re.Match object; span=(5, 6), match=' '>\n",
      "<re.Match object; span=(10, 11), match=' '>\n",
      "<re.Match object; span=(16, 17), match=' '>\n"
     ]
    }
   ],
   "source": [
    "string2='hello 123_ hohey heyho'\n",
    "patterns=re.compile(r\"\\W\") #nin alphanumeric\n",
    "matches=patterns.finditer(string2)\n",
    "for match in matches:\n",
    "    print(match)"
   ]
  },
  {
   "cell_type": "code",
   "execution_count": 10,
   "id": "e78f761a",
   "metadata": {},
   "outputs": [
    {
     "name": "stdout",
     "output_type": "stream",
     "text": [
      "<re.Match object; span=(0, 5), match='hello'>\n"
     ]
    }
   ],
   "source": [
    "string2='hello 123_ hohey heyho'\n",
    "patterns=re.compile(r\"\\bhello\")\n",
    "matches=patterns.finditer(string2)\n",
    "for match in matches:\n",
    "    print(match)"
   ]
  },
  {
   "cell_type": "code",
   "execution_count": 12,
   "id": "375346a9",
   "metadata": {},
   "outputs": [
    {
     "name": "stdout",
     "output_type": "stream",
     "text": [
      "<re.Match object; span=(11, 14), match='hey'>\n",
      "<re.Match object; span=(15, 18), match='hey'>\n"
     ]
    }
   ],
   "source": [
    "string2='hello 123_ hey heyho'\n",
    "patterns=re.compile(r\"\\bhey\") #at the begining or at the end of the word\n",
    "matches=patterns.finditer(string2)\n",
    "for match in matches:\n",
    "    print(match)"
   ]
  },
  {
   "cell_type": "code",
   "execution_count": 13,
   "id": "c59844ca",
   "metadata": {},
   "outputs": [
    {
     "name": "stdout",
     "output_type": "stream",
     "text": [
      "<re.Match object; span=(13, 16), match='hey'>\n"
     ]
    }
   ],
   "source": [
    "string2='hello 123_ hohey heyho'\n",
    "patterns=re.compile(r\"\\Bhey\") #only at the end of the word \n",
    "matches=patterns.finditer(string2)\n",
    "for match in matches:\n",
    "    print(match)"
   ]
  },
  {
   "cell_type": "code",
   "execution_count": 21,
   "id": "355f0e0b",
   "metadata": {},
   "outputs": [
    {
     "name": "stdout",
     "output_type": "stream",
     "text": [
      "<re.Match object; span=(0, 1), match='h'>\n",
      "<re.Match object; span=(1, 2), match='e'>\n",
      "<re.Match object; span=(2, 3), match='l'>\n",
      "<re.Match object; span=(3, 4), match='l'>\n",
      "<re.Match object; span=(4, 5), match='o'>\n",
      "<re.Match object; span=(5, 6), match='H'>\n",
      "<re.Match object; span=(6, 7), match='E'>\n",
      "<re.Match object; span=(7, 8), match='L'>\n",
      "<re.Match object; span=(8, 9), match='L'>\n",
      "<re.Match object; span=(9, 10), match='O'>\n",
      "<re.Match object; span=(11, 12), match='1'>\n",
      "<re.Match object; span=(12, 13), match='2'>\n",
      "<re.Match object; span=(13, 14), match='3'>\n",
      "<re.Match object; span=(16, 17), match='h'>\n",
      "<re.Match object; span=(17, 18), match='o'>\n",
      "<re.Match object; span=(18, 19), match='h'>\n",
      "<re.Match object; span=(19, 20), match='e'>\n",
      "<re.Match object; span=(20, 21), match='y'>\n",
      "<re.Match object; span=(22, 23), match='h'>\n",
      "<re.Match object; span=(23, 24), match='e'>\n",
      "<re.Match object; span=(24, 25), match='y'>\n",
      "<re.Match object; span=(25, 26), match='h'>\n",
      "<re.Match object; span=(26, 27), match='o'>\n"
     ]
    }
   ],
   "source": [
    "string2='helloHELLO 123_ hohey heyho'\n",
    "patterns=re.compile(r\"[A-Za-z0-9]\")\n",
    "matches=patterns.finditer(string2)\n",
    "for match in matches:\n",
    "    print(match)"
   ]
  },
  {
   "cell_type": "markdown",
   "id": "8b784dac",
   "metadata": {},
   "source": [
    "#Quantifiers"
   ]
  },
  {
   "cell_type": "code",
   "execution_count": 24,
   "id": "3ea7b6b5",
   "metadata": {},
   "outputs": [
    {
     "name": "stdout",
     "output_type": "stream",
     "text": [
      "<re.Match object; span=(6, 9), match='123'>\n"
     ]
    }
   ],
   "source": [
    "string2='hello 123_ hohey heyho'\n",
    "patterns=re.compile(r\"\\d+\")\n",
    "matches=patterns.finditer(string2)\n",
    "for match in matches:\n",
    "    print(match)"
   ]
  },
  {
   "cell_type": "code",
   "execution_count": 25,
   "id": "61c943c3",
   "metadata": {},
   "outputs": [
    {
     "name": "stdout",
     "output_type": "stream",
     "text": [
      "<re.Match object; span=(0, 0), match=''>\n",
      "<re.Match object; span=(1, 1), match=''>\n",
      "<re.Match object; span=(2, 2), match=''>\n",
      "<re.Match object; span=(3, 3), match=''>\n",
      "<re.Match object; span=(4, 4), match=''>\n",
      "<re.Match object; span=(5, 5), match=''>\n",
      "<re.Match object; span=(6, 9), match='123'>\n",
      "<re.Match object; span=(9, 9), match=''>\n",
      "<re.Match object; span=(10, 10), match=''>\n",
      "<re.Match object; span=(11, 11), match=''>\n",
      "<re.Match object; span=(12, 12), match=''>\n",
      "<re.Match object; span=(13, 13), match=''>\n",
      "<re.Match object; span=(14, 14), match=''>\n",
      "<re.Match object; span=(15, 15), match=''>\n",
      "<re.Match object; span=(16, 16), match=''>\n",
      "<re.Match object; span=(17, 17), match=''>\n",
      "<re.Match object; span=(18, 18), match=''>\n",
      "<re.Match object; span=(19, 19), match=''>\n",
      "<re.Match object; span=(20, 20), match=''>\n",
      "<re.Match object; span=(21, 21), match=''>\n",
      "<re.Match object; span=(22, 22), match=''>\n"
     ]
    }
   ],
   "source": [
    "string2='hello 123_ hohey heyho'\n",
    "patterns=re.compile(r\"\\d*\")\n",
    "matches=patterns.finditer(string2)\n",
    "for match in matches:\n",
    "    print(match)"
   ]
  },
  {
   "cell_type": "code",
   "execution_count": 26,
   "id": "f4cb15aa",
   "metadata": {},
   "outputs": [
    {
     "name": "stdout",
     "output_type": "stream",
     "text": [
      "<re.Match object; span=(8, 10), match='3_'>\n"
     ]
    }
   ],
   "source": [
    "string2='hello 123_ hohey heyho'\n",
    "patterns=re.compile(r\"\\d_\")\n",
    "matches=patterns.finditer(string2)\n",
    "for match in matches:\n",
    "    print(match)"
   ]
  },
  {
   "cell_type": "code",
   "execution_count": 28,
   "id": "a707d01b",
   "metadata": {},
   "outputs": [
    {
     "name": "stdout",
     "output_type": "stream",
     "text": [
      "<re.Match object; span=(6, 7), match='1'>\n",
      "<re.Match object; span=(7, 8), match='2'>\n",
      "<re.Match object; span=(8, 10), match='3_'>\n"
     ]
    }
   ],
   "source": [
    "string2='hello 123_ hohey heyho'\n",
    "patterns=re.compile(r\"\\d_?\")\n",
    "matches=patterns.finditer(string2)\n",
    "for match in matches:\n",
    "    print(match)"
   ]
  },
  {
   "cell_type": "code",
   "execution_count": 29,
   "id": "501d8886",
   "metadata": {},
   "outputs": [
    {
     "name": "stdout",
     "output_type": "stream",
     "text": [
      "<re.Match object; span=(6, 9), match='123'>\n"
     ]
    }
   ],
   "source": [
    "string2='hello 123_ hohey heyho'\n",
    "patterns=re.compile(r\"\\d{3}\")\n",
    "matches=patterns.finditer(string2)\n",
    "for match in matches:\n",
    "    print(match)"
   ]
  },
  {
   "cell_type": "code",
   "execution_count": 30,
   "id": "48d9f8be",
   "metadata": {},
   "outputs": [
    {
     "name": "stdout",
     "output_type": "stream",
     "text": [
      "<re.Match object; span=(6, 9), match='123'>\n"
     ]
    }
   ],
   "source": [
    "string2='hello 123_ hohey heyho'\n",
    "patterns=re.compile(r\"\\d{1,3}\")\n",
    "matches=patterns.finditer(string2)\n",
    "for match in matches:\n",
    "    print(match)"
   ]
  },
  {
   "cell_type": "code",
   "execution_count": 36,
   "id": "9e6578ea",
   "metadata": {},
   "outputs": [
    {
     "name": "stdout",
     "output_type": "stream",
     "text": [
      "<re.Match object; span=(1, 3), match='01'>\n",
      "<re.Match object; span=(4, 6), match='04'>\n",
      "<re.Match object; span=(7, 10), match='202'>\n",
      "<re.Match object; span=(10, 11), match='0'>\n",
      "<re.Match object; span=(13, 16), match='202'>\n",
      "<re.Match object; span=(16, 17), match='0'>\n",
      "<re.Match object; span=(18, 20), match='04'>\n",
      "<re.Match object; span=(21, 23), match='01'>\n",
      "<re.Match object; span=(25, 28), match='202'>\n",
      "<re.Match object; span=(28, 29), match='0'>\n",
      "<re.Match object; span=(30, 32), match='04'>\n",
      "<re.Match object; span=(33, 35), match='01'>\n",
      "<re.Match object; span=(36, 39), match='202'>\n",
      "<re.Match object; span=(39, 40), match='0'>\n",
      "<re.Match object; span=(41, 43), match='05'>\n",
      "<re.Match object; span=(44, 46), match='23'>\n",
      "<re.Match object; span=(47, 50), match='202'>\n",
      "<re.Match object; span=(50, 51), match='0'>\n",
      "<re.Match object; span=(52, 54), match='06'>\n",
      "<re.Match object; span=(55, 57), match='11'>\n",
      "<re.Match object; span=(58, 61), match='202'>\n",
      "<re.Match object; span=(61, 62), match='0'>\n",
      "<re.Match object; span=(63, 65), match='07'>\n",
      "<re.Match object; span=(66, 68), match='11'>\n",
      "<re.Match object; span=(69, 72), match='202'>\n",
      "<re.Match object; span=(72, 73), match='0'>\n",
      "<re.Match object; span=(74, 76), match='08'>\n",
      "<re.Match object; span=(77, 79), match='11'>\n",
      "<re.Match object; span=(81, 84), match='202'>\n",
      "<re.Match object; span=(84, 85), match='0'>\n",
      "<re.Match object; span=(86, 88), match='04'>\n",
      "<re.Match object; span=(89, 91), match='02'>\n",
      "<re.Match object; span=(93, 96), match='202'>\n",
      "<re.Match object; span=(96, 97), match='0'>\n",
      "<re.Match object; span=(98, 100), match='04'>\n",
      "<re.Match object; span=(101, 103), match='04'>\n",
      "<re.Match object; span=(104, 107), match='202'>\n",
      "<re.Match object; span=(107, 108), match='0'>\n",
      "<re.Match object; span=(109, 111), match='04'>\n",
      "<re.Match object; span=(112, 114), match='04'>\n"
     ]
    }
   ],
   "source": [
    "dates=\"\"\"\n",
    "01.04.2020\n",
    "\n",
    "2020.04.01\n",
    "\n",
    "2020-04-01\n",
    "2020-05-23\n",
    "2020-06-11\n",
    "2020-07-11\n",
    "2020-08-11\n",
    "\n",
    "2020/04/02\n",
    "\n",
    "2020_04_04\n",
    "2020_04_04\n",
    "\"\"\"\n",
    "pattens=re.compile(r\"\\d\\d\\d\\d[-/]\\d\\d[-/]\\d\\d\")\n",
    "matches=patterns.finditer(dates)\n",
    "for match in matches:\n",
    "    print(match)"
   ]
  },
  {
   "cell_type": "markdown",
   "id": "e6dae31c",
   "metadata": {},
   "source": [
    "#PATTERN MATCHING"
   ]
  },
  {
   "cell_type": "code",
   "execution_count": 37,
   "id": "a2239baf",
   "metadata": {},
   "outputs": [
    {
     "data": {
      "text/plain": [
       "['A', 'A', 'A', 'A', 'A', 'A', 'A']"
      ]
     },
     "execution_count": 37,
     "metadata": {},
     "output_type": "execute_result"
    }
   ],
   "source": [
    "grades='AAABCABABACACCCCC'\n",
    "re.findall('A',grades)"
   ]
  },
  {
   "cell_type": "code",
   "execution_count": 38,
   "id": "9e4fc386",
   "metadata": {},
   "outputs": [
    {
     "data": {
      "text/plain": [
       "['AB', 'AB', 'AB']"
      ]
     },
     "execution_count": 38,
     "metadata": {},
     "output_type": "execute_result"
    }
   ],
   "source": [
    "re.findall('AB',grades)\n"
   ]
  },
  {
   "cell_type": "code",
   "execution_count": 39,
   "id": "ab5fcad8",
   "metadata": {},
   "outputs": [
    {
     "data": {
      "text/plain": [
       "['A']"
      ]
     },
     "execution_count": 39,
     "metadata": {},
     "output_type": "execute_result"
    }
   ],
   "source": [
    "re.findall('^A',grades)"
   ]
  },
  {
   "cell_type": "code",
   "execution_count": 40,
   "id": "2abcd0b1",
   "metadata": {},
   "outputs": [
    {
     "data": {
      "text/plain": [
       "<re.Match object; span=(0, 1), match='A'>"
      ]
     },
     "execution_count": 40,
     "metadata": {},
     "output_type": "execute_result"
    }
   ],
   "source": [
    "re.search('^A',grades)"
   ]
  },
  {
   "cell_type": "code",
   "execution_count": 41,
   "id": "8e58f035",
   "metadata": {},
   "outputs": [
    {
     "data": {
      "text/plain": [
       "<re.Match object; span=(0, 1), match='A'>"
      ]
     },
     "execution_count": 41,
     "metadata": {},
     "output_type": "execute_result"
    }
   ],
   "source": [
    "re.match('^A',grades)"
   ]
  },
  {
   "cell_type": "code",
   "execution_count": 45,
   "id": "78179603",
   "metadata": {},
   "outputs": [
    {
     "data": {
      "text/plain": [
       "['AB', 'AB', 'AB', 'AC', 'AC']"
      ]
     },
     "execution_count": 45,
     "metadata": {},
     "output_type": "execute_result"
    }
   ],
   "source": [
    "re.findall('[A][B-C]',grades)"
   ]
  },
  {
   "cell_type": "code",
   "execution_count": 47,
   "id": "30a4c23d",
   "metadata": {},
   "outputs": [
    {
     "data": {
      "text/plain": [
       "['A', 'A', 'A', 'B', 'A', 'B', 'A', 'B', 'A', 'A']"
      ]
     },
     "execution_count": 47,
     "metadata": {},
     "output_type": "execute_result"
    }
   ],
   "source": [
    "re.findall('[AB]',grades)"
   ]
  },
  {
   "cell_type": "code",
   "execution_count": 48,
   "id": "8f40bea9",
   "metadata": {},
   "outputs": [
    {
     "data": {
      "text/plain": [
       "['AB', 'AB', 'AB', 'AC', 'AC']"
      ]
     },
     "execution_count": 48,
     "metadata": {},
     "output_type": "execute_result"
    }
   ],
   "source": [
    "re.findall('AB|AC',grades)"
   ]
  },
  {
   "cell_type": "code",
   "execution_count": 49,
   "id": "9d9c96c2",
   "metadata": {},
   "outputs": [
    {
     "data": {
      "text/plain": [
       "['B', 'C', 'B', 'B', 'C', 'C', 'C', 'C', 'C', 'C']"
      ]
     },
     "execution_count": 49,
     "metadata": {},
     "output_type": "execute_result"
    }
   ],
   "source": [
    "re.findall('[^A]',grades)"
   ]
  },
  {
   "cell_type": "code",
   "execution_count": 52,
   "id": "f7a77947",
   "metadata": {},
   "outputs": [
    {
     "data": {
      "text/plain": [
       "[]"
      ]
     },
     "execution_count": 52,
     "metadata": {},
     "output_type": "execute_result"
    }
   ],
   "source": [
    "re.findall('^[^A]',grades)"
   ]
  },
  {
   "cell_type": "code",
   "execution_count": null,
   "id": "eb27316a",
   "metadata": {},
   "outputs": [],
   "source": []
  }
 ],
 "metadata": {
  "kernelspec": {
   "display_name": "Python 3 (ipykernel)",
   "language": "python",
   "name": "python3"
  },
  "language_info": {
   "codemirror_mode": {
    "name": "ipython",
    "version": 3
   },
   "file_extension": ".py",
   "mimetype": "text/x-python",
   "name": "python",
   "nbconvert_exporter": "python",
   "pygments_lexer": "ipython3",
   "version": "3.11.0"
  }
 },
 "nbformat": 4,
 "nbformat_minor": 5
}
